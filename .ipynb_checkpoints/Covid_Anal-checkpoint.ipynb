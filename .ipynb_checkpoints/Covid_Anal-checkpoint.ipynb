{
 "cells": [
  {
   "cell_type": "code",
   "execution_count": 1,
   "metadata": {},
   "outputs": [],
   "source": [
    "import plotly.express as px\n",
    "import numpy as np\n",
    "import pandas as pd\n",
    "import DataClean\n",
    "import datetime\n",
    "import os\n",
    "# import plotly.graph_objects as go"
   ]
  },
  {
   "cell_type": "code",
   "execution_count": 24,
   "metadata": {},
   "outputs": [],
   "source": [
    "import pickle"
   ]
  },
  {
   "cell_type": "code",
   "execution_count": 25,
   "metadata": {},
   "outputs": [],
   "source": [
    "dat = pickle.load(open('compiled_data.p', 'rb'))\n",
    "countries = list(dat.index.get_level_values(0).unique())\n",
    "stats = list(dat.columns)\n",
    "stat_map = {\n",
    "    'DailyPosTestRate': 'Daily Positive Test Rate',\n",
    "    'Confirmed': 'Confirmed Tests',\n",
    "    'NewTests': 'Daily New Tests',\n",
    "    'CumulativePosTestRate': 'Cumulative Positive Test Rate',\n",
    "    'NewCases': 'New Cases',\n",
    "    'TotalTests': 'Total Tests',\n",
    "    'ConfirmedGrowth': 'Daily Confirmed Cases Growth (%)',\n",
    "    'CumulativeDeathRate': 'Cumulative Death Rate',\n",
    "    'HospitalizationRate': 'Hospitalization Rate',\n",
    "    'TotalTestsPer10k': 'Total Tests per 10k Population',\n",
    "    'ConfirmedPer10k': 'Total Confirmed per 10k Population',\n",
    "    'NewTestsPer10k': 'Daily Tests per 10k Population'\n",
    "}\n",
    "\n",
    "xs = ['DaysSinceFirst', 'Date', 'DaysSinceTenthDeath', 'DaysSinceShutdown']\n",
    "xs_map = {'DaysSinceFirst': 'Days Since First Confirmed',\n",
    "         'DaysSinceTenthDeath': 'Days Since 10th Death',\n",
    "         'DaysSinceShutdown': 'Days Since Economic Shutdown'}"
   ]
  },
  {
   "cell_type": "markdown",
   "metadata": {},
   "source": [
    "# Important Dates by Country:\n",
    "\n",
    "### Peru\n",
    "- Sourhces: ministerio de salud, wikipedia page\n",
    "* March 11 - Declaran emergencia sanitaria por 90 dias\n",
    "* March 13 - Suspenden vuelos internacional desde Europa y Asia\n",
    "* March 16 - Teletrabajo para todos menos los esenciales\n",
    "* March 17 - Cierran fronteras\n",
    "* March 18 - Cuarentena general entre 8PM y 5 AM.\n",
    "* https://www.dge.gob.pe/portal/\n",
    "\n",
    "### Panama\n",
    "* Something\n",
    "\n",
    "### Guatemala\n",
    "- Source: Alejandro Giammattei twitter\n",
    "* March 22 - Cuarentena general entre 4 PM y 4 AM por 8 dias"
   ]
  },
  {
   "cell_type": "markdown",
   "metadata": {},
   "source": [
    "### Testing Analysis stuff"
   ]
  },
  {
   "cell_type": "code",
   "execution_count": 168,
   "metadata": {},
   "outputs": [],
   "source": [
    "import requests\n",
    "from sodapy import Socrata\n",
    "import pandas as pd\n",
    "import numpy as np\n",
    "import datetime"
   ]
  },
  {
   "cell_type": "code",
   "execution_count": 142,
   "metadata": {},
   "outputs": [],
   "source": [
    "client = Socrata(\"datos.gov.co\",\n",
    "                 \"aSEItRti2CveuMdUcoBfyeWTQ\",\n",
    "                )\n",
    "#                  user = \"abishalom\",\n",
    "#                  password = \"PAi#%4NHPQhu4z\")\n",
    "\n",
    "results = client.get(\"gt2j-8ykr\", limit = 100000)\n",
    "\n",
    "results = pd.DataFrame.from_records(results)\n",
    "\n",
    "# results"
   ]
  },
  {
   "cell_type": "code",
   "execution_count": 143,
   "metadata": {},
   "outputs": [],
   "source": [
    "#filter out babies that have ages in months\n",
    "results = results[~results.edad.str.contains('mes')]\n",
    "\n",
    "new_map = {\n",
    "    'fecha_de_diagn_stico': 'fecha_de_diagnostico',\n",
    "    'ciudad_de_ubicaci_n' : 'ciudad_de_ubicacion',\n",
    "    'atenci_n': 'atencion',\n",
    "    'pa_s_de_procedencia': ' pais_de_procedencia'\n",
    "}\n",
    "results = results.rename(columns = new_map)\n",
    "results.fecha_de_diagnostico = pd.to_datetime(results.fecha_de_diagnostico)\n",
    "results.fecha_recuperado = results.fecha_recuperado.replace({'No': np.nan})\n",
    "results.fecha_recuperado = pd.to_datetime(results.fecha_recuperado)\n",
    "results.fis = results.fis.replace(['Asintomático', 'No disponible'], np.nan)\n",
    "results.fis = pd.to_datetime(results.fis)\n",
    "results.fecha_de_muerte = pd.to_datetime(results.fecha_de_muerte)\n",
    "\n",
    "results.id_de_caso = results.id_de_caso.astype('int32')\n",
    "results.edad = results.edad.astype('int32')\n",
    "\n",
    "results = results.set_index(\"id_de_caso\")"
   ]
  },
  {
   "cell_type": "code",
   "execution_count": 156,
   "metadata": {},
   "outputs": [
    {
     "data": {
      "text/html": [
       "<div>\n",
       "<style scoped>\n",
       "    .dataframe tbody tr th:only-of-type {\n",
       "        vertical-align: middle;\n",
       "    }\n",
       "\n",
       "    .dataframe tbody tr th {\n",
       "        vertical-align: top;\n",
       "    }\n",
       "\n",
       "    .dataframe thead th {\n",
       "        text-align: right;\n",
       "    }\n",
       "</style>\n",
       "<table border=\"1\" class=\"dataframe\">\n",
       "  <thead>\n",
       "    <tr style=\"text-align: right;\">\n",
       "      <th></th>\n",
       "      <th>2020-04-19</th>\n",
       "    </tr>\n",
       "    <tr>\n",
       "      <th>id_de_caso</th>\n",
       "      <th></th>\n",
       "    </tr>\n",
       "  </thead>\n",
       "  <tbody>\n",
       "    <tr>\n",
       "      <th>1</th>\n",
       "      <td>Recuperado</td>\n",
       "    </tr>\n",
       "    <tr>\n",
       "      <th>2</th>\n",
       "      <td>Recuperado</td>\n",
       "    </tr>\n",
       "    <tr>\n",
       "      <th>3</th>\n",
       "      <td>Recuperado</td>\n",
       "    </tr>\n",
       "    <tr>\n",
       "      <th>4</th>\n",
       "      <td>Recuperado</td>\n",
       "    </tr>\n",
       "    <tr>\n",
       "      <th>5</th>\n",
       "      <td>Recuperado</td>\n",
       "    </tr>\n",
       "    <tr>\n",
       "      <th>...</th>\n",
       "      <td>...</td>\n",
       "    </tr>\n",
       "    <tr>\n",
       "      <th>3617</th>\n",
       "      <td>Casa</td>\n",
       "    </tr>\n",
       "    <tr>\n",
       "      <th>3618</th>\n",
       "      <td>Hospital</td>\n",
       "    </tr>\n",
       "    <tr>\n",
       "      <th>3619</th>\n",
       "      <td>Casa</td>\n",
       "    </tr>\n",
       "    <tr>\n",
       "      <th>3620</th>\n",
       "      <td>Casa</td>\n",
       "    </tr>\n",
       "    <tr>\n",
       "      <th>3621</th>\n",
       "      <td>Casa</td>\n",
       "    </tr>\n",
       "  </tbody>\n",
       "</table>\n",
       "<p>3607 rows × 1 columns</p>\n",
       "</div>"
      ],
      "text/plain": [
       "            2020-04-19\n",
       "id_de_caso            \n",
       "1           Recuperado\n",
       "2           Recuperado\n",
       "3           Recuperado\n",
       "4           Recuperado\n",
       "5           Recuperado\n",
       "...                ...\n",
       "3617              Casa\n",
       "3618          Hospital\n",
       "3619              Casa\n",
       "3620              Casa\n",
       "3621              Casa\n",
       "\n",
       "[3607 rows x 1 columns]"
      ]
     },
     "execution_count": 156,
     "metadata": {},
     "output_type": "execute_result"
    }
   ],
   "source": [
    "people = results.drop('atencion', axis=1)\n",
    "people\n",
    "current_status = results[['atencion']].rename(columns = {'atencion': datetime.date.today()})\n",
    "current_status"
   ]
  }
 ],
 "metadata": {
  "kernelspec": {
   "display_name": "Python 3",
   "language": "python",
   "name": "python3"
  },
  "language_info": {
   "codemirror_mode": {
    "name": "ipython",
    "version": 3
   },
   "file_extension": ".py",
   "mimetype": "text/x-python",
   "name": "python",
   "nbconvert_exporter": "python",
   "pygments_lexer": "ipython3",
   "version": "3.7.4"
  }
 },
 "nbformat": 4,
 "nbformat_minor": 4
}
