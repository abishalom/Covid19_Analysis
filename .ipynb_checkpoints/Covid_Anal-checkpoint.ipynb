{
 "cells": [
  {
   "cell_type": "code",
   "execution_count": 1,
   "metadata": {},
   "outputs": [],
   "source": [
    "import plotly.express as px\n",
    "import numpy as np\n",
    "import pandas as pd\n",
    "import DataClean\n",
    "import datetime\n",
    "import os\n",
    "# import plotly.graph_objects as go"
   ]
  },
  {
   "cell_type": "code",
   "execution_count": 24,
   "metadata": {},
   "outputs": [],
   "source": [
    "import pickle"
   ]
  },
  {
   "cell_type": "code",
   "execution_count": 25,
   "metadata": {},
   "outputs": [],
   "source": [
    "dat = pickle.load(open('compiled_data.p', 'rb'))\n",
    "countries = list(dat.index.get_level_values(0).unique())\n",
    "stats = list(dat.columns)\n",
    "stat_map = {\n",
    "    'DailyPosTestRate': 'Daily Positive Test Rate',\n",
    "    'Confirmed': 'Confirmed Tests',\n",
    "    'NewTests': 'Daily New Tests',\n",
    "    'CumulativePosTestRate': 'Cumulative Positive Test Rate',\n",
    "    'NewCases': 'New Cases',\n",
    "    'TotalTests': 'Total Tests',\n",
    "    'ConfirmedGrowth': 'Daily Confirmed Cases Growth (%)',\n",
    "    'CumulativeDeathRate': 'Cumulative Death Rate',\n",
    "    'HospitalizationRate': 'Hospitalization Rate',\n",
    "    'TotalTestsPer10k': 'Total Tests per 10k Population',\n",
    "    'ConfirmedPer10k': 'Total Confirmed per 10k Population',\n",
    "    'NewTestsPer10k': 'Daily Tests per 10k Population'\n",
    "}\n",
    "\n",
    "xs = ['DaysSinceFirst', 'Date', 'DaysSinceTenthDeath', 'DaysSinceShutdown']\n",
    "xs_map = {'DaysSinceFirst': 'Days Since First Confirmed',\n",
    "         'DaysSinceTenthDeath': 'Days Since 10th Death',\n",
    "         'DaysSinceShutdown': 'Days Since Economic Shutdown'}"
   ]
  },
  {
   "cell_type": "markdown",
   "metadata": {},
   "source": [
    "# Important Dates by Country:\n",
    "\n",
    "### Peru\n",
    "- Sourhces: ministerio de salud, wikipedia page\n",
    "* March 11 - Declaran emergencia sanitaria por 90 dias\n",
    "* March 13 - Suspenden vuelos internacional desde Europa y Asia\n",
    "* March 16 - Teletrabajo para todos menos los esenciales\n",
    "* March 17 - Cierran fronteras\n",
    "* March 18 - Cuarentena general entre 8PM y 5 AM.\n",
    "* https://www.dge.gob.pe/portal/\n",
    "\n",
    "### Panama\n",
    "* Something\n",
    "\n",
    "### Guatemala\n",
    "- Source: Alejandro Giammattei twitter\n",
    "* March 22 - Cuarentena general entre 4 PM y 4 AM por 8 dias"
   ]
  },
  {
   "cell_type": "markdown",
   "metadata": {},
   "source": [
    "### Testing Analysis stuff"
   ]
  },
  {
   "cell_type": "code",
   "execution_count": 7,
   "metadata": {},
   "outputs": [],
   "source": [
    "import requests\n",
    "from sodapy import Socrata\n",
    "import pandas as pd\n",
    "import numpy as np"
   ]
  },
  {
   "cell_type": "code",
   "execution_count": 96,
   "metadata": {},
   "outputs": [],
   "source": [
    "client = Socrata(\"datos.gov.co\",\n",
    "                 \"aSEItRti2CveuMdUcoBfyeWTQ\",\n",
    "                )\n",
    "#                  user = \"abishalom\",\n",
    "#                  password = \"PAi#%4NHPQhu4z\")\n",
    "\n",
    "results = client.get(\"gt2j-8ykr\", limit = 100000)\n",
    "\n",
    "results = pd.DataFrame.from_records(results)\n",
    "\n",
    "# results"
   ]
  },
  {
   "cell_type": "code",
   "execution_count": 86,
   "metadata": {},
   "outputs": [],
   "source": [
    "#filter out babies that have ages in months\n",
    "results = results[~results.edad.str.contains('mes')]\n",
    "\n",
    "new_map = {\n",
    "    'fecha_de_diagn_stico': 'fecha_de_diagnostico',\n",
    "    'ciudad_de_ubicaci_n' : 'ciudad_de_ubicacion',\n",
    "    'atenci_n': 'atencion',\n",
    "    'pa_s_de_procedencia': ' pais_de_procedencia'\n",
    "}\n",
    "results = results.rename(columns = new_map)\n",
    "results.fecha_de_diagnostico = pd.to_datetime(results.fecha_de_diagnostico)\n",
    "results.fecha_recuperado = results.fecha_recuperado.replace({'No': np.nan})\n",
    "results.fecha_recuperado = pd.to_datetime(results.fecha_recuperado)\n",
    "results.fis = results.fis.replace(['Asintomático', 'No disponible'], np.nan)\n",
    "results.fis = pd.to_datetime(results.fis)\n",
    "results.fecha_de_muerte = pd.to_datetime(results.fecha_de_muerte)\n",
    "\n",
    "results = results.set_index(\"id_de_caso\")"
   ]
  },
  {
   "cell_type": "code",
   "execution_count": 114,
   "metadata": {},
   "outputs": [
    {
     "data": {
      "text/plain": [
       "array(['19', '34', '50', '55', '25', '27', '85', '22', '28', '36', '42',\n",
       "       '74', '68', '48', '30', '61', '73', '54', '26', '23', '18', '49',\n",
       "       '65', '59', '72', '45', '29', '21', '79', '52', '71', '24', '44',\n",
       "       '38', '31', '41', '67', '62', '58', '37', '20', '32', '64', '40',\n",
       "       '46', '39', '9', '53', '56', '51', '69', '16', '57', '60', '33',\n",
       "       '76', '47', '35', '88', '70', '81', '17', '63', '80', '84', '87',\n",
       "       '83', '43', '77', '15', '66', '3', '82', '12', '8', '1', '5', '6',\n",
       "       '75', '2', '13', '4', '78', '10', '94', '7', '95', '11', '93',\n",
       "       '92', '90', '97', '91', '86', '14', '96', '98', '89', '0'],\n",
       "      dtype=object)"
      ]
     },
     "execution_count": 114,
     "metadata": {},
     "output_type": "execute_result"
    }
   ],
   "source": []
  },
  {
   "cell_type": "code",
   "execution_count": 67,
   "metadata": {},
   "outputs": [],
   "source": [
    "from sqlalchemy import create_engine, Column, Integer, String\n",
    "from sqlalchemy.ext.declarative import declarative_base\n",
    "\n",
    "engine = create_engine('sqlite://', echo=True)\n",
    "\n",
    "Base = declarative_base()"
   ]
  },
  {
   "cell_type": "code",
   "execution_count": 69,
   "metadata": {},
   "outputs": [
    {
     "name": "stdout",
     "output_type": "stream",
     "text": [
      "2020-04-19 01:04:25,654 INFO sqlalchemy.engine.base.Engine SELECT CAST('test plain returns' AS VARCHAR(60)) AS anon_1\n"
     ]
    },
    {
     "name": "stderr",
     "output_type": "stream",
     "text": [
      "INFO:sqlalchemy.engine.base.Engine:SELECT CAST('test plain returns' AS VARCHAR(60)) AS anon_1\n"
     ]
    },
    {
     "name": "stdout",
     "output_type": "stream",
     "text": [
      "2020-04-19 01:04:25,656 INFO sqlalchemy.engine.base.Engine ()\n"
     ]
    },
    {
     "name": "stderr",
     "output_type": "stream",
     "text": [
      "INFO:sqlalchemy.engine.base.Engine:()\n"
     ]
    },
    {
     "name": "stdout",
     "output_type": "stream",
     "text": [
      "2020-04-19 01:04:25,660 INFO sqlalchemy.engine.base.Engine SELECT CAST('test unicode returns' AS VARCHAR(60)) AS anon_1\n"
     ]
    },
    {
     "name": "stderr",
     "output_type": "stream",
     "text": [
      "INFO:sqlalchemy.engine.base.Engine:SELECT CAST('test unicode returns' AS VARCHAR(60)) AS anon_1\n"
     ]
    },
    {
     "name": "stdout",
     "output_type": "stream",
     "text": [
      "2020-04-19 01:04:25,662 INFO sqlalchemy.engine.base.Engine ()\n"
     ]
    },
    {
     "name": "stderr",
     "output_type": "stream",
     "text": [
      "INFO:sqlalchemy.engine.base.Engine:()\n"
     ]
    },
    {
     "name": "stdout",
     "output_type": "stream",
     "text": [
      "2020-04-19 01:04:25,664 INFO sqlalchemy.engine.base.Engine PRAGMA main.table_info(\"people\")\n"
     ]
    },
    {
     "name": "stderr",
     "output_type": "stream",
     "text": [
      "INFO:sqlalchemy.engine.base.Engine:PRAGMA main.table_info(\"people\")\n"
     ]
    },
    {
     "name": "stdout",
     "output_type": "stream",
     "text": [
      "2020-04-19 01:04:25,666 INFO sqlalchemy.engine.base.Engine ()\n"
     ]
    },
    {
     "name": "stderr",
     "output_type": "stream",
     "text": [
      "INFO:sqlalchemy.engine.base.Engine:()\n"
     ]
    },
    {
     "name": "stdout",
     "output_type": "stream",
     "text": [
      "2020-04-19 01:04:25,669 INFO sqlalchemy.engine.base.Engine PRAGMA temp.table_info(\"people\")\n"
     ]
    },
    {
     "name": "stderr",
     "output_type": "stream",
     "text": [
      "INFO:sqlalchemy.engine.base.Engine:PRAGMA temp.table_info(\"people\")\n"
     ]
    },
    {
     "name": "stdout",
     "output_type": "stream",
     "text": [
      "2020-04-19 01:04:25,672 INFO sqlalchemy.engine.base.Engine ()\n"
     ]
    },
    {
     "name": "stderr",
     "output_type": "stream",
     "text": [
      "INFO:sqlalchemy.engine.base.Engine:()\n"
     ]
    },
    {
     "name": "stdout",
     "output_type": "stream",
     "text": [
      "2020-04-19 01:04:25,678 INFO sqlalchemy.engine.base.Engine \n",
      "CREATE TABLE people (\n",
      "\tid_de_caso TEXT, \n",
      "\tfecha_de_diagnostico DATETIME, \n",
      "\tciudad_de_ubicacion TEXT, \n",
      "\tdepartamento TEXT, \n",
      "\tatencion TEXT, \n",
      "\tedad TEXT, \n",
      "\tsexo TEXT, \n",
      "\ttipo TEXT, \n",
      "\t\" pais_de_procedencia\" TEXT, \n",
      "\tfecha_recuperado DATETIME, \n",
      "\tfis TEXT, \n",
      "\tfecha_de_muerte TEXT\n",
      ")\n",
      "\n",
      "\n"
     ]
    },
    {
     "name": "stderr",
     "output_type": "stream",
     "text": [
      "INFO:sqlalchemy.engine.base.Engine:\n",
      "CREATE TABLE people (\n",
      "\tid_de_caso TEXT, \n",
      "\tfecha_de_diagnostico DATETIME, \n",
      "\tciudad_de_ubicacion TEXT, \n",
      "\tdepartamento TEXT, \n",
      "\tatencion TEXT, \n",
      "\tedad TEXT, \n",
      "\tsexo TEXT, \n",
      "\ttipo TEXT, \n",
      "\t\" pais_de_procedencia\" TEXT, \n",
      "\tfecha_recuperado DATETIME, \n",
      "\tfis TEXT, \n",
      "\tfecha_de_muerte TEXT\n",
      ")\n",
      "\n",
      "\n"
     ]
    },
    {
     "name": "stdout",
     "output_type": "stream",
     "text": [
      "2020-04-19 01:04:25,680 INFO sqlalchemy.engine.base.Engine ()\n"
     ]
    },
    {
     "name": "stderr",
     "output_type": "stream",
     "text": [
      "INFO:sqlalchemy.engine.base.Engine:()\n"
     ]
    },
    {
     "name": "stdout",
     "output_type": "stream",
     "text": [
      "2020-04-19 01:04:25,684 INFO sqlalchemy.engine.base.Engine COMMIT\n"
     ]
    },
    {
     "name": "stderr",
     "output_type": "stream",
     "text": [
      "INFO:sqlalchemy.engine.base.Engine:COMMIT\n"
     ]
    },
    {
     "name": "stdout",
     "output_type": "stream",
     "text": [
      "2020-04-19 01:04:25,690 INFO sqlalchemy.engine.base.Engine CREATE INDEX ix_people_id_de_caso ON people (id_de_caso)\n"
     ]
    },
    {
     "name": "stderr",
     "output_type": "stream",
     "text": [
      "INFO:sqlalchemy.engine.base.Engine:CREATE INDEX ix_people_id_de_caso ON people (id_de_caso)\n"
     ]
    },
    {
     "name": "stdout",
     "output_type": "stream",
     "text": [
      "2020-04-19 01:04:25,758 INFO sqlalchemy.engine.base.Engine ()\n"
     ]
    },
    {
     "name": "stderr",
     "output_type": "stream",
     "text": [
      "INFO:sqlalchemy.engine.base.Engine:()\n"
     ]
    },
    {
     "name": "stdout",
     "output_type": "stream",
     "text": [
      "2020-04-19 01:04:25,768 INFO sqlalchemy.engine.base.Engine COMMIT\n"
     ]
    },
    {
     "name": "stderr",
     "output_type": "stream",
     "text": [
      "INFO:sqlalchemy.engine.base.Engine:COMMIT\n"
     ]
    },
    {
     "name": "stdout",
     "output_type": "stream",
     "text": [
      "2020-04-19 01:04:25,786 INFO sqlalchemy.engine.base.Engine BEGIN (implicit)\n"
     ]
    },
    {
     "name": "stderr",
     "output_type": "stream",
     "text": [
      "INFO:sqlalchemy.engine.base.Engine:BEGIN (implicit)\n"
     ]
    },
    {
     "name": "stdout",
     "output_type": "stream",
     "text": [
      "2020-04-19 01:04:25,935 INFO sqlalchemy.engine.base.Engine INSERT INTO people (id_de_caso, fecha_de_diagnostico, ciudad_de_ubicacion, departamento, atencion, edad, sexo, tipo, \" pais_de_procedencia\", fecha_recuperado, fis, fecha_de_muerte) VALUES (?, ?, ?, ?, ?, ?, ?, ?, ?, ?, ?, ?)\n"
     ]
    },
    {
     "name": "stderr",
     "output_type": "stream",
     "text": [
      "INFO:sqlalchemy.engine.base.Engine:INSERT INTO people (id_de_caso, fecha_de_diagnostico, ciudad_de_ubicacion, departamento, atencion, edad, sexo, tipo, \" pais_de_procedencia\", fecha_recuperado, fis, fecha_de_muerte) VALUES (?, ?, ?, ?, ?, ?, ?, ?, ?, ?, ?, ?)\n"
     ]
    },
    {
     "name": "stdout",
     "output_type": "stream",
     "text": [
      "2020-04-19 01:04:25,941 INFO sqlalchemy.engine.base.Engine (('1', '2020-03-06 00:00:00.000000', 'Bogota', 'Bogotá D.C.', 'Recuperado', '19', 'F', 'Importado', 'Italia', '2020-03-13 00:00:00.000000', '2020-02-27T00:00:00.000', None), ('2', '2020-03-09 00:00:00.000000', 'Buga', 'Valle del Cauca', 'Recuperado', '34', 'M', 'Importado', 'España', '2020-03-19 00:00:00.000000', '2020-03-04T00:00:00.000', None), ('3', '2020-03-09 00:00:00.000000', 'Medellin', 'Antioquia', 'Recuperado', '50', 'F', 'Importado', 'España', '2020-03-15 00:00:00.000000', '2020-02-29T00:00:00.000', None), ('4', '2020-03-11 00:00:00.000000', 'Medellin', 'Antioquia', 'Recuperado', '55', 'M', 'Relacionado', 'Colombia', '2020-03-26 00:00:00.000000', '2020-03-06T00:00:00.000', None), ('5', '2020-03-11 00:00:00.000000', 'Medellin', 'Antioquia', 'Recuperado', '25', 'M', 'Relacionado', 'Colombia', '2020-03-23 00:00:00.000000', '2020-03-08T00:00:00.000', None), ('6', '2020-03-11 00:00:00.000000', 'Itagui', 'Antioquia', 'Recuperado', '27', 'F', 'Relacionado', 'Colombia', '2020-03-26 00:00:00.000000', '2020-03-06T00:00:00.000', None), ('7', '2020-03-11 00:00:00.000000', 'Cartagena', 'Cartagena D.T. y C', 'Recuperado', '85', 'F', 'Importado', 'Estados Unidos De América', '2020-03-17 00:00:00.000000', '2020-03-02T00:00:00.000', None), ('8', '2020-03-11 00:00:00.000000', 'Bogota', 'Bogotá D.C.', 'Recuperado', '22', 'F', 'Importado', 'España', '2020-03-21 00:00:00.000000', '2020-03-06T00:00:00.000', None)  ... displaying 10 of 3621 total bound parameter sets ...  ('3620', '2020-04-13 00:00:00.000000', 'Cali', 'Valle del Cauca', 'Casa', '32', 'M', 'En estudio', 'Colombia', None, '2020-04-09T00:00:00.000', None), ('3621', '2020-04-13 00:00:00.000000', 'Yumbo', 'Valle del Cauca', 'Casa', '26', 'M', 'En estudio', 'Colombia', None, '2020-04-12T00:00:00.000', None))\n"
     ]
    },
    {
     "name": "stderr",
     "output_type": "stream",
     "text": [
      "INFO:sqlalchemy.engine.base.Engine:(('1', '2020-03-06 00:00:00.000000', 'Bogota', 'Bogotá D.C.', 'Recuperado', '19', 'F', 'Importado', 'Italia', '2020-03-13 00:00:00.000000', '2020-02-27T00:00:00.000', None), ('2', '2020-03-09 00:00:00.000000', 'Buga', 'Valle del Cauca', 'Recuperado', '34', 'M', 'Importado', 'España', '2020-03-19 00:00:00.000000', '2020-03-04T00:00:00.000', None), ('3', '2020-03-09 00:00:00.000000', 'Medellin', 'Antioquia', 'Recuperado', '50', 'F', 'Importado', 'España', '2020-03-15 00:00:00.000000', '2020-02-29T00:00:00.000', None), ('4', '2020-03-11 00:00:00.000000', 'Medellin', 'Antioquia', 'Recuperado', '55', 'M', 'Relacionado', 'Colombia', '2020-03-26 00:00:00.000000', '2020-03-06T00:00:00.000', None), ('5', '2020-03-11 00:00:00.000000', 'Medellin', 'Antioquia', 'Recuperado', '25', 'M', 'Relacionado', 'Colombia', '2020-03-23 00:00:00.000000', '2020-03-08T00:00:00.000', None), ('6', '2020-03-11 00:00:00.000000', 'Itagui', 'Antioquia', 'Recuperado', '27', 'F', 'Relacionado', 'Colombia', '2020-03-26 00:00:00.000000', '2020-03-06T00:00:00.000', None), ('7', '2020-03-11 00:00:00.000000', 'Cartagena', 'Cartagena D.T. y C', 'Recuperado', '85', 'F', 'Importado', 'Estados Unidos De América', '2020-03-17 00:00:00.000000', '2020-03-02T00:00:00.000', None), ('8', '2020-03-11 00:00:00.000000', 'Bogota', 'Bogotá D.C.', 'Recuperado', '22', 'F', 'Importado', 'España', '2020-03-21 00:00:00.000000', '2020-03-06T00:00:00.000', None)  ... displaying 10 of 3621 total bound parameter sets ...  ('3620', '2020-04-13 00:00:00.000000', 'Cali', 'Valle del Cauca', 'Casa', '32', 'M', 'En estudio', 'Colombia', None, '2020-04-09T00:00:00.000', None), ('3621', '2020-04-13 00:00:00.000000', 'Yumbo', 'Valle del Cauca', 'Casa', '26', 'M', 'En estudio', 'Colombia', None, '2020-04-12T00:00:00.000', None))\n"
     ]
    },
    {
     "name": "stdout",
     "output_type": "stream",
     "text": [
      "2020-04-19 01:04:26,014 INFO sqlalchemy.engine.base.Engine COMMIT\n"
     ]
    },
    {
     "name": "stderr",
     "output_type": "stream",
     "text": [
      "INFO:sqlalchemy.engine.base.Engine:COMMIT\n"
     ]
    }
   ],
   "source": [
    "results.to_sql('people', con = engine,\n",
    "              dtype = {'id_de_caso': Integer(),\n",
    "                       ''})\n",
    "# engine.execute('SELECT * FROM people').fetchall()\n",
    "\n",
    "# engine"
   ]
  },
  {
   "cell_type": "code",
   "execution_count": null,
   "metadata": {},
   "outputs": [],
   "source": []
  }
 ],
 "metadata": {
  "kernelspec": {
   "display_name": "Python 3",
   "language": "python",
   "name": "python3"
  },
  "language_info": {
   "codemirror_mode": {
    "name": "ipython",
    "version": 3
   },
   "file_extension": ".py",
   "mimetype": "text/x-python",
   "name": "python",
   "nbconvert_exporter": "python",
   "pygments_lexer": "ipython3",
   "version": "3.7.4"
  }
 },
 "nbformat": 4,
 "nbformat_minor": 4
}
