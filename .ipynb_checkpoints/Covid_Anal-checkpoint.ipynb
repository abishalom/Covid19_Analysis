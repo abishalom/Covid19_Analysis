{
 "cells": [
  {
   "cell_type": "code",
   "execution_count": 1,
   "metadata": {},
   "outputs": [],
   "source": [
    "import plotly.express as px\n",
    "import numpy as np\n",
    "import pandas as pd\n",
    "import DataClean\n",
    "import datetime\n",
    "import os\n",
    "# import plotly.graph_objects as go"
   ]
  },
  {
   "cell_type": "code",
   "execution_count": 24,
   "metadata": {},
   "outputs": [],
   "source": [
    "import pickle"
   ]
  },
  {
   "cell_type": "code",
   "execution_count": 25,
   "metadata": {},
   "outputs": [],
   "source": [
    "dat = pickle.load(open('compiled_data.p', 'rb'))\n",
    "countries = list(dat.index.get_level_values(0).unique())\n",
    "stats = list(dat.columns)\n",
    "stat_map = {\n",
    "    'DailyPosTestRate': 'Daily Positive Test Rate',\n",
    "    'Confirmed': 'Confirmed Tests',\n",
    "    'NewTests': 'Daily New Tests',\n",
    "    'CumulativePosTestRate': 'Cumulative Positive Test Rate',\n",
    "    'NewCases': 'New Cases',\n",
    "    'TotalTests': 'Total Tests',\n",
    "    'ConfirmedGrowth': 'Daily Confirmed Cases Growth (%)',\n",
    "    'CumulativeDeathRate': 'Cumulative Death Rate',\n",
    "    'HospitalizationRate': 'Hospitalization Rate',\n",
    "    'TotalTestsPer10k': 'Total Tests per 10k Population',\n",
    "    'ConfirmedPer10k': 'Total Confirmed per 10k Population',\n",
    "    'NewTestsPer10k': 'Daily Tests per 10k Population'\n",
    "}\n",
    "\n",
    "xs = ['DaysSinceFirst', 'Date', 'DaysSinceTenthDeath', 'DaysSinceShutdown']\n",
    "xs_map = {'DaysSinceFirst': 'Days Since First Confirmed',\n",
    "         'DaysSinceTenthDeath': 'Days Since 10th Death',\n",
    "         'DaysSinceShutdown': 'Days Since Economic Shutdown'}"
   ]
  },
  {
   "cell_type": "markdown",
   "metadata": {},
   "source": [
    "# Important Dates by Country:\n",
    "\n",
    "### Peru\n",
    "- Sourhces: ministerio de salud, wikipedia page\n",
    "* March 11 - Declaran emergencia sanitaria por 90 dias\n",
    "* March 13 - Suspenden vuelos internacional desde Europa y Asia\n",
    "* March 16 - Teletrabajo para todos menos los esenciales\n",
    "* March 17 - Cierran fronteras\n",
    "* March 18 - Cuarentena general entre 8PM y 5 AM.\n",
    "* https://www.dge.gob.pe/portal/\n",
    "\n",
    "### Panama\n",
    "* Something\n",
    "\n",
    "### Guatemala\n",
    "- Source: Alejandro Giammattei twitter\n",
    "* March 22 - Cuarentena general entre 4 PM y 4 AM por 8 dias"
   ]
  },
  {
   "cell_type": "markdown",
   "metadata": {},
   "source": [
    "### Testing Analysis stuff"
   ]
  },
  {
   "cell_type": "code",
   "execution_count": 37,
   "metadata": {},
   "outputs": [],
   "source": [
    "import pandas as pd\n",
    "import numpy as np\n",
    "import datetime"
   ]
  },
  {
   "cell_type": "code",
   "execution_count": 78,
   "metadata": {},
   "outputs": [],
   "source": [
    "r = pd.read_csv('data/Colombia_data.csv',\n",
    "            index_col=0,\n",
    "            parse_dates = True)\n",
    "\n",
    "status_codes = {\n",
    "    'Casa': 'I',\n",
    "    'Hospital': 'I',\n",
    "    'Hospital UCI': 'I',\n",
    "    'Fallecido': 'D',\n",
    "    'Recuperado': 'R' \n",
    "}"
   ]
  },
  {
   "cell_type": "code",
   "execution_count": 79,
   "metadata": {},
   "outputs": [],
   "source": [
    "class Person:\n",
    "    def __init__(self, city, zip_code, age, diag_date, death_date, rec_date, sex, status):\n",
    "        self.city = city\n",
    "        self.zip_code = zip_code\n",
    "        self.age = age\n",
    "        self.diag_date = diag_date\n",
    "        self.death_date = death_date\n",
    "        self.rec_date = rec_date\n",
    "        self.sex = sex\n",
    "        self.status = status\n",
    "        self.infection_status = status_codes.get(status, 'I')\n",
    "    \n",
    "    def __repr__(self):\n",
    "        return '(City: {}, Sex: {}, Age: {}, Status: {})'.format(self.city, self.sex, self.age, self.status)\n"
   ]
  },
  {
   "cell_type": "code",
   "execution_count": 80,
   "metadata": {},
   "outputs": [],
   "source": [
    "people = []\n",
    "TODAY = datetime.date.today()\n",
    "for p in r.iterrows():\n",
    "    x = p[1]\n",
    "    city = x.ciudad_de_ubicacion\n",
    "    zip_code = x.codigo_divipola\n",
    "    age = x.edad\n",
    "    diag_date = x.fecha_diagnostico\n",
    "    death_date = x.fecha_de_muerte\n",
    "    rec_date = x.fecha_recuperado\n",
    "    sex = x.sexo\n",
    "    status = x.iloc[-1]\n",
    "    person = Person(city, zip_code, age, diag_date, death_date, rec_date, sex, status)\n",
    "    people.append(person)"
   ]
  },
  {
   "cell_type": "code",
   "execution_count": 94,
   "metadata": {},
   "outputs": [],
   "source": [
    "import requests\n",
    "from bs4 import BeautifulSoup\n",
    "\n",
    "# people[:5]\n",
    "#Use the data on Colombia demographics to create a probability density for people. Then sample\n",
    "#(N - patients) people in order to get a population. Note: This may be a LOT of individuals to handle, we'll see\n",
    "#what happens.\n",
    "#https://en.wikipedia.org/wiki/Demographics_of_Colombia\n",
    "\n",
    "#1) Age: 0-14: 26.7%.  15-64: 65.6%.  65+: 7.6%\n",
    "# P(sex and age) = P(sex|age) P(age)\n",
    "# Should be a \"normal\" distribution shape (maybe gamma) where probabilities are as above.\n",
    "# sample age\n",
    "# P(male|age < 15) = 1.03/(2.03). P(male|age in 15-64) = 0.95/(1.95). P(male | age > 64) = 0.75/1.75\n",
    "\n",
    "\n",
    "\"\"\"\n",
    "0-4: 6.88%    5-9: 7.55%    10-14: 8.17%\n",
    "15-19: 8.72%  20-24: 8.92%  25-29: 8.36%\n",
    "\"\"\"\n",
    "website_url = 'https://en.wikipedia.org/wiki/Demographics_of_Colombia'\n",
    "\n",
    "s = requests.get(website_url).text\n",
    "\n",
    "s = BeautifulSoup(s)\n",
    "\n"
   ]
  },
  {
   "cell_type": "code",
   "execution_count": 102,
   "metadata": {},
   "outputs": [],
   "source": [
    "age_groups_table = s.find_all('table', {'class': 'wikitable'})[2]"
   ]
  },
  {
   "cell_type": "code",
   "execution_count": 238,
   "metadata": {},
   "outputs": [],
   "source": [
    "header = [th.text.rstrip() for th in age_groups_table.find_all('th')]\n",
    "# header.remove('Total')\n",
    "\n",
    "to_keep = [0, 1, 2, 3, 4]\n",
    "\n",
    "col_to_h = {i:j for i, j in zip(to_keep, header)}\n",
    "\n",
    "c = {i:[] for i in to_keep}\n",
    "\n",
    "for row in age_groups_table.find_all('tr'):\n",
    "    cells = row.find_all('td')\n",
    "    if len(cells) == 5 and cells[0].find(text=True).rstrip() != 'Total':\n",
    "        for i in to_keep:\n",
    "            c[i].append(cells[i].find(text=True).rstrip())\n",
    "#         c0.append(cells[0].find(text=True).rstrip())\n",
    "#         c1.append(cells[1].find(text=True).rstrip())\n",
    "#         c2.append(cells[2].find(text=True).rstrip())\n",
    "#         c4.append(cells[4].find(text=True).rstrip())\n"
   ]
  },
  {
   "cell_type": "code",
   "execution_count": 239,
   "metadata": {},
   "outputs": [],
   "source": [
    "c = {col_to_h[i]: d for i, d in c.items()}\n",
    "\n",
    "d = pd.DataFrame(c)"
   ]
  },
  {
   "cell_type": "code",
   "execution_count": 240,
   "metadata": {},
   "outputs": [],
   "source": [
    "d.columns = [x.replace(' ', '_') for x in d.columns]\n",
    "d.columns = [x.replace('%', 'Percent') for x in d.columns]\n",
    "d['Age_Group'] = d.Age_Group.str.replace('+', '-100')\n",
    "d['Age_Group'] = d.Age_Group.str.replace('–', '-')\n"
   ]
  },
  {
   "cell_type": "code",
   "execution_count": 241,
   "metadata": {},
   "outputs": [],
   "source": [
    "m = d.Age_Group.str.split('-', expand=True)\n",
    "\n",
    "d['min_age_group'] = m[0]\n",
    "d['max_age_group'] = m[1]\n",
    "\n",
    "d = d.drop(columns = ['Age_Group'])"
   ]
  },
  {
   "cell_type": "code",
   "execution_count": 242,
   "metadata": {},
   "outputs": [],
   "source": [
    "for c in d.columns:\n",
    "    if c != 'Percent':\n",
    "        d[c] = pd.to_numeric(d[c].str.replace(',', ''))\n",
    "    else:\n",
    "        d[c] = pd.to_numeric(d[c].str.replace(',', '.'))"
   ]
  },
  {
   "cell_type": "code",
   "execution_count": 243,
   "metadata": {},
   "outputs": [
    {
     "data": {
      "text/html": [
       "<div>\n",
       "<style scoped>\n",
       "    .dataframe tbody tr th:only-of-type {\n",
       "        vertical-align: middle;\n",
       "    }\n",
       "\n",
       "    .dataframe tbody tr th {\n",
       "        vertical-align: top;\n",
       "    }\n",
       "\n",
       "    .dataframe thead th {\n",
       "        text-align: right;\n",
       "    }\n",
       "</style>\n",
       "<table border=\"1\" class=\"dataframe\">\n",
       "  <thead>\n",
       "    <tr style=\"text-align: right;\">\n",
       "      <th></th>\n",
       "      <th>Male</th>\n",
       "      <th>Female</th>\n",
       "      <th>Total</th>\n",
       "      <th>Percent</th>\n",
       "      <th>min_age_group</th>\n",
       "      <th>max_age_group</th>\n",
       "    </tr>\n",
       "  </thead>\n",
       "  <tbody>\n",
       "    <tr>\n",
       "      <th>0</th>\n",
       "      <td>1698699</td>\n",
       "      <td>1621485</td>\n",
       "      <td>3320184</td>\n",
       "      <td>6.88</td>\n",
       "      <td>0</td>\n",
       "      <td>4</td>\n",
       "    </tr>\n",
       "    <tr>\n",
       "      <th>1</th>\n",
       "      <td>1862778</td>\n",
       "      <td>1780738</td>\n",
       "      <td>3643516</td>\n",
       "      <td>7.55</td>\n",
       "      <td>5</td>\n",
       "      <td>9</td>\n",
       "    </tr>\n",
       "    <tr>\n",
       "      <th>2</th>\n",
       "      <td>2017205</td>\n",
       "      <td>1925513</td>\n",
       "      <td>3942718</td>\n",
       "      <td>8.17</td>\n",
       "      <td>10</td>\n",
       "      <td>14</td>\n",
       "    </tr>\n",
       "    <tr>\n",
       "      <th>3</th>\n",
       "      <td>2152328</td>\n",
       "      <td>2055812</td>\n",
       "      <td>4208140</td>\n",
       "      <td>8.72</td>\n",
       "      <td>15</td>\n",
       "      <td>19</td>\n",
       "    </tr>\n",
       "    <tr>\n",
       "      <th>4</th>\n",
       "      <td>2166806</td>\n",
       "      <td>2137851</td>\n",
       "      <td>4304657</td>\n",
       "      <td>8.92</td>\n",
       "      <td>20</td>\n",
       "      <td>24</td>\n",
       "    </tr>\n",
       "    <tr>\n",
       "      <th>5</th>\n",
       "      <td>2007553</td>\n",
       "      <td>2026857</td>\n",
       "      <td>4034410</td>\n",
       "      <td>8.36</td>\n",
       "      <td>25</td>\n",
       "      <td>29</td>\n",
       "    </tr>\n",
       "    <tr>\n",
       "      <th>6</th>\n",
       "      <td>1804867</td>\n",
       "      <td>1857952</td>\n",
       "      <td>3662819</td>\n",
       "      <td>7.59</td>\n",
       "      <td>30</td>\n",
       "      <td>34</td>\n",
       "    </tr>\n",
       "    <tr>\n",
       "      <th>7</th>\n",
       "      <td>1703524</td>\n",
       "      <td>1809693</td>\n",
       "      <td>3513217</td>\n",
       "      <td>7.28</td>\n",
       "      <td>35</td>\n",
       "      <td>39</td>\n",
       "    </tr>\n",
       "    <tr>\n",
       "      <th>8</th>\n",
       "      <td>1428451</td>\n",
       "      <td>1568401</td>\n",
       "      <td>2996852</td>\n",
       "      <td>6.21</td>\n",
       "      <td>40</td>\n",
       "      <td>44</td>\n",
       "    </tr>\n",
       "    <tr>\n",
       "      <th>9</th>\n",
       "      <td>1360889</td>\n",
       "      <td>1529794</td>\n",
       "      <td>2890683</td>\n",
       "      <td>5.99</td>\n",
       "      <td>45</td>\n",
       "      <td>49</td>\n",
       "    </tr>\n",
       "    <tr>\n",
       "      <th>10</th>\n",
       "      <td>1327108</td>\n",
       "      <td>1510491</td>\n",
       "      <td>2837599</td>\n",
       "      <td>5.88</td>\n",
       "      <td>50</td>\n",
       "      <td>54</td>\n",
       "    </tr>\n",
       "    <tr>\n",
       "      <th>11</th>\n",
       "      <td>1153378</td>\n",
       "      <td>1336760</td>\n",
       "      <td>2490138</td>\n",
       "      <td>5.16</td>\n",
       "      <td>55</td>\n",
       "      <td>59</td>\n",
       "    </tr>\n",
       "    <tr>\n",
       "      <th>12</th>\n",
       "      <td>916911</td>\n",
       "      <td>1076164</td>\n",
       "      <td>1993075</td>\n",
       "      <td>4.13</td>\n",
       "      <td>60</td>\n",
       "      <td>64</td>\n",
       "    </tr>\n",
       "    <tr>\n",
       "      <th>13</th>\n",
       "      <td>699748</td>\n",
       "      <td>820394</td>\n",
       "      <td>1520142</td>\n",
       "      <td>3.15</td>\n",
       "      <td>65</td>\n",
       "      <td>69</td>\n",
       "    </tr>\n",
       "    <tr>\n",
       "      <th>14</th>\n",
       "      <td>501888</td>\n",
       "      <td>598405</td>\n",
       "      <td>1100293</td>\n",
       "      <td>2.28</td>\n",
       "      <td>70</td>\n",
       "      <td>74</td>\n",
       "    </tr>\n",
       "    <tr>\n",
       "      <th>15</th>\n",
       "      <td>357112</td>\n",
       "      <td>443978</td>\n",
       "      <td>801090</td>\n",
       "      <td>1.66</td>\n",
       "      <td>75</td>\n",
       "      <td>79</td>\n",
       "    </tr>\n",
       "    <tr>\n",
       "      <th>16</th>\n",
       "      <td>415967</td>\n",
       "      <td>582994</td>\n",
       "      <td>998961</td>\n",
       "      <td>2.07</td>\n",
       "      <td>80</td>\n",
       "      <td>100</td>\n",
       "    </tr>\n",
       "  </tbody>\n",
       "</table>\n",
       "</div>"
      ],
      "text/plain": [
       "       Male   Female    Total  Percent  min_age_group  max_age_group\n",
       "0   1698699  1621485  3320184     6.88              0              4\n",
       "1   1862778  1780738  3643516     7.55              5              9\n",
       "2   2017205  1925513  3942718     8.17             10             14\n",
       "3   2152328  2055812  4208140     8.72             15             19\n",
       "4   2166806  2137851  4304657     8.92             20             24\n",
       "5   2007553  2026857  4034410     8.36             25             29\n",
       "6   1804867  1857952  3662819     7.59             30             34\n",
       "7   1703524  1809693  3513217     7.28             35             39\n",
       "8   1428451  1568401  2996852     6.21             40             44\n",
       "9   1360889  1529794  2890683     5.99             45             49\n",
       "10  1327108  1510491  2837599     5.88             50             54\n",
       "11  1153378  1336760  2490138     5.16             55             59\n",
       "12   916911  1076164  1993075     4.13             60             64\n",
       "13   699748   820394  1520142     3.15             65             69\n",
       "14   501888   598405  1100293     2.28             70             74\n",
       "15   357112   443978   801090     1.66             75             79\n",
       "16   415967   582994   998961     2.07             80            100"
      ]
     },
     "execution_count": 243,
     "metadata": {},
     "output_type": "execute_result"
    }
   ],
   "source": [
    "d"
   ]
  },
  {
   "cell_type": "markdown",
   "metadata": {},
   "source": [
    "## Mexico Data"
   ]
  },
  {
   "cell_type": "code",
   "execution_count": 84,
   "metadata": {},
   "outputs": [],
   "source": [
    "import requests\n",
    "import zipfile\n",
    "import io\n",
    "import pandas as pd\n",
    "import numpy as np\n",
    "import datetime"
   ]
  },
  {
   "cell_type": "code",
   "execution_count": 11,
   "metadata": {},
   "outputs": [],
   "source": [
    "url = \"http://187.191.75.115/gobmx/salud/datos_abiertos/datos_abiertos_covid19.zip\"\n",
    "\n",
    "r = requests.get(url, stream = True)"
   ]
  },
  {
   "cell_type": "code",
   "execution_count": 13,
   "metadata": {},
   "outputs": [
    {
     "name": "stdout",
     "output_type": "stream",
     "text": [
      "['200420COVID19MEXICO.csv']\n"
     ]
    }
   ],
   "source": [
    "f = zipfile.ZipFile(io.BytesIO(r.content))\n",
    "print(f.namelist())"
   ]
  },
  {
   "cell_type": "code",
   "execution_count": 18,
   "metadata": {},
   "outputs": [],
   "source": [
    "with f.open(f.namelist()[0]) as thefile:\n",
    "    res = pd.read_csv(thefile)"
   ]
  },
  {
   "cell_type": "markdown",
   "metadata": {},
   "source": [
    "### Useful variable(s) and definitions:\n",
    "- Sexo: 1 mujer, 2 hombre, 99 not specified\n",
    "- Edad\n",
    "- Resultado: 1 positivo, 2 negativo, 3 sospechoso\n",
    "- Tipo Paciente: 1 hospitalizado, 2 fue a su casa, 99 no especificado\n",
    "- Fecha Def: fecha en que fallece. No fallecido is '9999-99-99'"
   ]
  },
  {
   "cell_type": "code",
   "execution_count": 44,
   "metadata": {},
   "outputs": [
    {
     "data": {
      "text/plain": [
       "array([ 75,  31,  22,  26,  50,  55,  52,  41,  40,  29,  71,  18,  69,\n",
       "        45,  64,  61,  33,  51,  77,  84,  59,  53,  54,  43,  23,  65,\n",
       "        30,  32,  21,  58,  27,  44,  48,  68,  60,  47,  35,  76,  24,\n",
       "        39,  37,  42,  70,  74,  38,  36,   8,   6,  17,  25,  49,  28,\n",
       "        34,  72,  46,  67,  57,  56,   2,  73,   1,  62,  82,   4,  19,\n",
       "        80,  89,   3,  20,  12,  11,  85,  63,  87,   5,  81,  83,  96,\n",
       "        66,  10,  15,  13,  78,  90,   0,   9,  95, 107,  86,  16,   7,\n",
       "        94,  88,  14,  93,  79,  91,  92, 102,  99,  97, 109, 100, 113,\n",
       "        98, 120, 101], dtype=int64)"
      ]
     },
     "execution_count": 44,
     "metadata": {},
     "output_type": "execute_result"
    }
   ],
   "source": [
    "to_keep = ['FECHA_ACTUALIZACION', 'FECHA_INGRESO', 'RESULTADO', 'TIPO_PACIENTE', 'FECHA_DEF']\n",
    "res.EDAD.unique()"
   ]
  },
  {
   "cell_type": "code",
   "execution_count": 101,
   "metadata": {},
   "outputs": [
    {
     "data": {
      "text/plain": [
       "array(['09e8dc', '1dd782', '0efbaf', ..., '145db8', '17eb11', '02242c'],\n",
       "      dtype=object)"
      ]
     },
     "execution_count": 101,
     "metadata": {},
     "output_type": "execute_result"
    }
   ],
   "source": [
    "# pd.to_datetime(res.FECHA_DEF.str.replace('9999-99-99', str(np.nan)))\n",
    "# (res['RESULTADO'] == 1).sum()\n",
    "# res.POSITIVE.sum()\n",
    "# res.FECHA_DEF\n",
    "# res[to_keep].dtypes\n",
    "# res.ID_REGISTRO.unique()"
   ]
  },
  {
   "cell_type": "code",
   "execution_count": 34,
   "metadata": {},
   "outputs": [
    {
     "data": {
      "text/plain": [
       "404"
      ]
     },
     "execution_count": 34,
     "metadata": {},
     "output_type": "execute_result"
    }
   ],
   "source": [
    "# 1) http://187.191.75.115/gobmx/salud/datos_abiertos/historicos/datos_abiertos_covid19_19.04.2020.zip\n",
    "# 2) http://187.191.75.115/gobmx/salud/datos_abiertos/historicos/datos_abiertos_covid19_18.04.2020.zip\n",
    "# 3) http://187.191.75.115/gobmx/salud/datos_abiertos/historicos/datos_abiertos_covid19_20.04.2020.zip\n",
    "# r = requests.get('http://187.191.75.115/gobmx/salud/datos_abiertos/historicos/datos_abiertos_covid19_20.04.2020.zip')\n",
    "# 4) http://187.191.75.115/gobmx/salud/datos_abiertos/historicos/datos_abiertos_covid19_12.04.2020.zip\n",
    "# r.status_code"
   ]
  },
  {
   "cell_type": "code",
   "execution_count": 221,
   "metadata": {},
   "outputs": [],
   "source": [
    "def clean_mx_data(df, date):\n",
    "    \"\"\"\n",
    "    Should return a row of a df, indexed by Date, Country (Mexico) with columns Confirmed,\n",
    "    Totaltests (confirmed + negative), Deaths. Hospitalization would also be nice.\n",
    "    \"\"\"\n",
    "    result_df = {}\n",
    "    \n",
    "    \n",
    "#     result_df['Date'] = pd.to_datetime(df.FECHA_ACTUALIZACION.iloc[0])\n",
    "    result_df['Date'] = date\n",
    "    result_df['Country'] = 'Mexico'\n",
    "    result_df['Confirmed'] = (df['RESULTADO'] == 1).sum()\n",
    "    result_df['TotalTests'] = (df['RESULTADO'] == 2).sum() + result_df['Confirmed']\n",
    "    result_df['Deaths'] = df.query('RESULTADO == 1 & FECHA_DEF != \"9999-99-99\"').FECHA_DEF.count()\n",
    "    \n",
    "#     dtypes = {\n",
    "#         'Date': np.datetime64,\n",
    "#         'Country': np.str_,\n",
    "#         'Confirmed': 'int64',\n",
    "#         'Totaltests': 'int64',\n",
    "#         'Deaths': 'int64'\n",
    "#     }\n",
    "    \n",
    "    result_df = pd.DataFrame(result_df, index = [0])\n",
    "    \n",
    "    return result_df\n",
    "    "
   ]
  },
  {
   "cell_type": "code",
   "execution_count": 218,
   "metadata": {},
   "outputs": [
    {
     "data": {
      "text/plain": [
       "712"
      ]
     },
     "execution_count": 218,
     "metadata": {},
     "output_type": "execute_result"
    }
   ],
   "source": [
    "# res[res[res.RESULTADO == 1 & res.FECHA_DEF != '9999-99-99']]\n",
    "res.query('RESULTADO == 1 & FECHA_DEF != \"9999-99-99\"').FECHA_DEF.count()"
   ]
  },
  {
   "cell_type": "code",
   "execution_count": 222,
   "metadata": {},
   "outputs": [],
   "source": [
    "def get_mexico_data(days_backwards = 7, verbose = False):\n",
    "#     start = pd.to_datetime('12-Apr-2020')\n",
    "#     start = pd.to_datetime('19-Apr-2020')\n",
    "#     end = pd.to_datetime('14-Apr-2020')\n",
    "    end = datetime.date.today()\n",
    "    start = datetime.date.today() - datetime.timedelta(days = days_backwards)\n",
    "    dates_to_see = pd.date_range(start, end)\n",
    "    \n",
    "    res = pd.DataFrame()\n",
    "    \n",
    "    for d in dates_to_see:\n",
    "        if verbose: print('Mexico pulling for {}'.format(d.strftime('%d-%m-%Y')))\n",
    "        url = \"http://187.191.75.115/gobmx/salud/datos_abiertos/historicos/datos_abiertos_covid19_{}.zip\".format(\n",
    "        d.strftime('%d.%m.%Y'))\n",
    "#         print(url)\n",
    "        r = requests.get(url, stream = True)\n",
    "\n",
    "        #fof represents 404 error on first try. Means we've reached last day of data.\n",
    "        fof = r.status_code == 404\n",
    "        if fof:\n",
    "            #If it's not under historical, grab most recent\n",
    "            r = requests.get(\"http://187.191.75.115/gobmx/salud/datos_abiertos/datos_abiertos_covid19.zip\")\n",
    "\n",
    "        f = zipfile.ZipFile(io.BytesIO(r.content))\n",
    "        with f.open(f.namelist()[0]) as thefile:\n",
    "            df = pd.read_csv(thefile)\n",
    "        \n",
    "        #Takes care of case when we had to go to recent df and it's yesterday's data.\n",
    "        if fof and df.FECHA_ACTUALIZACION.iloc[0] != d:\n",
    "            continue\n",
    "        \n",
    "        c = clean_mx_data(df, d)\n",
    "        res = res.append(c)\n",
    "        \n",
    "    return res.set_index(['Country', 'Date']).astype('int64')"
   ]
  },
  {
   "cell_type": "code",
   "execution_count": 223,
   "metadata": {},
   "outputs": [],
   "source": [
    "r = get_mexico_data(days_backwards = 7)"
   ]
  },
  {
   "cell_type": "code",
   "execution_count": 206,
   "metadata": {},
   "outputs": [
    {
     "name": "stdout",
     "output_type": "stream",
     "text": [
      "1\n",
      "2\n",
      "4\n"
     ]
    }
   ],
   "source": [
    "for i in range(1, 5):\n",
    "    if i ==3:\n",
    "        continue\n",
    "    print(i)"
   ]
  },
  {
   "cell_type": "code",
   "execution_count": 224,
   "metadata": {},
   "outputs": [
    {
     "data": {
      "text/html": [
       "<div>\n",
       "<style scoped>\n",
       "    .dataframe tbody tr th:only-of-type {\n",
       "        vertical-align: middle;\n",
       "    }\n",
       "\n",
       "    .dataframe tbody tr th {\n",
       "        vertical-align: top;\n",
       "    }\n",
       "\n",
       "    .dataframe thead th {\n",
       "        text-align: right;\n",
       "    }\n",
       "</style>\n",
       "<table border=\"1\" class=\"dataframe\">\n",
       "  <thead>\n",
       "    <tr style=\"text-align: right;\">\n",
       "      <th></th>\n",
       "      <th></th>\n",
       "      <th>Confirmed</th>\n",
       "      <th>TotalTests</th>\n",
       "      <th>Deaths</th>\n",
       "    </tr>\n",
       "    <tr>\n",
       "      <th>Country</th>\n",
       "      <th>Date</th>\n",
       "      <th></th>\n",
       "      <th></th>\n",
       "      <th></th>\n",
       "    </tr>\n",
       "  </thead>\n",
       "  <tbody>\n",
       "    <tr>\n",
       "      <th rowspan=\"2\" valign=\"top\">Mexico</th>\n",
       "      <th>2020-04-18</th>\n",
       "      <td>7497</td>\n",
       "      <td>36798</td>\n",
       "      <td>650</td>\n",
       "    </tr>\n",
       "    <tr>\n",
       "      <th>2020-04-19</th>\n",
       "      <td>8261</td>\n",
       "      <td>39431</td>\n",
       "      <td>686</td>\n",
       "    </tr>\n",
       "  </tbody>\n",
       "</table>\n",
       "</div>"
      ],
      "text/plain": [
       "                    Confirmed  TotalTests  Deaths\n",
       "Country Date                                     \n",
       "Mexico  2020-04-18       7497       36798     650\n",
       "        2020-04-19       8261       39431     686"
      ]
     },
     "execution_count": 224,
     "metadata": {},
     "output_type": "execute_result"
    }
   ],
   "source": [
    "r"
   ]
  }
 ],
 "metadata": {
  "kernelspec": {
   "display_name": "Python 3",
   "language": "python",
   "name": "python3"
  },
  "language_info": {
   "codemirror_mode": {
    "name": "ipython",
    "version": 3
   },
   "file_extension": ".py",
   "mimetype": "text/x-python",
   "name": "python",
   "nbconvert_exporter": "python",
   "pygments_lexer": "ipython3",
   "version": "3.7.4"
  }
 },
 "nbformat": 4,
 "nbformat_minor": 4
}
