{
 "cells": [
  {
   "cell_type": "code",
   "execution_count": 1,
   "metadata": {},
   "outputs": [],
   "source": [
    "import plotly.express as px\n",
    "import numpy as np\n",
    "import pandas as pd\n",
    "# import plotly.graph_objects as go"
   ]
  },
  {
   "cell_type": "code",
   "execution_count": 83,
   "metadata": {},
   "outputs": [],
   "source": [
    "#Load initial data\n",
    "dat = pd.read_csv('Covid19_Data.csv', index_col = 0)\n",
    "dat.index = pd.to_datetime(dat.index)"
   ]
  },
  {
   "cell_type": "code",
   "execution_count": 84,
   "metadata": {},
   "outputs": [],
   "source": [
    "#Housekeeping to make into multiindex.\n",
    "col = dat.columns.str.split('_', expand=True)\n",
    "dat.columns = col\n",
    "dat.index = dat.index.rename(\"Date\")\n",
    "dat.columns = dat.columns.rename(['Country', 'Col'])\n",
    "dat = dat.stack(level=0)\n",
    "dat.index = dat.index.reorder_levels(['Country', 'Date'])"
   ]
  },
  {
   "cell_type": "code",
   "execution_count": 85,
   "metadata": {},
   "outputs": [],
   "source": [
    "jhu_url = 'https://raw.githubusercontent.com/CSSEGISandData/COVID-19/master/csse_covid_19_data/csse_covid_19_time_series/time_series_covid19_confirmed_global.csv'\n",
    "jhu_df = pd.read_csv(jhu_url, error_bad_lines = False)\n",
    "\n",
    "jhu_df = jhu_df.groupby('Country/Region').sum().drop(['Lat', 'Long'], axis=1)\n",
    "jhu_df = jhu_df.stack().rename('Confirmed').to_frame()\n",
    "\n",
    "\n",
    "# jhu_df\n",
    "jhu_df.index = jhu_df.index.rename(['Country', 'Date'])\n",
    "jhu_df.index = jhu_df.index.set_levels([jhu_df.index.levels[0], pd.to_datetime(jhu_df.index.levels[1])])\n",
    "\n",
    "jhu_death_url = 'https://raw.githubusercontent.com/CSSEGISandData/COVID-19/master/csse_covid_19_data/csse_covid_19_time_series/time_series_covid19_deaths_global.csv'\n",
    "jhu_death_df = pd.read_csv(jhu_death_url, error_bad_lines = False)\n",
    "\n",
    "jhu_death_df = jhu_death_df.groupby('Country/Region').sum().drop(['Lat', 'Long'], axis=1)\n",
    "jhu_death_df = jhu_death_df.stack().rename('Dead').to_frame()\n",
    "\n",
    "jhu_death_df.index = jhu_death_df.index.rename(['Country', 'Date'])\n",
    "jhu_death_df.index = jhu_death_df.index.set_levels([jhu_death_df.index.levels[0], pd.to_datetime(jhu_death_df.index.levels[1])])\n",
    "\n",
    "jhu_df = jhu_death_df.join(jhu_df)\n",
    "jhu_death_df = None\n",
    "\n",
    "# jhu_df.index = jhu_df.index.reorder_levels([\"Date\", \"Country\"])\n",
    "# jhu_df\n",
    "# jhu_df.loc['Panama'], dat.loc['Panama']['Confirmed']"
   ]
  },
  {
   "cell_type": "code",
   "execution_count": 86,
   "metadata": {},
   "outputs": [],
   "source": [
    "# dat.unstack().join(jhu_df.unstack(), rsuffix = '_JHU')\n",
    "# dat.join(jhu_df, rsuffix = '_JHU')\n",
    "# pd.concat([dat, jhu_df], axis=1 , join = 'inner' )\n",
    "dat = pd.merge(dat, jhu_df, left_index=True, right_index=True, how = 'outer', suffixes = ('', '_JHU'))\n",
    "dat['Confirmed'] = dat['Confirmed'].combine_first(dat['Confirmed_JHU'])\n",
    "dat['Dead'] = dat['Dead'].combine_first(dat['Dead_JHU'])\n",
    "\n",
    "dat = dat.drop(['Confirmed_JHU', 'Dead_JHU'], axis=1)\n",
    "# dat.unstack()"
   ]
  },
  {
   "cell_type": "code",
   "execution_count": 87,
   "metadata": {},
   "outputs": [],
   "source": [
    "def get_divide_cols_fn(c1, c2, res):\n",
    "    def f(df):\n",
    "        df[res] = df[c1]/df[c2]\n",
    "        return df\n",
    "    return f\n",
    "\n",
    "# def get_d():\n",
    "#     def f(df):\n",
    "        "
   ]
  },
  {
   "cell_type": "markdown",
   "metadata": {},
   "source": [
    "## TODO:\n",
    "#### Stats to Add:\n",
    "* Death Rate\n",
    "* Hospitalization Rate\n",
    "* Per capita testing (probably have to include as a separate graph bc x-axis)\n",
    "\n",
    "#### Other things todo:\n",
    "* Add lockdown date in graphs (maybe a star)\n",
    "* Refresh data button? Should just run the data_clean script.\n"
   ]
  },
  {
   "cell_type": "code",
   "execution_count": 88,
   "metadata": {},
   "outputs": [],
   "source": [
    "#Add New Cases, New Tests\n",
    "dat['NewCases'] = dat.groupby('Country')['Confirmed'].diff()\n",
    "dat['NewTests'] = dat.groupby('Country')['TotalTests'].diff()\n",
    "# dat['DaysSinceFirst'] = dat.groupby('Country')['Confirmed'].cumcount() + 1\n",
    "dat['DaysSinceFirst'] = (dat['Confirmed'] >= 1).groupby('Country').cumsum().replace(0, np.nan) - 1\n",
    "dat['ConfirmedGrowth'] = dat.groupby('Country')['Confirmed'].pct_change() * 100.\n",
    "dat['DaysSinceTenthDeath'] = (dat['Dead'] >= 10).groupby('Country').cumsum().replace(0, np.nan)\n",
    "# dat['DaysSinceShutdown'] = dat['Shutdown'].groupby('Country').fillna(method='ffill').groupby('Country').cumsum().replace(0, np.nan) - 1\n",
    "\n",
    "\n",
    "\n",
    "dat = dat.groupby('Country').apply(get_divide_cols_fn(\"NewCases\", \"NewTests\", \"DailyPosTestRate\"))\n",
    "dat = dat.groupby('Country').apply(get_divide_cols_fn(\"Confirmed\", \"TotalTests\", \"CumulativePosTestRate\"))\n",
    "dat = dat.groupby('Country').apply(get_divide_cols_fn(\"Dead\", \"Confirmed\", \"CumulativeDeadRate\"))\n",
    "# dat['DaysSince'] = dat.groupby('Country')['Confirmed'].expanding(1).count()\n",
    "# dat['DailyPosTestRate'] = dat.groupby(level=1)['NewCases']/dat.groupby(level=1)['NewTests']\n",
    "\n",
    "\n"
   ]
  },
  {
   "cell_type": "code",
   "execution_count": 89,
   "metadata": {},
   "outputs": [],
   "source": [
    "dat['DaysSinceShutdown'] = np.nan\n",
    "x = (dat[dat['Shutdown'] == 1]).groupby('Country').shift(0)\n",
    "s_countries = list(x.index.get_level_values(0))\n",
    "\n",
    "for s in s_countries:\n",
    "    #Find d\n",
    "    old = x.xs(s, level=0)\n",
    "    d = (old.index[x['Shutdown'] == 1] - dat.index[0][1]).days[0]\n",
    "    new = dat.xs(s, level=0).Shutdown.shift(-d+2).fillna(1).cumsum() - (d-1)\n",
    "    dat.loc[s]['DaysSinceShutdown'] = new"
   ]
  },
  {
   "cell_type": "code",
   "execution_count": 90,
   "metadata": {},
   "outputs": [],
   "source": [
    "# dat.loc['Peru']['DaysSinceShutdown'].tail(15)\n",
    "dat = dat[dat['Confirmed'] >= 1]\n",
    "# s_countries"
   ]
  },
  {
   "cell_type": "code",
   "execution_count": 91,
   "metadata": {},
   "outputs": [],
   "source": [
    "dat.tail(10)\n",
    "\n",
    "dat = dat.set_index([dat.index, \"DaysSinceFirst\", \"DaysSinceTenthDeath\", \"DaysSinceShutdown\"\n",
    "                    ]).reorder_levels([\"Country\", \"DaysSinceFirst\", \"DaysSinceTenthDeath\", \"DaysSinceShutdown\",\n",
    "                                       \"Date\"]).sort_index()"
   ]
  },
  {
   "cell_type": "code",
   "execution_count": 92,
   "metadata": {},
   "outputs": [],
   "source": [
    "dat.tail(30)\n",
    "\n",
    "countries = list(dat.index.get_level_values(0).unique())\n",
    "stats = list(dat.columns)\n",
    "stat_map = {\n",
    "    'DailyPosTestRate': 'Daily Positive Test Rate',\n",
    "    'Confirmed': 'Confirmed Tests',\n",
    "    'NewTests': 'Daily New Tests',\n",
    "    'CumulativePosTestRate': 'Cumulative Positive Test Rate',\n",
    "    'NewCases': 'New Cases',\n",
    "    'TotalTests': 'Total Tests',\n",
    "    'ConfirmedGrowth': 'Daily Confirmed Cases Growth (%)',\n",
    "    'CumulativeDeadRate': 'Cumulative Death Rate'\n",
    "}\n",
    "\n",
    "xs = ['DaysSinceFirst', 'Date', 'DaysSinceTenthDeath', 'DaysSinceShutdown']\n",
    "xs_map = {'DaysSinceFirst': 'Days Since First Confirmed',\n",
    "         'DaysSinceTenthDeath': 'Days Since 10th Death',\n",
    "         'DaysSinceShutdown': 'Days Since Economic Shutdown'}\n"
   ]
  },
  {
   "cell_type": "markdown",
   "metadata": {},
   "source": [
    "# Important Dates by Country:\n",
    "\n",
    "### Peru\n",
    "- Sourhces: ministerio de salud, wikipedia page\n",
    "* March 11 - Declaran emergencia sanitaria por 90 dias\n",
    "* March 13 - Suspenden vuelos internacional desde Europa y Asia\n",
    "* March 16 - Teletrabajo para todos menos los esenciales\n",
    "* March 17 - Cierran fronteras\n",
    "* March 18 - Cuarentena general entre 8PM y 5 AM.\n",
    "* https://www.dge.gob.pe/portal/\n",
    "\n",
    "### Panama\n",
    "* Something\n",
    "\n",
    "### Guatemala\n",
    "- Source: Alejandro Giammattei twitter\n",
    "* March 22 - Cuarentena general entre 4 PM y 4 AM por 8 dias"
   ]
  },
  {
   "cell_type": "code",
   "execution_count": 95,
   "metadata": {},
   "outputs": [],
   "source": [
    "def make_graph(count_to_plot, stat_to_plot, x_axis, plot_style = 0, m=None):\n",
    "    to_add = ['Date'] if x_axis != 'Date' else []\n",
    "    to_plot = dat.reset_index()\n",
    "    to_plot = to_plot[to_plot.Country.isin(count_to_plot)][['Country'] + [stat_to_plot] + [x_axis] + ['Shutdown']+to_add ]\n",
    "    if x_axis != 'Date':\n",
    "        to_plot['Date'] = to_plot['Date'].dt.strftime('%b %d, %Y')\n",
    "#     to_plot.Shutdown = to_plot.Shutdown.fillna(method  = 'ffill')\n",
    "    to_plot.Shutdown = to_plot.Shutdown.fillna(value = 0)\n",
    "    \n",
    "#     to_plot = to_plot.dropna(axis=0, how = 'any')\n",
    "    print(to_plot.head())\n",
    "\n",
    "    \n",
    "    if plot_style == 0:\n",
    "        fig = px.scatter(to_plot, \n",
    "                         x = to_plot[x_axis], \n",
    "                         y = to_plot[stat_to_plot], \n",
    "                         color = to_plot.Country,\n",
    "                         hover_data = ['Date'] if x_axis != 'Date' else [],\n",
    "#                          symbol = 'Shutdown',\n",
    "#                          symbol_map = {1: 'star', 0:'circle'},\n",
    "                         title = '{} by Country'.format(stat_map.get(stat_to_plot, stat_to_plot)))\n",
    "    elif plot_style == 1:\n",
    "        fig = px.bar(to_plot, \n",
    "                         x = to_plot[x_axis], \n",
    "                         y = to_plot[stat_to_plot], \n",
    "                         color = to_plot.Country,\n",
    "                         barmode = 'group',\n",
    "                         hover_data = ['Date'] if x_axis != 'Date' else [],\n",
    "                         title = '{} by Country'.format(stat_map.get(stat_to_plot, stat_to_plot)))\n",
    "    elif plot_style == 2:\n",
    "        fig = px.line(to_plot, \n",
    "                         x = to_plot[x_axis], \n",
    "                         y = to_plot[stat_to_plot], \n",
    "                         color = to_plot.Country,\n",
    "                         hover_data = ['Date'] if x_axis != 'Date' else [],\n",
    "                         title = '{} by Country'.format(stat_map.get(stat_to_plot, stat_to_plot)))\n",
    "#     fig.add_trace(tr)\n",
    "    \n",
    "#     fig.update_xaxes(title = 'Days Since First Confirmed Test')\n",
    "    fig.update_xaxes(title = xs_map.get(x_axis, x_axis))\n",
    "    fig.update_yaxes(title = stat_to_plot)\n",
    "    \n",
    "#     for trace in fig.data:\n",
    "#         trace.name = trace.name.split(',')[0]\n",
    "    \n",
    "    if m is not None:\n",
    "        x_lim = to_plot.reset_index().groupby('Country')[x_axis].max().min() * m\n",
    "        y_lim = to_plot.reset_index().groupby('Country')[stat_to_plot].max().min() * m\n",
    "        fig.update_xaxes(range = [0, x_lim])\n",
    "        fig.update_yaxes(range = [0, y_lim])\n",
    "        \n",
    "    return fig\n",
    "\n"
   ]
  },
  {
   "cell_type": "code",
   "execution_count": 97,
   "metadata": {},
   "outputs": [
    {
     "name": "stdout",
     "output_type": "stream",
     "text": [
      "    Country  Confirmed  DaysSinceShutdown  Shutdown          Date\n",
      "765   China      548.0                NaN       0.0  Jan 22, 2020\n",
      "766   China      643.0                NaN       0.0  Jan 23, 2020\n",
      "767   China      920.0                NaN       0.0  Jan 24, 2020\n",
      "768   China     1406.0                NaN       0.0  Jan 25, 2020\n",
      "769   China     2075.0                NaN       0.0  Jan 26, 2020\n"
     ]
    },
    {
     "data": {
      "application/vnd.plotly.v1+json": {
       "config": {
        "plotlyServerURL": "https://plot.ly"
       },
       "data": [
        {
         "customdata": [
          [
           "Jan 22, 2020"
          ],
          [
           "Jan 23, 2020"
          ],
          [
           "Jan 24, 2020"
          ],
          [
           "Jan 25, 2020"
          ],
          [
           "Jan 26, 2020"
          ],
          [
           "Jan 27, 2020"
          ],
          [
           "Jan 28, 2020"
          ],
          [
           "Jan 29, 2020"
          ],
          [
           "Jan 30, 2020"
          ],
          [
           "Jan 31, 2020"
          ],
          [
           "Feb 01, 2020"
          ],
          [
           "Feb 02, 2020"
          ],
          [
           "Feb 03, 2020"
          ],
          [
           "Feb 04, 2020"
          ],
          [
           "Feb 05, 2020"
          ],
          [
           "Feb 06, 2020"
          ],
          [
           "Feb 07, 2020"
          ],
          [
           "Feb 08, 2020"
          ],
          [
           "Feb 09, 2020"
          ],
          [
           "Feb 10, 2020"
          ],
          [
           "Feb 11, 2020"
          ],
          [
           "Feb 12, 2020"
          ],
          [
           "Feb 13, 2020"
          ],
          [
           "Feb 14, 2020"
          ],
          [
           "Feb 15, 2020"
          ],
          [
           "Feb 16, 2020"
          ],
          [
           "Feb 17, 2020"
          ],
          [
           "Feb 18, 2020"
          ],
          [
           "Feb 19, 2020"
          ],
          [
           "Feb 20, 2020"
          ],
          [
           "Feb 21, 2020"
          ],
          [
           "Feb 22, 2020"
          ],
          [
           "Feb 23, 2020"
          ],
          [
           "Feb 24, 2020"
          ],
          [
           "Feb 25, 2020"
          ],
          [
           "Feb 26, 2020"
          ],
          [
           "Feb 27, 2020"
          ],
          [
           "Feb 28, 2020"
          ],
          [
           "Feb 29, 2020"
          ],
          [
           "Mar 01, 2020"
          ],
          [
           "Mar 02, 2020"
          ],
          [
           "Mar 03, 2020"
          ],
          [
           "Mar 04, 2020"
          ],
          [
           "Mar 05, 2020"
          ],
          [
           "Mar 06, 2020"
          ],
          [
           "Mar 07, 2020"
          ],
          [
           "Mar 08, 2020"
          ],
          [
           "Mar 09, 2020"
          ],
          [
           "Mar 10, 2020"
          ],
          [
           "Mar 11, 2020"
          ],
          [
           "Mar 12, 2020"
          ],
          [
           "Mar 13, 2020"
          ],
          [
           "Mar 14, 2020"
          ],
          [
           "Mar 15, 2020"
          ],
          [
           "Mar 16, 2020"
          ],
          [
           "Mar 17, 2020"
          ],
          [
           "Mar 18, 2020"
          ],
          [
           "Mar 19, 2020"
          ],
          [
           "Mar 20, 2020"
          ],
          [
           "Mar 21, 2020"
          ],
          [
           "Mar 22, 2020"
          ],
          [
           "Mar 23, 2020"
          ],
          [
           "Mar 24, 2020"
          ],
          [
           "Mar 25, 2020"
          ]
         ],
         "hoverlabel": {
          "namelength": 0
         },
         "hovertemplate": "Country=China<br>DaysSinceShutdown=%{x}<br>Confirmed=%{y}<br>Date=%{customdata[0]}",
         "legendgroup": "China",
         "marker": {
          "color": "#636efa",
          "symbol": "circle"
         },
         "mode": "markers",
         "name": "China",
         "showlegend": true,
         "type": "scatter",
         "x": [
          null,
          null,
          null,
          null,
          null,
          null,
          null,
          null,
          null,
          null,
          null,
          null,
          null,
          null,
          null,
          null,
          null,
          null,
          null,
          null,
          null,
          null,
          null,
          null,
          null,
          null,
          null,
          null,
          null,
          null,
          null,
          null,
          null,
          null,
          null,
          null,
          null,
          null,
          null,
          null,
          null,
          null,
          null,
          null,
          null,
          null,
          null,
          null,
          null,
          null,
          null,
          null,
          null,
          null,
          null,
          null,
          null,
          null,
          null,
          null,
          null,
          null,
          null,
          null
         ],
         "xaxis": "x",
         "y": [
          548,
          643,
          920,
          1406,
          2075,
          2877,
          5509,
          6087,
          8141,
          9802,
          11891,
          16630,
          19716,
          23707,
          27440,
          30587,
          34110,
          36814,
          39829,
          42354,
          44386,
          44759,
          59895,
          66358,
          68413,
          70513,
          72434,
          74211,
          74619,
          75077,
          75550,
          77001,
          77022,
          77241,
          77754,
          78166,
          78600,
          78928,
          79356,
          79932,
          80136,
          80261,
          80386,
          80537,
          80690,
          80770,
          80823,
          80860,
          80887,
          80921,
          80932,
          80945,
          80977,
          81003,
          81033,
          81058,
          81102,
          81156,
          81250,
          81305,
          81435,
          81498,
          81591,
          81661
         ],
         "yaxis": "y"
        },
        {
         "customdata": [
          [
           "Mar 09, 2020"
          ],
          [
           "Mar 10, 2020"
          ],
          [
           "Mar 11, 2020"
          ],
          [
           "Mar 12, 2020"
          ],
          [
           "Mar 13, 2020"
          ],
          [
           "Mar 14, 2020"
          ],
          [
           "Mar 15, 2020"
          ],
          [
           "Mar 16, 2020"
          ],
          [
           "Mar 17, 2020"
          ],
          [
           "Mar 18, 2020"
          ],
          [
           "Mar 19, 2020"
          ],
          [
           "Mar 20, 2020"
          ],
          [
           "Mar 21, 2020"
          ],
          [
           "Mar 22, 2020"
          ],
          [
           "Mar 23, 2020"
          ],
          [
           "Mar 24, 2020"
          ],
          [
           "Mar 25, 2020"
          ]
         ],
         "hoverlabel": {
          "namelength": 0
         },
         "hovertemplate": "Country=Panama<br>DaysSinceShutdown=%{x}<br>Confirmed=%{y}<br>Date=%{customdata[0]}",
         "legendgroup": "Panama",
         "marker": {
          "color": "#EF553B",
          "symbol": "circle"
         },
         "mode": "markers",
         "name": "Panama",
         "showlegend": true,
         "type": "scatter",
         "x": [
          -8,
          -7,
          -6,
          -5,
          -4,
          -3,
          -2,
          -1,
          0,
          1,
          2,
          3,
          4,
          5,
          6,
          7,
          8
         ],
         "xaxis": "x",
         "y": [
          1,
          8,
          14,
          27,
          36,
          43,
          55,
          69,
          86,
          109,
          137,
          200,
          245,
          313,
          345,
          443,
          558
         ],
         "yaxis": "y"
        }
       ],
       "layout": {
        "autosize": true,
        "dragmode": "zoom",
        "legend": {
         "title": {
          "text": "Country"
         },
         "tracegroupgap": 0
        },
        "template": {
         "data": {
          "bar": [
           {
            "error_x": {
             "color": "#2a3f5f"
            },
            "error_y": {
             "color": "#2a3f5f"
            },
            "marker": {
             "line": {
              "color": "#E5ECF6",
              "width": 0.5
             }
            },
            "type": "bar"
           }
          ],
          "barpolar": [
           {
            "marker": {
             "line": {
              "color": "#E5ECF6",
              "width": 0.5
             }
            },
            "type": "barpolar"
           }
          ],
          "carpet": [
           {
            "aaxis": {
             "endlinecolor": "#2a3f5f",
             "gridcolor": "white",
             "linecolor": "white",
             "minorgridcolor": "white",
             "startlinecolor": "#2a3f5f"
            },
            "baxis": {
             "endlinecolor": "#2a3f5f",
             "gridcolor": "white",
             "linecolor": "white",
             "minorgridcolor": "white",
             "startlinecolor": "#2a3f5f"
            },
            "type": "carpet"
           }
          ],
          "choropleth": [
           {
            "colorbar": {
             "outlinewidth": 0,
             "ticks": ""
            },
            "type": "choropleth"
           }
          ],
          "contour": [
           {
            "colorbar": {
             "outlinewidth": 0,
             "ticks": ""
            },
            "colorscale": [
             [
              0,
              "#0d0887"
             ],
             [
              0.1111111111111111,
              "#46039f"
             ],
             [
              0.2222222222222222,
              "#7201a8"
             ],
             [
              0.3333333333333333,
              "#9c179e"
             ],
             [
              0.4444444444444444,
              "#bd3786"
             ],
             [
              0.5555555555555556,
              "#d8576b"
             ],
             [
              0.6666666666666666,
              "#ed7953"
             ],
             [
              0.7777777777777778,
              "#fb9f3a"
             ],
             [
              0.8888888888888888,
              "#fdca26"
             ],
             [
              1,
              "#f0f921"
             ]
            ],
            "type": "contour"
           }
          ],
          "contourcarpet": [
           {
            "colorbar": {
             "outlinewidth": 0,
             "ticks": ""
            },
            "type": "contourcarpet"
           }
          ],
          "heatmap": [
           {
            "colorbar": {
             "outlinewidth": 0,
             "ticks": ""
            },
            "colorscale": [
             [
              0,
              "#0d0887"
             ],
             [
              0.1111111111111111,
              "#46039f"
             ],
             [
              0.2222222222222222,
              "#7201a8"
             ],
             [
              0.3333333333333333,
              "#9c179e"
             ],
             [
              0.4444444444444444,
              "#bd3786"
             ],
             [
              0.5555555555555556,
              "#d8576b"
             ],
             [
              0.6666666666666666,
              "#ed7953"
             ],
             [
              0.7777777777777778,
              "#fb9f3a"
             ],
             [
              0.8888888888888888,
              "#fdca26"
             ],
             [
              1,
              "#f0f921"
             ]
            ],
            "type": "heatmap"
           }
          ],
          "heatmapgl": [
           {
            "colorbar": {
             "outlinewidth": 0,
             "ticks": ""
            },
            "colorscale": [
             [
              0,
              "#0d0887"
             ],
             [
              0.1111111111111111,
              "#46039f"
             ],
             [
              0.2222222222222222,
              "#7201a8"
             ],
             [
              0.3333333333333333,
              "#9c179e"
             ],
             [
              0.4444444444444444,
              "#bd3786"
             ],
             [
              0.5555555555555556,
              "#d8576b"
             ],
             [
              0.6666666666666666,
              "#ed7953"
             ],
             [
              0.7777777777777778,
              "#fb9f3a"
             ],
             [
              0.8888888888888888,
              "#fdca26"
             ],
             [
              1,
              "#f0f921"
             ]
            ],
            "type": "heatmapgl"
           }
          ],
          "histogram": [
           {
            "marker": {
             "colorbar": {
              "outlinewidth": 0,
              "ticks": ""
             }
            },
            "type": "histogram"
           }
          ],
          "histogram2d": [
           {
            "colorbar": {
             "outlinewidth": 0,
             "ticks": ""
            },
            "colorscale": [
             [
              0,
              "#0d0887"
             ],
             [
              0.1111111111111111,
              "#46039f"
             ],
             [
              0.2222222222222222,
              "#7201a8"
             ],
             [
              0.3333333333333333,
              "#9c179e"
             ],
             [
              0.4444444444444444,
              "#bd3786"
             ],
             [
              0.5555555555555556,
              "#d8576b"
             ],
             [
              0.6666666666666666,
              "#ed7953"
             ],
             [
              0.7777777777777778,
              "#fb9f3a"
             ],
             [
              0.8888888888888888,
              "#fdca26"
             ],
             [
              1,
              "#f0f921"
             ]
            ],
            "type": "histogram2d"
           }
          ],
          "histogram2dcontour": [
           {
            "colorbar": {
             "outlinewidth": 0,
             "ticks": ""
            },
            "colorscale": [
             [
              0,
              "#0d0887"
             ],
             [
              0.1111111111111111,
              "#46039f"
             ],
             [
              0.2222222222222222,
              "#7201a8"
             ],
             [
              0.3333333333333333,
              "#9c179e"
             ],
             [
              0.4444444444444444,
              "#bd3786"
             ],
             [
              0.5555555555555556,
              "#d8576b"
             ],
             [
              0.6666666666666666,
              "#ed7953"
             ],
             [
              0.7777777777777778,
              "#fb9f3a"
             ],
             [
              0.8888888888888888,
              "#fdca26"
             ],
             [
              1,
              "#f0f921"
             ]
            ],
            "type": "histogram2dcontour"
           }
          ],
          "mesh3d": [
           {
            "colorbar": {
             "outlinewidth": 0,
             "ticks": ""
            },
            "type": "mesh3d"
           }
          ],
          "parcoords": [
           {
            "line": {
             "colorbar": {
              "outlinewidth": 0,
              "ticks": ""
             }
            },
            "type": "parcoords"
           }
          ],
          "pie": [
           {
            "automargin": true,
            "type": "pie"
           }
          ],
          "scatter": [
           {
            "marker": {
             "colorbar": {
              "outlinewidth": 0,
              "ticks": ""
             }
            },
            "type": "scatter"
           }
          ],
          "scatter3d": [
           {
            "line": {
             "colorbar": {
              "outlinewidth": 0,
              "ticks": ""
             }
            },
            "marker": {
             "colorbar": {
              "outlinewidth": 0,
              "ticks": ""
             }
            },
            "type": "scatter3d"
           }
          ],
          "scattercarpet": [
           {
            "marker": {
             "colorbar": {
              "outlinewidth": 0,
              "ticks": ""
             }
            },
            "type": "scattercarpet"
           }
          ],
          "scattergeo": [
           {
            "marker": {
             "colorbar": {
              "outlinewidth": 0,
              "ticks": ""
             }
            },
            "type": "scattergeo"
           }
          ],
          "scattergl": [
           {
            "marker": {
             "colorbar": {
              "outlinewidth": 0,
              "ticks": ""
             }
            },
            "type": "scattergl"
           }
          ],
          "scattermapbox": [
           {
            "marker": {
             "colorbar": {
              "outlinewidth": 0,
              "ticks": ""
             }
            },
            "type": "scattermapbox"
           }
          ],
          "scatterpolar": [
           {
            "marker": {
             "colorbar": {
              "outlinewidth": 0,
              "ticks": ""
             }
            },
            "type": "scatterpolar"
           }
          ],
          "scatterpolargl": [
           {
            "marker": {
             "colorbar": {
              "outlinewidth": 0,
              "ticks": ""
             }
            },
            "type": "scatterpolargl"
           }
          ],
          "scatterternary": [
           {
            "marker": {
             "colorbar": {
              "outlinewidth": 0,
              "ticks": ""
             }
            },
            "type": "scatterternary"
           }
          ],
          "surface": [
           {
            "colorbar": {
             "outlinewidth": 0,
             "ticks": ""
            },
            "colorscale": [
             [
              0,
              "#0d0887"
             ],
             [
              0.1111111111111111,
              "#46039f"
             ],
             [
              0.2222222222222222,
              "#7201a8"
             ],
             [
              0.3333333333333333,
              "#9c179e"
             ],
             [
              0.4444444444444444,
              "#bd3786"
             ],
             [
              0.5555555555555556,
              "#d8576b"
             ],
             [
              0.6666666666666666,
              "#ed7953"
             ],
             [
              0.7777777777777778,
              "#fb9f3a"
             ],
             [
              0.8888888888888888,
              "#fdca26"
             ],
             [
              1,
              "#f0f921"
             ]
            ],
            "type": "surface"
           }
          ],
          "table": [
           {
            "cells": {
             "fill": {
              "color": "#EBF0F8"
             },
             "line": {
              "color": "white"
             }
            },
            "header": {
             "fill": {
              "color": "#C8D4E3"
             },
             "line": {
              "color": "white"
             }
            },
            "type": "table"
           }
          ]
         },
         "layout": {
          "annotationdefaults": {
           "arrowcolor": "#2a3f5f",
           "arrowhead": 0,
           "arrowwidth": 1
          },
          "coloraxis": {
           "colorbar": {
            "outlinewidth": 0,
            "ticks": ""
           }
          },
          "colorscale": {
           "diverging": [
            [
             0,
             "#8e0152"
            ],
            [
             0.1,
             "#c51b7d"
            ],
            [
             0.2,
             "#de77ae"
            ],
            [
             0.3,
             "#f1b6da"
            ],
            [
             0.4,
             "#fde0ef"
            ],
            [
             0.5,
             "#f7f7f7"
            ],
            [
             0.6,
             "#e6f5d0"
            ],
            [
             0.7,
             "#b8e186"
            ],
            [
             0.8,
             "#7fbc41"
            ],
            [
             0.9,
             "#4d9221"
            ],
            [
             1,
             "#276419"
            ]
           ],
           "sequential": [
            [
             0,
             "#0d0887"
            ],
            [
             0.1111111111111111,
             "#46039f"
            ],
            [
             0.2222222222222222,
             "#7201a8"
            ],
            [
             0.3333333333333333,
             "#9c179e"
            ],
            [
             0.4444444444444444,
             "#bd3786"
            ],
            [
             0.5555555555555556,
             "#d8576b"
            ],
            [
             0.6666666666666666,
             "#ed7953"
            ],
            [
             0.7777777777777778,
             "#fb9f3a"
            ],
            [
             0.8888888888888888,
             "#fdca26"
            ],
            [
             1,
             "#f0f921"
            ]
           ],
           "sequentialminus": [
            [
             0,
             "#0d0887"
            ],
            [
             0.1111111111111111,
             "#46039f"
            ],
            [
             0.2222222222222222,
             "#7201a8"
            ],
            [
             0.3333333333333333,
             "#9c179e"
            ],
            [
             0.4444444444444444,
             "#bd3786"
            ],
            [
             0.5555555555555556,
             "#d8576b"
            ],
            [
             0.6666666666666666,
             "#ed7953"
            ],
            [
             0.7777777777777778,
             "#fb9f3a"
            ],
            [
             0.8888888888888888,
             "#fdca26"
            ],
            [
             1,
             "#f0f921"
            ]
           ]
          },
          "colorway": [
           "#636efa",
           "#EF553B",
           "#00cc96",
           "#ab63fa",
           "#FFA15A",
           "#19d3f3",
           "#FF6692",
           "#B6E880",
           "#FF97FF",
           "#FECB52"
          ],
          "font": {
           "color": "#2a3f5f"
          },
          "geo": {
           "bgcolor": "white",
           "lakecolor": "white",
           "landcolor": "#E5ECF6",
           "showlakes": true,
           "showland": true,
           "subunitcolor": "white"
          },
          "hoverlabel": {
           "align": "left"
          },
          "hovermode": "closest",
          "mapbox": {
           "style": "light"
          },
          "paper_bgcolor": "white",
          "plot_bgcolor": "#E5ECF6",
          "polar": {
           "angularaxis": {
            "gridcolor": "white",
            "linecolor": "white",
            "ticks": ""
           },
           "bgcolor": "#E5ECF6",
           "radialaxis": {
            "gridcolor": "white",
            "linecolor": "white",
            "ticks": ""
           }
          },
          "scene": {
           "xaxis": {
            "backgroundcolor": "#E5ECF6",
            "gridcolor": "white",
            "gridwidth": 2,
            "linecolor": "white",
            "showbackground": true,
            "ticks": "",
            "zerolinecolor": "white"
           },
           "yaxis": {
            "backgroundcolor": "#E5ECF6",
            "gridcolor": "white",
            "gridwidth": 2,
            "linecolor": "white",
            "showbackground": true,
            "ticks": "",
            "zerolinecolor": "white"
           },
           "zaxis": {
            "backgroundcolor": "#E5ECF6",
            "gridcolor": "white",
            "gridwidth": 2,
            "linecolor": "white",
            "showbackground": true,
            "ticks": "",
            "zerolinecolor": "white"
           }
          },
          "shapedefaults": {
           "line": {
            "color": "#2a3f5f"
           }
          },
          "ternary": {
           "aaxis": {
            "gridcolor": "white",
            "linecolor": "white",
            "ticks": ""
           },
           "baxis": {
            "gridcolor": "white",
            "linecolor": "white",
            "ticks": ""
           },
           "bgcolor": "#E5ECF6",
           "caxis": {
            "gridcolor": "white",
            "linecolor": "white",
            "ticks": ""
           }
          },
          "title": {
           "x": 0.05
          },
          "xaxis": {
           "automargin": true,
           "gridcolor": "white",
           "linecolor": "white",
           "ticks": "",
           "title": {
            "standoff": 15
           },
           "zerolinecolor": "white",
           "zerolinewidth": 2
          },
          "yaxis": {
           "automargin": true,
           "gridcolor": "white",
           "linecolor": "white",
           "ticks": "",
           "title": {
            "standoff": 15
           },
           "zerolinecolor": "white",
           "zerolinewidth": 2
          }
         }
        },
        "title": {
         "text": "Confirmed Tests by Country"
        },
        "xaxis": {
         "anchor": "y",
         "autorange": false,
         "domain": [
          0,
          1
         ],
         "range": [
          -8.385783758474098,
          8.334603063733255
         ],
         "title": {
          "text": "Days Since Economic Shutdown"
         }
        },
        "yaxis": {
         "anchor": "x",
         "autorange": false,
         "domain": [
          0,
          1
         ],
         "range": [
          -354.43130907984255,
          2500.4901346568877
         ],
         "title": {
          "text": "Confirmed"
         },
         "type": "linear"
        }
       }
      },
      "image/png": "[encoded data removed]",
      "text/html": [
       "<div>\n",
       "        \n",
       "        \n",
       "            <div id=\"b8149891-7c12-4df7-abc2-2c3b90997ad3\" class=\"plotly-graph-div\" style=\"height:525px; width:100%;\"></div>\n",
       "            <script type=\"text/javascript\">\n",
       "                require([\"plotly\"], function(Plotly) {\n",
       "                    window.PLOTLYENV=window.PLOTLYENV || {};\n",
       "                    \n",
       "                if (document.getElementById(\"b8149891-7c12-4df7-abc2-2c3b90997ad3\")) {\n",
       "                    Plotly.newPlot(\n",
       "                        'b8149891-7c12-4df7-abc2-2c3b90997ad3',\n",
       "                        [{\"customdata\": [[\"Jan 22, 2020\"], [\"Jan 23, 2020\"], [\"Jan 24, 2020\"], [\"Jan 25, 2020\"], [\"Jan 26, 2020\"], [\"Jan 27, 2020\"], [\"Jan 28, 2020\"], [\"Jan 29, 2020\"], [\"Jan 30, 2020\"], [\"Jan 31, 2020\"], [\"Feb 01, 2020\"], [\"Feb 02, 2020\"], [\"Feb 03, 2020\"], [\"Feb 04, 2020\"], [\"Feb 05, 2020\"], [\"Feb 06, 2020\"], [\"Feb 07, 2020\"], [\"Feb 08, 2020\"], [\"Feb 09, 2020\"], [\"Feb 10, 2020\"], [\"Feb 11, 2020\"], [\"Feb 12, 2020\"], [\"Feb 13, 2020\"], [\"Feb 14, 2020\"], [\"Feb 15, 2020\"], [\"Feb 16, 2020\"], [\"Feb 17, 2020\"], [\"Feb 18, 2020\"], [\"Feb 19, 2020\"], [\"Feb 20, 2020\"], [\"Feb 21, 2020\"], [\"Feb 22, 2020\"], [\"Feb 23, 2020\"], [\"Feb 24, 2020\"], [\"Feb 25, 2020\"], [\"Feb 26, 2020\"], [\"Feb 27, 2020\"], [\"Feb 28, 2020\"], [\"Feb 29, 2020\"], [\"Mar 01, 2020\"], [\"Mar 02, 2020\"], [\"Mar 03, 2020\"], [\"Mar 04, 2020\"], [\"Mar 05, 2020\"], [\"Mar 06, 2020\"], [\"Mar 07, 2020\"], [\"Mar 08, 2020\"], [\"Mar 09, 2020\"], [\"Mar 10, 2020\"], [\"Mar 11, 2020\"], [\"Mar 12, 2020\"], [\"Mar 13, 2020\"], [\"Mar 14, 2020\"], [\"Mar 15, 2020\"], [\"Mar 16, 2020\"], [\"Mar 17, 2020\"], [\"Mar 18, 2020\"], [\"Mar 19, 2020\"], [\"Mar 20, 2020\"], [\"Mar 21, 2020\"], [\"Mar 22, 2020\"], [\"Mar 23, 2020\"], [\"Mar 24, 2020\"], [\"Mar 25, 2020\"]], \"hoverlabel\": {\"namelength\": 0}, \"hovertemplate\": \"Country=China<br>DaysSinceShutdown=%{x}<br>Confirmed=%{y}<br>Date=%{customdata[0]}\", \"legendgroup\": \"China\", \"marker\": {\"color\": \"#636efa\", \"symbol\": \"circle\"}, \"mode\": \"markers\", \"name\": \"China\", \"showlegend\": true, \"type\": \"scatter\", \"x\": [null, null, null, null, null, null, null, null, null, null, null, null, null, null, null, null, null, null, null, null, null, null, null, null, null, null, null, null, null, null, null, null, null, null, null, null, null, null, null, null, null, null, null, null, null, null, null, null, null, null, null, null, null, null, null, null, null, null, null, null, null, null, null, null], \"xaxis\": \"x\", \"y\": [548.0, 643.0, 920.0, 1406.0, 2075.0, 2877.0, 5509.0, 6087.0, 8141.0, 9802.0, 11891.0, 16630.0, 19716.0, 23707.0, 27440.0, 30587.0, 34110.0, 36814.0, 39829.0, 42354.0, 44386.0, 44759.0, 59895.0, 66358.0, 68413.0, 70513.0, 72434.0, 74211.0, 74619.0, 75077.0, 75550.0, 77001.0, 77022.0, 77241.0, 77754.0, 78166.0, 78600.0, 78928.0, 79356.0, 79932.0, 80136.0, 80261.0, 80386.0, 80537.0, 80690.0, 80770.0, 80823.0, 80860.0, 80887.0, 80921.0, 80932.0, 80945.0, 80977.0, 81003.0, 81033.0, 81058.0, 81102.0, 81156.0, 81250.0, 81305.0, 81435.0, 81498.0, 81591.0, 81661.0], \"yaxis\": \"y\"}, {\"customdata\": [[\"Mar 09, 2020\"], [\"Mar 10, 2020\"], [\"Mar 11, 2020\"], [\"Mar 12, 2020\"], [\"Mar 13, 2020\"], [\"Mar 14, 2020\"], [\"Mar 15, 2020\"], [\"Mar 16, 2020\"], [\"Mar 17, 2020\"], [\"Mar 18, 2020\"], [\"Mar 19, 2020\"], [\"Mar 20, 2020\"], [\"Mar 21, 2020\"], [\"Mar 22, 2020\"], [\"Mar 23, 2020\"], [\"Mar 24, 2020\"], [\"Mar 25, 2020\"]], \"hoverlabel\": {\"namelength\": 0}, \"hovertemplate\": \"Country=Panama<br>DaysSinceShutdown=%{x}<br>Confirmed=%{y}<br>Date=%{customdata[0]}\", \"legendgroup\": \"Panama\", \"marker\": {\"color\": \"#EF553B\", \"symbol\": \"circle\"}, \"mode\": \"markers\", \"name\": \"Panama\", \"showlegend\": true, \"type\": \"scatter\", \"x\": [-8.0, -7.0, -6.0, -5.0, -4.0, -3.0, -2.0, -1.0, 0.0, 1.0, 2.0, 3.0, 4.0, 5.0, 6.0, 7.0, 8.0], \"xaxis\": \"x\", \"y\": [1.0, 8.0, 14.0, 27.0, 36.0, 43.0, 55.0, 69.0, 86.0, 109.0, 137.0, 200.0, 245.0, 313.0, 345.0, 443.0, 558.0], \"yaxis\": \"y\"}],\n",
       "                        {\"legend\": {\"title\": {\"text\": \"Country\"}, \"tracegroupgap\": 0}, \"template\": {\"data\": {\"bar\": [{\"error_x\": {\"color\": \"#2a3f5f\"}, \"error_y\": {\"color\": \"#2a3f5f\"}, \"marker\": {\"line\": {\"color\": \"#E5ECF6\", \"width\": 0.5}}, \"type\": \"bar\"}], \"barpolar\": [{\"marker\": {\"line\": {\"color\": \"#E5ECF6\", \"width\": 0.5}}, \"type\": \"barpolar\"}], \"carpet\": [{\"aaxis\": {\"endlinecolor\": \"#2a3f5f\", \"gridcolor\": \"white\", \"linecolor\": \"white\", \"minorgridcolor\": \"white\", \"startlinecolor\": \"#2a3f5f\"}, \"baxis\": {\"endlinecolor\": \"#2a3f5f\", \"gridcolor\": \"white\", \"linecolor\": \"white\", \"minorgridcolor\": \"white\", \"startlinecolor\": \"#2a3f5f\"}, \"type\": \"carpet\"}], \"choropleth\": [{\"colorbar\": {\"outlinewidth\": 0, \"ticks\": \"\"}, \"type\": \"choropleth\"}], \"contour\": [{\"colorbar\": {\"outlinewidth\": 0, \"ticks\": \"\"}, \"colorscale\": [[0.0, \"#0d0887\"], [0.1111111111111111, \"#46039f\"], [0.2222222222222222, \"#7201a8\"], [0.3333333333333333, \"#9c179e\"], [0.4444444444444444, \"#bd3786\"], [0.5555555555555556, \"#d8576b\"], [0.6666666666666666, \"#ed7953\"], [0.7777777777777778, \"#fb9f3a\"], [0.8888888888888888, \"#fdca26\"], [1.0, \"#f0f921\"]], \"type\": \"contour\"}], \"contourcarpet\": [{\"colorbar\": {\"outlinewidth\": 0, \"ticks\": \"\"}, \"type\": \"contourcarpet\"}], \"heatmap\": [{\"colorbar\": {\"outlinewidth\": 0, \"ticks\": \"\"}, \"colorscale\": [[0.0, \"#0d0887\"], [0.1111111111111111, \"#46039f\"], [0.2222222222222222, \"#7201a8\"], [0.3333333333333333, \"#9c179e\"], [0.4444444444444444, \"#bd3786\"], [0.5555555555555556, \"#d8576b\"], [0.6666666666666666, \"#ed7953\"], [0.7777777777777778, \"#fb9f3a\"], [0.8888888888888888, \"#fdca26\"], [1.0, \"#f0f921\"]], \"type\": \"heatmap\"}], \"heatmapgl\": [{\"colorbar\": {\"outlinewidth\": 0, \"ticks\": \"\"}, \"colorscale\": [[0.0, \"#0d0887\"], [0.1111111111111111, \"#46039f\"], [0.2222222222222222, \"#7201a8\"], [0.3333333333333333, \"#9c179e\"], [0.4444444444444444, \"#bd3786\"], [0.5555555555555556, \"#d8576b\"], [0.6666666666666666, \"#ed7953\"], [0.7777777777777778, \"#fb9f3a\"], [0.8888888888888888, \"#fdca26\"], [1.0, \"#f0f921\"]], \"type\": \"heatmapgl\"}], \"histogram\": [{\"marker\": {\"colorbar\": {\"outlinewidth\": 0, \"ticks\": \"\"}}, \"type\": \"histogram\"}], \"histogram2d\": [{\"colorbar\": {\"outlinewidth\": 0, \"ticks\": \"\"}, \"colorscale\": [[0.0, \"#0d0887\"], [0.1111111111111111, \"#46039f\"], [0.2222222222222222, \"#7201a8\"], [0.3333333333333333, \"#9c179e\"], [0.4444444444444444, \"#bd3786\"], [0.5555555555555556, \"#d8576b\"], [0.6666666666666666, \"#ed7953\"], [0.7777777777777778, \"#fb9f3a\"], [0.8888888888888888, \"#fdca26\"], [1.0, \"#f0f921\"]], \"type\": \"histogram2d\"}], \"histogram2dcontour\": [{\"colorbar\": {\"outlinewidth\": 0, \"ticks\": \"\"}, \"colorscale\": [[0.0, \"#0d0887\"], [0.1111111111111111, \"#46039f\"], [0.2222222222222222, \"#7201a8\"], [0.3333333333333333, \"#9c179e\"], [0.4444444444444444, \"#bd3786\"], [0.5555555555555556, \"#d8576b\"], [0.6666666666666666, \"#ed7953\"], [0.7777777777777778, \"#fb9f3a\"], [0.8888888888888888, \"#fdca26\"], [1.0, \"#f0f921\"]], \"type\": \"histogram2dcontour\"}], \"mesh3d\": [{\"colorbar\": {\"outlinewidth\": 0, \"ticks\": \"\"}, \"type\": \"mesh3d\"}], \"parcoords\": [{\"line\": {\"colorbar\": {\"outlinewidth\": 0, \"ticks\": \"\"}}, \"type\": \"parcoords\"}], \"pie\": [{\"automargin\": true, \"type\": \"pie\"}], \"scatter\": [{\"marker\": {\"colorbar\": {\"outlinewidth\": 0, \"ticks\": \"\"}}, \"type\": \"scatter\"}], \"scatter3d\": [{\"line\": {\"colorbar\": {\"outlinewidth\": 0, \"ticks\": \"\"}}, \"marker\": {\"colorbar\": {\"outlinewidth\": 0, \"ticks\": \"\"}}, \"type\": \"scatter3d\"}], \"scattercarpet\": [{\"marker\": {\"colorbar\": {\"outlinewidth\": 0, \"ticks\": \"\"}}, \"type\": \"scattercarpet\"}], \"scattergeo\": [{\"marker\": {\"colorbar\": {\"outlinewidth\": 0, \"ticks\": \"\"}}, \"type\": \"scattergeo\"}], \"scattergl\": [{\"marker\": {\"colorbar\": {\"outlinewidth\": 0, \"ticks\": \"\"}}, \"type\": \"scattergl\"}], \"scattermapbox\": [{\"marker\": {\"colorbar\": {\"outlinewidth\": 0, \"ticks\": \"\"}}, \"type\": \"scattermapbox\"}], \"scatterpolar\": [{\"marker\": {\"colorbar\": {\"outlinewidth\": 0, \"ticks\": \"\"}}, \"type\": \"scatterpolar\"}], \"scatterpolargl\": [{\"marker\": {\"colorbar\": {\"outlinewidth\": 0, \"ticks\": \"\"}}, \"type\": \"scatterpolargl\"}], \"scatterternary\": [{\"marker\": {\"colorbar\": {\"outlinewidth\": 0, \"ticks\": \"\"}}, \"type\": \"scatterternary\"}], \"surface\": [{\"colorbar\": {\"outlinewidth\": 0, \"ticks\": \"\"}, \"colorscale\": [[0.0, \"#0d0887\"], [0.1111111111111111, \"#46039f\"], [0.2222222222222222, \"#7201a8\"], [0.3333333333333333, \"#9c179e\"], [0.4444444444444444, \"#bd3786\"], [0.5555555555555556, \"#d8576b\"], [0.6666666666666666, \"#ed7953\"], [0.7777777777777778, \"#fb9f3a\"], [0.8888888888888888, \"#fdca26\"], [1.0, \"#f0f921\"]], \"type\": \"surface\"}], \"table\": [{\"cells\": {\"fill\": {\"color\": \"#EBF0F8\"}, \"line\": {\"color\": \"white\"}}, \"header\": {\"fill\": {\"color\": \"#C8D4E3\"}, \"line\": {\"color\": \"white\"}}, \"type\": \"table\"}]}, \"layout\": {\"annotationdefaults\": {\"arrowcolor\": \"#2a3f5f\", \"arrowhead\": 0, \"arrowwidth\": 1}, \"coloraxis\": {\"colorbar\": {\"outlinewidth\": 0, \"ticks\": \"\"}}, \"colorscale\": {\"diverging\": [[0, \"#8e0152\"], [0.1, \"#c51b7d\"], [0.2, \"#de77ae\"], [0.3, \"#f1b6da\"], [0.4, \"#fde0ef\"], [0.5, \"#f7f7f7\"], [0.6, \"#e6f5d0\"], [0.7, \"#b8e186\"], [0.8, \"#7fbc41\"], [0.9, \"#4d9221\"], [1, \"#276419\"]], \"sequential\": [[0.0, \"#0d0887\"], [0.1111111111111111, \"#46039f\"], [0.2222222222222222, \"#7201a8\"], [0.3333333333333333, \"#9c179e\"], [0.4444444444444444, \"#bd3786\"], [0.5555555555555556, \"#d8576b\"], [0.6666666666666666, \"#ed7953\"], [0.7777777777777778, \"#fb9f3a\"], [0.8888888888888888, \"#fdca26\"], [1.0, \"#f0f921\"]], \"sequentialminus\": [[0.0, \"#0d0887\"], [0.1111111111111111, \"#46039f\"], [0.2222222222222222, \"#7201a8\"], [0.3333333333333333, \"#9c179e\"], [0.4444444444444444, \"#bd3786\"], [0.5555555555555556, \"#d8576b\"], [0.6666666666666666, \"#ed7953\"], [0.7777777777777778, \"#fb9f3a\"], [0.8888888888888888, \"#fdca26\"], [1.0, \"#f0f921\"]]}, \"colorway\": [\"#636efa\", \"#EF553B\", \"#00cc96\", \"#ab63fa\", \"#FFA15A\", \"#19d3f3\", \"#FF6692\", \"#B6E880\", \"#FF97FF\", \"#FECB52\"], \"font\": {\"color\": \"#2a3f5f\"}, \"geo\": {\"bgcolor\": \"white\", \"lakecolor\": \"white\", \"landcolor\": \"#E5ECF6\", \"showlakes\": true, \"showland\": true, \"subunitcolor\": \"white\"}, \"hoverlabel\": {\"align\": \"left\"}, \"hovermode\": \"closest\", \"mapbox\": {\"style\": \"light\"}, \"paper_bgcolor\": \"white\", \"plot_bgcolor\": \"#E5ECF6\", \"polar\": {\"angularaxis\": {\"gridcolor\": \"white\", \"linecolor\": \"white\", \"ticks\": \"\"}, \"bgcolor\": \"#E5ECF6\", \"radialaxis\": {\"gridcolor\": \"white\", \"linecolor\": \"white\", \"ticks\": \"\"}}, \"scene\": {\"xaxis\": {\"backgroundcolor\": \"#E5ECF6\", \"gridcolor\": \"white\", \"gridwidth\": 2, \"linecolor\": \"white\", \"showbackground\": true, \"ticks\": \"\", \"zerolinecolor\": \"white\"}, \"yaxis\": {\"backgroundcolor\": \"#E5ECF6\", \"gridcolor\": \"white\", \"gridwidth\": 2, \"linecolor\": \"white\", \"showbackground\": true, \"ticks\": \"\", \"zerolinecolor\": \"white\"}, \"zaxis\": {\"backgroundcolor\": \"#E5ECF6\", \"gridcolor\": \"white\", \"gridwidth\": 2, \"linecolor\": \"white\", \"showbackground\": true, \"ticks\": \"\", \"zerolinecolor\": \"white\"}}, \"shapedefaults\": {\"line\": {\"color\": \"#2a3f5f\"}}, \"ternary\": {\"aaxis\": {\"gridcolor\": \"white\", \"linecolor\": \"white\", \"ticks\": \"\"}, \"baxis\": {\"gridcolor\": \"white\", \"linecolor\": \"white\", \"ticks\": \"\"}, \"bgcolor\": \"#E5ECF6\", \"caxis\": {\"gridcolor\": \"white\", \"linecolor\": \"white\", \"ticks\": \"\"}}, \"title\": {\"x\": 0.05}, \"xaxis\": {\"automargin\": true, \"gridcolor\": \"white\", \"linecolor\": \"white\", \"ticks\": \"\", \"title\": {\"standoff\": 15}, \"zerolinecolor\": \"white\", \"zerolinewidth\": 2}, \"yaxis\": {\"automargin\": true, \"gridcolor\": \"white\", \"linecolor\": \"white\", \"ticks\": \"\", \"title\": {\"standoff\": 15}, \"zerolinecolor\": \"white\", \"zerolinewidth\": 2}}}, \"title\": {\"text\": \"Confirmed Tests by Country\"}, \"xaxis\": {\"anchor\": \"y\", \"domain\": [0.0, 1.0], \"title\": {\"text\": \"Days Since Economic Shutdown\"}}, \"yaxis\": {\"anchor\": \"x\", \"domain\": [0.0, 1.0], \"title\": {\"text\": \"Confirmed\"}}},\n",
       "                        {\"responsive\": true}\n",
       "                    ).then(function(){\n",
       "                            \n",
       "var gd = document.getElementById('b8149891-7c12-4df7-abc2-2c3b90997ad3');\n",
       "var x = new MutationObserver(function (mutations, observer) {{\n",
       "        var display = window.getComputedStyle(gd).display;\n",
       "        if (!display || display === 'none') {{\n",
       "            console.log([gd, 'removed!']);\n",
       "            Plotly.purge(gd);\n",
       "            observer.disconnect();\n",
       "        }}\n",
       "}});\n",
       "\n",
       "// Listen for the removal of the full notebook cells\n",
       "var notebookContainer = gd.closest('#notebook-container');\n",
       "if (notebookContainer) {{\n",
       "    x.observe(notebookContainer, {childList: true});\n",
       "}}\n",
       "\n",
       "// Listen for the clearing of the current output cell\n",
       "var outputEl = gd.closest('.output');\n",
       "if (outputEl) {{\n",
       "    x.observe(outputEl, {childList: true});\n",
       "}}\n",
       "\n",
       "                        })\n",
       "                };\n",
       "                });\n",
       "            </script>\n",
       "        </div>"
      ]
     },
     "metadata": {},
     "output_type": "display_data"
    }
   ],
   "source": [
    "count_to_plot = ['Panama', 'China']\n",
    "y_to_plot =  'Confirmed'\n",
    "x_lab = 'DaysSinceShutdown'\n",
    "x_axis = x_lab\n",
    "stat_to_plot = y_to_plot\n",
    "f = make_graph(count_to_plot, y_to_plot, x_lab, plot_style=0)\n",
    "f"
   ]
  },
  {
   "cell_type": "code",
   "execution_count": null,
   "metadata": {},
   "outputs": [],
   "source": []
  },
  {
   "cell_type": "code",
   "execution_count": 35,
   "metadata": {},
   "outputs": [
    {
     "data": {
      "text/html": [
       "<div>\n",
       "<style scoped>\n",
       "    .dataframe tbody tr th:only-of-type {\n",
       "        vertical-align: middle;\n",
       "    }\n",
       "\n",
       "    .dataframe tbody tr th {\n",
       "        vertical-align: top;\n",
       "    }\n",
       "\n",
       "    .dataframe thead th {\n",
       "        text-align: right;\n",
       "    }\n",
       "</style>\n",
       "<table border=\"1\" class=\"dataframe\">\n",
       "  <thead>\n",
       "    <tr style=\"text-align: right;\">\n",
       "      <th></th>\n",
       "      <th>Country</th>\n",
       "      <th>Confirmed</th>\n",
       "      <th>DaysSinceShutdown</th>\n",
       "      <th>Shutdown</th>\n",
       "      <th>Date</th>\n",
       "    </tr>\n",
       "  </thead>\n",
       "  <tbody>\n",
       "    <tr>\n",
       "      <th>7873</th>\n",
       "      <td>Panama</td>\n",
       "      <td>1.0</td>\n",
       "      <td>NaN</td>\n",
       "      <td>0.0</td>\n",
       "      <td>Mar 09, 2020</td>\n",
       "    </tr>\n",
       "    <tr>\n",
       "      <th>7874</th>\n",
       "      <td>Panama</td>\n",
       "      <td>8.0</td>\n",
       "      <td>NaN</td>\n",
       "      <td>0.0</td>\n",
       "      <td>Mar 10, 2020</td>\n",
       "    </tr>\n",
       "    <tr>\n",
       "      <th>7875</th>\n",
       "      <td>Panama</td>\n",
       "      <td>14.0</td>\n",
       "      <td>NaN</td>\n",
       "      <td>0.0</td>\n",
       "      <td>Mar 11, 2020</td>\n",
       "    </tr>\n",
       "    <tr>\n",
       "      <th>7876</th>\n",
       "      <td>Panama</td>\n",
       "      <td>27.0</td>\n",
       "      <td>NaN</td>\n",
       "      <td>0.0</td>\n",
       "      <td>Mar 12, 2020</td>\n",
       "    </tr>\n",
       "    <tr>\n",
       "      <th>7877</th>\n",
       "      <td>Panama</td>\n",
       "      <td>36.0</td>\n",
       "      <td>NaN</td>\n",
       "      <td>0.0</td>\n",
       "      <td>Mar 13, 2020</td>\n",
       "    </tr>\n",
       "    <tr>\n",
       "      <th>...</th>\n",
       "      <td>...</td>\n",
       "      <td>...</td>\n",
       "      <td>...</td>\n",
       "      <td>...</td>\n",
       "      <td>...</td>\n",
       "    </tr>\n",
       "    <tr>\n",
       "      <th>8124</th>\n",
       "      <td>Peru</td>\n",
       "      <td>0.0</td>\n",
       "      <td>NaN</td>\n",
       "      <td>0.0</td>\n",
       "      <td>Mar 01, 2020</td>\n",
       "    </tr>\n",
       "    <tr>\n",
       "      <th>8125</th>\n",
       "      <td>Peru</td>\n",
       "      <td>0.0</td>\n",
       "      <td>NaN</td>\n",
       "      <td>0.0</td>\n",
       "      <td>Mar 02, 2020</td>\n",
       "    </tr>\n",
       "    <tr>\n",
       "      <th>8126</th>\n",
       "      <td>Peru</td>\n",
       "      <td>0.0</td>\n",
       "      <td>NaN</td>\n",
       "      <td>0.0</td>\n",
       "      <td>Mar 03, 2020</td>\n",
       "    </tr>\n",
       "    <tr>\n",
       "      <th>8127</th>\n",
       "      <td>Peru</td>\n",
       "      <td>0.0</td>\n",
       "      <td>NaN</td>\n",
       "      <td>0.0</td>\n",
       "      <td>Mar 04, 2020</td>\n",
       "    </tr>\n",
       "    <tr>\n",
       "      <th>8128</th>\n",
       "      <td>Peru</td>\n",
       "      <td>0.0</td>\n",
       "      <td>NaN</td>\n",
       "      <td>0.0</td>\n",
       "      <td>Mar 05, 2020</td>\n",
       "    </tr>\n",
       "  </tbody>\n",
       "</table>\n",
       "<p>128 rows × 5 columns</p>\n",
       "</div>"
      ],
      "text/plain": [
       "     Country  Confirmed  DaysSinceShutdown  Shutdown          Date\n",
       "7873  Panama        1.0                NaN       0.0  Mar 09, 2020\n",
       "7874  Panama        8.0                NaN       0.0  Mar 10, 2020\n",
       "7875  Panama       14.0                NaN       0.0  Mar 11, 2020\n",
       "7876  Panama       27.0                NaN       0.0  Mar 12, 2020\n",
       "7877  Panama       36.0                NaN       0.0  Mar 13, 2020\n",
       "...      ...        ...                ...       ...           ...\n",
       "8124    Peru        0.0                NaN       0.0  Mar 01, 2020\n",
       "8125    Peru        0.0                NaN       0.0  Mar 02, 2020\n",
       "8126    Peru        0.0                NaN       0.0  Mar 03, 2020\n",
       "8127    Peru        0.0                NaN       0.0  Mar 04, 2020\n",
       "8128    Peru        0.0                NaN       0.0  Mar 05, 2020\n",
       "\n",
       "[128 rows x 5 columns]"
      ]
     },
     "execution_count": 35,
     "metadata": {},
     "output_type": "execute_result"
    }
   ],
   "source": [
    "to_add = ['Date'] if x_axis != 'Date' else []\n",
    "to_plot = dat.reset_index()\n",
    "to_plot = to_plot[to_plot.Country.isin(count_to_plot)][['Country'] + [stat_to_plot] + [x_axis] + ['Shutdown']+to_add ]\n",
    "if x_axis != 'Date':\n",
    "    to_plot['Date'] = to_plot['Date'].dt.strftime('%b %d, %Y')\n",
    "# print(to_plot)\n",
    "to_plot.Shutdown = to_plot.Shutdown.fillna(value = 0)\n",
    "to_plot"
   ]
  },
  {
   "cell_type": "code",
   "execution_count": 81,
   "metadata": {},
   "outputs": [
    {
     "data": {
      "text/plain": [
       "Float64Index([nan, nan, nan, nan, nan, nan, nan, nan, nan, nan,\n",
       "              ...\n",
       "              nan, nan, nan, nan, nan, nan, nan, nan, nan, nan],\n",
       "             dtype='float64', name='DaysSinceShutdown', length=11137)"
      ]
     },
     "execution_count": 81,
     "metadata": {},
     "output_type": "execute_result"
    }
   ],
   "source": [
    "fill_val = dat.index.get_level_values('DaysSinceShutdown')\n",
    "fill_val"
   ]
  },
  {
   "cell_type": "code",
   "execution_count": 36,
   "metadata": {},
   "outputs": [],
   "source": [
    "import dash\n",
    "import dash_core_components as dcc\n",
    "import dash_html_components as html\n",
    "from jupyter_plotly_dash import JupyterDash\n",
    "# import jupyterlab_dash"
   ]
  },
  {
   "cell_type": "code",
   "execution_count": 37,
   "metadata": {},
   "outputs": [],
   "source": [
    "# viewer = jupyterlab_dash.AppViewer()\n",
    "# app = dash.Dash('Covid-Tracking')\n",
    "external_stylesheets = ['https://codepen.io/chriddyp/pen/bWLwgP.css']\n",
    "app = JupyterDash('Covid-Tracking')"
   ]
  },
  {
   "cell_type": "code",
   "execution_count": 38,
   "metadata": {},
   "outputs": [],
   "source": [
    "app.layout = html.Div([\n",
    "    html.Div([\n",
    "        html.H2('COVID-19 Tracking',)\n",
    "    ]),\n",
    "    html.Div([    \n",
    "        html.P([\"Countries:\", \n",
    "            dcc.Dropdown(\n",
    "                id = 'country-select',\n",
    "    #             options = countries,\n",
    "                options = [{'label': stat_map.get(c, c), 'value': c} for c in countries],\n",
    "                value = ['Panama'],\n",
    "                multi = True\n",
    "            )\n",
    "        ]),\n",
    "    ], style = {\"width\": \"30%\", 'display': 'inline-block', 'text-align': 'center'} ),\n",
    "    html.Div([\n",
    "        html.P([\"Statistics:\",\n",
    "            dcc.Dropdown(\n",
    "                id = 'statistic-select',\n",
    "                options = [{'label': stat_map.get(s, s), 'value': s} for s in stats],\n",
    "                value = ['Confirmed'],\n",
    "                multi=True\n",
    "            )\n",
    "        ])\n",
    "    ], style = {'width':'30%', 'display':'inline-block', 'text-align': 'center'}),\n",
    "    html.Div([\n",
    "        html.P([\"X-Axis:\",\n",
    "            dcc.Dropdown(\n",
    "                id = 'x-axis-select',\n",
    "                options = [{'label': xs_map.get(x, x), 'value': x} for x in xs],\n",
    "                value = 'DaysSinceFirst',\n",
    "                multi=False\n",
    "            )\n",
    "        ])\n",
    "    ], style = {'width':'20%', 'display':'inline-block', 'text-align': 'center'}),\n",
    "    html.Div([\n",
    "        html.P([\"Graph Style:\",\n",
    "            dcc.Dropdown(\n",
    "                id = 'graph-style',\n",
    "                options = [{'label': 'Scatter', 'value': 0}, \n",
    "                           {'label': 'Bar' , 'value': 1},\n",
    "                           {'label': 'Line', 'value': 2}],\n",
    "                value = 0,\n",
    "                multi=False\n",
    "            )\n",
    "        ])\n",
    "    ], style = {'width':'20%', 'display':'inline-block', 'text-align': 'center'}),\n",
    "    \n",
    "    html.Div(children = html.Div(id='graphs'), className = 'row', style = {\"display\":'inline-block', 'width': '100%'}),\n",
    "\n",
    "    html.Div([\n",
    "        html.P(['Most data on confirms and deaths from Johns Hopkins. Panama, Peru, South Korea testing data independently gathered.']),\n",
    "    ])\n",
    "#     dcc.Graph(id='graphs', style = {'width': '80%', 'display': 'inline-block'}),\n",
    "], className = 'container'\n",
    ")\n",
    "\n",
    "\n",
    "@app.callback(\n",
    "    dash.dependencies.Output('graphs', 'children'),\n",
    "    [dash.dependencies.Input('country-select', 'value'), dash.dependencies.Input('statistic-select', 'value'),\n",
    "    dash.dependencies.Input('x-axis-select', 'value'), dash.dependencies.Input('graph-style', 'value')]\n",
    ")\n",
    "def update_graph(countries, stats, x_axis, graph_style):\n",
    "    if len(stats)>2:\n",
    "        class_choice = 'col s12 m6 l4'\n",
    "    elif len(stats) == 2:\n",
    "        class_choice = 'col s12 m6 l6'\n",
    "    else:\n",
    "        class_choice = 'col s12'\n",
    "    #Returns a list of graphs\n",
    "    graphs = []\n",
    "#     return make_graph(countries, stats[0], scatter=False)\n",
    "    for plot_stat in stats:\n",
    "        g = make_graph(countries, plot_stat, x_axis, plot_style=graph_style)\n",
    "        graphs.append(html.Div(dcc.Graph(\n",
    "            id = plot_stat,\n",
    "            animate = True,\n",
    "            figure = g        \n",
    "            ), className = class_choice\n",
    "        ))\n",
    "    return graphs\n",
    "# viewer.show(app)"
   ]
  },
  {
   "cell_type": "code",
   "execution_count": 39,
   "metadata": {},
   "outputs": [
    {
     "data": {
      "text/html": [
       "<div>\n",
       "  <iframe src=\"/app/endpoints/de7f3196cf254c14a7bded422ae2ff0f/\" width=800 height=600 frameborder=\"0\"></iframe>\n",
       "  <hr/><a href=\"/app/endpoints/de7f3196cf254c14a7bded422ae2ff0f/\" target=\"_new\">Open in new window</a> for /app/endpoints/de7f3196cf254c14a7bded422ae2ff0f/\n",
       "</div>"
      ],
      "text/plain": [
       "<jupyter_plotly_dash.dash_wrapper.JupyterDash at 0x185a2b32748>"
      ]
     },
     "execution_count": 39,
     "metadata": {},
     "output_type": "execute_result"
    }
   ],
   "source": [
    "app"
   ]
  },
  {
   "cell_type": "code",
   "execution_count": 33,
   "metadata": {},
   "outputs": [
    {
     "data": {
      "text/plain": [
       "['Afghanistan',\n",
       " 'Albania',\n",
       " 'Algeria',\n",
       " 'Andorra',\n",
       " 'Angola',\n",
       " 'Antigua and Barbuda',\n",
       " 'Argentina',\n",
       " 'Armenia',\n",
       " 'Australia',\n",
       " 'Austria',\n",
       " 'Azerbaijan',\n",
       " 'Bahamas',\n",
       " 'Bahrain',\n",
       " 'Bangladesh',\n",
       " 'Barbados',\n",
       " 'Belarus',\n",
       " 'Belgium',\n",
       " 'Belize',\n",
       " 'Benin',\n",
       " 'Bhutan',\n",
       " 'Bolivia',\n",
       " 'Bosnia and Herzegovina',\n",
       " 'Brazil',\n",
       " 'Brunei',\n",
       " 'Bulgaria',\n",
       " 'Burkina Faso',\n",
       " 'Cabo Verde',\n",
       " 'Cambodia',\n",
       " 'Cameroon',\n",
       " 'Canada',\n",
       " 'Central African Republic',\n",
       " 'Chad',\n",
       " 'Chile',\n",
       " 'China',\n",
       " 'Colombia',\n",
       " 'Congo (Brazzaville)',\n",
       " 'Congo (Kinshasa)',\n",
       " 'Costa Rica',\n",
       " \"Cote d'Ivoire\",\n",
       " 'Croatia',\n",
       " 'Cuba',\n",
       " 'Cyprus',\n",
       " 'Czechia',\n",
       " 'Denmark',\n",
       " 'Diamond Princess',\n",
       " 'Djibouti',\n",
       " 'Dominica',\n",
       " 'Dominican Republic',\n",
       " 'Ecuador',\n",
       " 'Egypt',\n",
       " 'El Salvador',\n",
       " 'Equatorial Guinea',\n",
       " 'Eritrea',\n",
       " 'Estonia',\n",
       " 'Eswatini',\n",
       " 'Ethiopia',\n",
       " 'Fiji',\n",
       " 'Finland',\n",
       " 'France',\n",
       " 'Gabon',\n",
       " 'Gambia',\n",
       " 'Georgia',\n",
       " 'Germany',\n",
       " 'Ghana',\n",
       " 'Greece',\n",
       " 'Grenada',\n",
       " 'Guatemala',\n",
       " 'Guinea',\n",
       " 'Guinea-Bissau',\n",
       " 'Guyana',\n",
       " 'Haiti',\n",
       " 'Holy See',\n",
       " 'Honduras',\n",
       " 'Hungary',\n",
       " 'Iceland',\n",
       " 'India',\n",
       " 'Indonesia',\n",
       " 'Iran',\n",
       " 'Iraq',\n",
       " 'Ireland',\n",
       " 'Israel',\n",
       " 'Italy',\n",
       " 'Jamaica',\n",
       " 'Japan',\n",
       " 'Jordan',\n",
       " 'Kazakhstan',\n",
       " 'Kenya',\n",
       " 'Korea, South',\n",
       " 'Kuwait',\n",
       " 'Kyrgyzstan',\n",
       " 'Laos',\n",
       " 'Latvia',\n",
       " 'Lebanon',\n",
       " 'Liberia',\n",
       " 'Libya',\n",
       " 'Liechtenstein',\n",
       " 'Lithuania',\n",
       " 'Luxembourg',\n",
       " 'Madagascar',\n",
       " 'Malaysia',\n",
       " 'Maldives',\n",
       " 'Mali',\n",
       " 'Malta',\n",
       " 'Mauritania',\n",
       " 'Mauritius',\n",
       " 'Mexico',\n",
       " 'Moldova',\n",
       " 'Monaco',\n",
       " 'Mongolia',\n",
       " 'Montenegro',\n",
       " 'Morocco',\n",
       " 'Mozambique',\n",
       " 'Namibia',\n",
       " 'Nepal',\n",
       " 'Netherlands',\n",
       " 'New Zealand',\n",
       " 'Nicaragua',\n",
       " 'Niger',\n",
       " 'Nigeria',\n",
       " 'North Macedonia',\n",
       " 'Norway',\n",
       " 'Oman',\n",
       " 'Pakistan',\n",
       " 'Panama',\n",
       " 'Papua New Guinea',\n",
       " 'Paraguay',\n",
       " 'Peru',\n",
       " 'Philippines',\n",
       " 'Poland',\n",
       " 'Portugal',\n",
       " 'Qatar',\n",
       " 'Romania',\n",
       " 'Russia',\n",
       " 'Rwanda',\n",
       " 'Saint Kitts and Nevis',\n",
       " 'Saint Lucia',\n",
       " 'Saint Vincent and the Grenadines',\n",
       " 'San Marino',\n",
       " 'Saudi Arabia',\n",
       " 'Senegal',\n",
       " 'Serbia',\n",
       " 'Seychelles',\n",
       " 'Singapore',\n",
       " 'Slovakia',\n",
       " 'Slovenia',\n",
       " 'Somalia',\n",
       " 'South Africa',\n",
       " 'SouthKorea',\n",
       " 'Spain',\n",
       " 'Sri Lanka',\n",
       " 'Sudan',\n",
       " 'Suriname',\n",
       " 'Sweden',\n",
       " 'Switzerland',\n",
       " 'Syria',\n",
       " 'Taiwan*',\n",
       " 'Tanzania',\n",
       " 'Thailand',\n",
       " 'The West Bank and Gaza',\n",
       " 'Timor-Leste',\n",
       " 'Togo',\n",
       " 'Trinidad and Tobago',\n",
       " 'Tunisia',\n",
       " 'Turkey',\n",
       " 'US',\n",
       " 'Uganda',\n",
       " 'Ukraine',\n",
       " 'United Arab Emirates',\n",
       " 'United Kingdom',\n",
       " 'Uruguay',\n",
       " 'Uzbekistan',\n",
       " 'Venezuela',\n",
       " 'Vietnam',\n",
       " 'Zambia',\n",
       " 'Zimbabwe']"
      ]
     },
     "execution_count": 33,
     "metadata": {},
     "output_type": "execute_result"
    }
   ],
   "source": [
    "countries"
   ]
  }
 ],
 "metadata": {
  "kernelspec": {
   "display_name": "Python 3",
   "language": "python",
   "name": "python3"
  },
  "language_info": {
   "codemirror_mode": {
    "name": "ipython",
    "version": 3
   },
   "file_extension": ".py",
   "mimetype": "text/x-python",
   "name": "python",
   "nbconvert_exporter": "python",
   "pygments_lexer": "ipython3",
   "version": "3.7.4"
  }
 },
 "nbformat": 4,
 "nbformat_minor": 4
}
