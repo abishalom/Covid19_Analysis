{
 "cells": [
  {
   "cell_type": "code",
   "execution_count": 1,
   "metadata": {},
   "outputs": [],
   "source": [
    "import plotly.express as px\n",
    "import numpy as np\n",
    "import pandas as pd\n",
    "# import plotly.graph_objects as go"
   ]
  },
  {
   "cell_type": "code",
   "execution_count": 14,
   "metadata": {},
   "outputs": [],
   "source": [
    "#Load initial data\n",
    "dat = pd.read_csv('Covid19_Data.csv', index_col = 0)\n",
    "dat.index = pd.to_datetime(dat.index)"
   ]
  },
  {
   "cell_type": "code",
   "execution_count": 15,
   "metadata": {},
   "outputs": [],
   "source": [
    "#Housekeeping to make into multiindex.\n",
    "col = dat.columns.str.split('_', expand=True)\n",
    "dat.columns = col\n",
    "dat.index = dat.index.rename(\"Date\")\n",
    "dat.columns = dat.columns.rename(['Country', 'Col'])\n",
    "dat = dat.stack(level=0)"
   ]
  },
  {
   "cell_type": "code",
   "execution_count": 17,
   "metadata": {},
   "outputs": [],
   "source": [
    "jhu_url = 'https://raw.githubusercontent.com/CSSEGISandData/COVID-19/master/csse_covid_19_data/csse_covid_19_time_series/time_series_covid19_confirmed_global.csv'\n",
    "jhu_df = pd.read_csv(jhu_url, error_bad_lines = False)\n",
    "\n",
    "jhu_df = jhu_df.groupby('Country/Region').sum().drop(['Lat', 'Long'], axis=1)\n",
    "jhu_df = jhu_df.stack().rename('Confirmed').to_frame()\n",
    "\n",
    "\n",
    "# jhu_df\n",
    "jhu_df.index = jhu_df.index.rename(['Country', 'Date'])\n",
    "jhu_df.index = jhu_df.index.set_levels([jhu_df.index.levels[0], pd.to_datetime(jhu_df.index.levels[1])])\n",
    "\n",
    "jhu_death_url = 'https://raw.githubusercontent.com/CSSEGISandData/COVID-19/master/csse_covid_19_data/csse_covid_19_time_series/time_series_covid19_deaths_global.csv'\n",
    "jhu_death_df = pd.read_csv(jhu_death_url, error_bad_lines = False)\n",
    "\n",
    "jhu_death_df = jhu_death_df.groupby('Country/Region').sum().drop(['Lat', 'Long'], axis=1)\n",
    "jhu_death_df = jhu_death_df.stack().rename('Dead').to_frame()\n",
    "\n",
    "jhu_death_df.index = jhu_death_df.index.rename(['Country', 'Date'])\n",
    "jhu_death_df.index = jhu_death_df.index.set_levels([jhu_death_df.index.levels[0], pd.to_datetime(jhu_death_df.index.levels[1])])\n",
    "\n",
    "jhu_df = jhu_death_df.join(jhu_df)\n",
    "jhu_death_df = None\n",
    "\n",
    "jhu_df.index = jhu_df.index.reorder_levels([\"Date\", \"Country\"])\n",
    "# jhu_df\n",
    "# jhu_df.loc['Panama'], dat.loc['Panama']['Confirmed']"
   ]
  },
  {
   "cell_type": "code",
   "execution_count": 18,
   "metadata": {},
   "outputs": [],
   "source": [
    "# dat.unstack().join(jhu_df.unstack(), rsuffix = '_JHU')\n",
    "# dat.join(jhu_df, rsuffix = '_JHU')\n",
    "# pd.concat([dat, jhu_df], axis=1 , join = 'inner' )\n",
    "dat = pd.merge(dat, jhu_df, left_index=True, right_index=True, how = 'outer', suffixes = ('', '_JHU'))\n",
    "dat['Confirmed'] = dat['Confirmed'].combine_first(dat['Confirmed_JHU'])\n",
    "dat['Dead'] = dat['Dead'].combine_first(dat['Dead_JHU'])\n",
    "\n",
    "dat = dat.drop(['Confirmed_JHU', 'Dead_JHU'], axis=1)\n",
    "# dat.unstack()"
   ]
  },
  {
   "cell_type": "code",
   "execution_count": 19,
   "metadata": {},
   "outputs": [],
   "source": [
    "def get_divide_cols_fn(c1, c2, res):\n",
    "    def f(df):\n",
    "        df[res] = df[c1]/df[c2]\n",
    "        return df\n",
    "    return f"
   ]
  },
  {
   "cell_type": "code",
   "execution_count": 20,
   "metadata": {},
   "outputs": [],
   "source": [
    "#Add New Cases, New Tests\n",
    "dat['NewCases'] = dat.groupby('Country')['Confirmed'].diff()\n",
    "dat['NewTests'] = dat.groupby('Country')['TotalTests'].diff()\n",
    "# dat['DaysSinceFirst'] = dat.groupby('Country')['Confirmed'].cumcount() + 1\n",
    "dat['DaysSinceFirst'] = (dat['Confirmed'] >= 1).groupby('Country').cumsum().replace(0, np.nan)\n",
    "dat['ConfirmedGrowth'] = dat.groupby('Country')['Confirmed'].pct_change() * 100.\n",
    "dat['DaysSinceTenthDeath'] = (dat['Dead'] >= 10).groupby('Country').cumsum().replace(0, np.nan)\n",
    "\n",
    "dat = dat.groupby('Country').apply(get_divide_cols_fn(\"NewCases\", \"NewTests\", \"DailyPosTestRate\"))\n",
    "dat = dat.groupby('Country').apply(get_divide_cols_fn(\"Confirmed\", \"TotalTests\", \"CumulativePosTestRate\"))\n",
    "# dat['DaysSince'] = dat.groupby('Country')['Confirmed'].expanding(1).count()\n",
    "# dat['DailyPosTestRate'] = dat.groupby(level=1)['NewCases']/dat.groupby(level=1)['NewTests']\n"
   ]
  },
  {
   "cell_type": "code",
   "execution_count": 21,
   "metadata": {},
   "outputs": [],
   "source": [
    "dat.tail(10)\n",
    "dat = dat.set_index([dat.index, \"DaysSinceFirst\"]).reorder_levels([\"Country\", \"DaysSinceFirst\", \"Date\"]).sort_index()"
   ]
  },
  {
   "cell_type": "code",
   "execution_count": 22,
   "metadata": {},
   "outputs": [
    {
     "data": {
      "text/html": [
       "<div>\n",
       "<style scoped>\n",
       "    .dataframe tbody tr th:only-of-type {\n",
       "        vertical-align: middle;\n",
       "    }\n",
       "\n",
       "    .dataframe tbody tr th {\n",
       "        vertical-align: top;\n",
       "    }\n",
       "\n",
       "    .dataframe thead th {\n",
       "        text-align: right;\n",
       "    }\n",
       "</style>\n",
       "<table border=\"1\" class=\"dataframe\">\n",
       "  <thead>\n",
       "    <tr style=\"text-align: right;\">\n",
       "      <th></th>\n",
       "      <th></th>\n",
       "      <th>Confirmed</th>\n",
       "      <th>Dead</th>\n",
       "      <th>Home</th>\n",
       "      <th>Hosp</th>\n",
       "      <th>ICU</th>\n",
       "      <th>Shutdown</th>\n",
       "      <th>TotalTests</th>\n",
       "      <th>NewCases</th>\n",
       "      <th>NewTests</th>\n",
       "      <th>ConfirmedGrowth</th>\n",
       "      <th>DaysSinceTenthDeath</th>\n",
       "      <th>DailyPosTestRate</th>\n",
       "      <th>CumulativePosTestRate</th>\n",
       "    </tr>\n",
       "    <tr>\n",
       "      <th>DaysSinceFirst</th>\n",
       "      <th>Date</th>\n",
       "      <th></th>\n",
       "      <th></th>\n",
       "      <th></th>\n",
       "      <th></th>\n",
       "      <th></th>\n",
       "      <th></th>\n",
       "      <th></th>\n",
       "      <th></th>\n",
       "      <th></th>\n",
       "      <th></th>\n",
       "      <th></th>\n",
       "      <th></th>\n",
       "      <th></th>\n",
       "    </tr>\n",
       "  </thead>\n",
       "  <tbody>\n",
       "    <tr>\n",
       "      <th>1.0</th>\n",
       "      <th>2020-03-09</th>\n",
       "      <td>1.0</td>\n",
       "      <td>0.0</td>\n",
       "      <td>4.0</td>\n",
       "      <td>0.0</td>\n",
       "      <td>0.0</td>\n",
       "      <td>0.0</td>\n",
       "      <td>105.0</td>\n",
       "      <td>1.0</td>\n",
       "      <td>NaN</td>\n",
       "      <td>inf</td>\n",
       "      <td>NaN</td>\n",
       "      <td>NaN</td>\n",
       "      <td>0.009524</td>\n",
       "    </tr>\n",
       "    <tr>\n",
       "      <th>2.0</th>\n",
       "      <th>2020-03-10</th>\n",
       "      <td>8.0</td>\n",
       "      <td>0.0</td>\n",
       "      <td>6.0</td>\n",
       "      <td>1.0</td>\n",
       "      <td>1.0</td>\n",
       "      <td>0.0</td>\n",
       "      <td>146.0</td>\n",
       "      <td>7.0</td>\n",
       "      <td>41.0</td>\n",
       "      <td>700.000000</td>\n",
       "      <td>NaN</td>\n",
       "      <td>0.170732</td>\n",
       "      <td>0.054795</td>\n",
       "    </tr>\n",
       "    <tr>\n",
       "      <th>3.0</th>\n",
       "      <th>2020-03-11</th>\n",
       "      <td>14.0</td>\n",
       "      <td>1.0</td>\n",
       "      <td>9.0</td>\n",
       "      <td>3.0</td>\n",
       "      <td>1.0</td>\n",
       "      <td>0.0</td>\n",
       "      <td>194.0</td>\n",
       "      <td>6.0</td>\n",
       "      <td>48.0</td>\n",
       "      <td>75.000000</td>\n",
       "      <td>NaN</td>\n",
       "      <td>0.125000</td>\n",
       "      <td>0.072165</td>\n",
       "    </tr>\n",
       "    <tr>\n",
       "      <th>4.0</th>\n",
       "      <th>2020-03-12</th>\n",
       "      <td>27.0</td>\n",
       "      <td>1.0</td>\n",
       "      <td>21.0</td>\n",
       "      <td>4.0</td>\n",
       "      <td>1.0</td>\n",
       "      <td>0.0</td>\n",
       "      <td>401.0</td>\n",
       "      <td>13.0</td>\n",
       "      <td>207.0</td>\n",
       "      <td>92.857143</td>\n",
       "      <td>NaN</td>\n",
       "      <td>0.062802</td>\n",
       "      <td>0.067332</td>\n",
       "    </tr>\n",
       "    <tr>\n",
       "      <th>5.0</th>\n",
       "      <th>2020-03-13</th>\n",
       "      <td>36.0</td>\n",
       "      <td>1.0</td>\n",
       "      <td>30.0</td>\n",
       "      <td>4.0</td>\n",
       "      <td>1.0</td>\n",
       "      <td>0.0</td>\n",
       "      <td>649.0</td>\n",
       "      <td>9.0</td>\n",
       "      <td>248.0</td>\n",
       "      <td>33.333333</td>\n",
       "      <td>NaN</td>\n",
       "      <td>0.036290</td>\n",
       "      <td>0.055470</td>\n",
       "    </tr>\n",
       "    <tr>\n",
       "      <th>...</th>\n",
       "      <th>...</th>\n",
       "      <td>...</td>\n",
       "      <td>...</td>\n",
       "      <td>...</td>\n",
       "      <td>...</td>\n",
       "      <td>...</td>\n",
       "      <td>...</td>\n",
       "      <td>...</td>\n",
       "      <td>...</td>\n",
       "      <td>...</td>\n",
       "      <td>...</td>\n",
       "      <td>...</td>\n",
       "      <td>...</td>\n",
       "      <td>...</td>\n",
       "    </tr>\n",
       "    <tr>\n",
       "      <th rowspan=\"5\" valign=\"top\">NaN</th>\n",
       "      <th>2020-03-04</th>\n",
       "      <td>0.0</td>\n",
       "      <td>0.0</td>\n",
       "      <td>NaN</td>\n",
       "      <td>NaN</td>\n",
       "      <td>NaN</td>\n",
       "      <td>NaN</td>\n",
       "      <td>NaN</td>\n",
       "      <td>0.0</td>\n",
       "      <td>NaN</td>\n",
       "      <td>NaN</td>\n",
       "      <td>NaN</td>\n",
       "      <td>NaN</td>\n",
       "      <td>NaN</td>\n",
       "    </tr>\n",
       "    <tr>\n",
       "      <th>2020-03-05</th>\n",
       "      <td>0.0</td>\n",
       "      <td>0.0</td>\n",
       "      <td>NaN</td>\n",
       "      <td>NaN</td>\n",
       "      <td>NaN</td>\n",
       "      <td>NaN</td>\n",
       "      <td>NaN</td>\n",
       "      <td>0.0</td>\n",
       "      <td>NaN</td>\n",
       "      <td>NaN</td>\n",
       "      <td>NaN</td>\n",
       "      <td>NaN</td>\n",
       "      <td>NaN</td>\n",
       "    </tr>\n",
       "    <tr>\n",
       "      <th>2020-03-06</th>\n",
       "      <td>0.0</td>\n",
       "      <td>0.0</td>\n",
       "      <td>NaN</td>\n",
       "      <td>NaN</td>\n",
       "      <td>NaN</td>\n",
       "      <td>NaN</td>\n",
       "      <td>NaN</td>\n",
       "      <td>0.0</td>\n",
       "      <td>NaN</td>\n",
       "      <td>NaN</td>\n",
       "      <td>NaN</td>\n",
       "      <td>NaN</td>\n",
       "      <td>NaN</td>\n",
       "    </tr>\n",
       "    <tr>\n",
       "      <th>2020-03-07</th>\n",
       "      <td>0.0</td>\n",
       "      <td>0.0</td>\n",
       "      <td>NaN</td>\n",
       "      <td>NaN</td>\n",
       "      <td>NaN</td>\n",
       "      <td>NaN</td>\n",
       "      <td>NaN</td>\n",
       "      <td>0.0</td>\n",
       "      <td>NaN</td>\n",
       "      <td>NaN</td>\n",
       "      <td>NaN</td>\n",
       "      <td>NaN</td>\n",
       "      <td>NaN</td>\n",
       "    </tr>\n",
       "    <tr>\n",
       "      <th>2020-03-08</th>\n",
       "      <td>0.0</td>\n",
       "      <td>0.0</td>\n",
       "      <td>NaN</td>\n",
       "      <td>NaN</td>\n",
       "      <td>NaN</td>\n",
       "      <td>NaN</td>\n",
       "      <td>NaN</td>\n",
       "      <td>0.0</td>\n",
       "      <td>NaN</td>\n",
       "      <td>NaN</td>\n",
       "      <td>NaN</td>\n",
       "      <td>NaN</td>\n",
       "      <td>NaN</td>\n",
       "    </tr>\n",
       "  </tbody>\n",
       "</table>\n",
       "<p>64 rows × 13 columns</p>\n",
       "</div>"
      ],
      "text/plain": [
       "                           Confirmed  Dead  Home  Hosp  ICU  Shutdown  \\\n",
       "DaysSinceFirst Date                                                     \n",
       "1.0            2020-03-09        1.0   0.0   4.0   0.0  0.0       0.0   \n",
       "2.0            2020-03-10        8.0   0.0   6.0   1.0  1.0       0.0   \n",
       "3.0            2020-03-11       14.0   1.0   9.0   3.0  1.0       0.0   \n",
       "4.0            2020-03-12       27.0   1.0  21.0   4.0  1.0       0.0   \n",
       "5.0            2020-03-13       36.0   1.0  30.0   4.0  1.0       0.0   \n",
       "...                              ...   ...   ...   ...  ...       ...   \n",
       "NaN            2020-03-04        0.0   0.0   NaN   NaN  NaN       NaN   \n",
       "               2020-03-05        0.0   0.0   NaN   NaN  NaN       NaN   \n",
       "               2020-03-06        0.0   0.0   NaN   NaN  NaN       NaN   \n",
       "               2020-03-07        0.0   0.0   NaN   NaN  NaN       NaN   \n",
       "               2020-03-08        0.0   0.0   NaN   NaN  NaN       NaN   \n",
       "\n",
       "                           TotalTests  NewCases  NewTests  ConfirmedGrowth  \\\n",
       "DaysSinceFirst Date                                                          \n",
       "1.0            2020-03-09       105.0       1.0       NaN              inf   \n",
       "2.0            2020-03-10       146.0       7.0      41.0       700.000000   \n",
       "3.0            2020-03-11       194.0       6.0      48.0        75.000000   \n",
       "4.0            2020-03-12       401.0      13.0     207.0        92.857143   \n",
       "5.0            2020-03-13       649.0       9.0     248.0        33.333333   \n",
       "...                               ...       ...       ...              ...   \n",
       "NaN            2020-03-04         NaN       0.0       NaN              NaN   \n",
       "               2020-03-05         NaN       0.0       NaN              NaN   \n",
       "               2020-03-06         NaN       0.0       NaN              NaN   \n",
       "               2020-03-07         NaN       0.0       NaN              NaN   \n",
       "               2020-03-08         NaN       0.0       NaN              NaN   \n",
       "\n",
       "                           DaysSinceTenthDeath  DailyPosTestRate  \\\n",
       "DaysSinceFirst Date                                                \n",
       "1.0            2020-03-09                  NaN               NaN   \n",
       "2.0            2020-03-10                  NaN          0.170732   \n",
       "3.0            2020-03-11                  NaN          0.125000   \n",
       "4.0            2020-03-12                  NaN          0.062802   \n",
       "5.0            2020-03-13                  NaN          0.036290   \n",
       "...                                        ...               ...   \n",
       "NaN            2020-03-04                  NaN               NaN   \n",
       "               2020-03-05                  NaN               NaN   \n",
       "               2020-03-06                  NaN               NaN   \n",
       "               2020-03-07                  NaN               NaN   \n",
       "               2020-03-08                  NaN               NaN   \n",
       "\n",
       "                           CumulativePosTestRate  \n",
       "DaysSinceFirst Date                               \n",
       "1.0            2020-03-09               0.009524  \n",
       "2.0            2020-03-10               0.054795  \n",
       "3.0            2020-03-11               0.072165  \n",
       "4.0            2020-03-12               0.067332  \n",
       "5.0            2020-03-13               0.055470  \n",
       "...                                          ...  \n",
       "NaN            2020-03-04                    NaN  \n",
       "               2020-03-05                    NaN  \n",
       "               2020-03-06                    NaN  \n",
       "               2020-03-07                    NaN  \n",
       "               2020-03-08                    NaN  \n",
       "\n",
       "[64 rows x 13 columns]"
      ]
     },
     "execution_count": 22,
     "metadata": {},
     "output_type": "execute_result"
    }
   ],
   "source": [
    "dat.tail(30)\n",
    "\n",
    "countries = list(dat.index.get_level_values(0).unique())\n",
    "stats = list(dat.columns)\n",
    "stat_map = {\n",
    "    'DailyPosTestRate': 'Daily Positive Test Rate',\n",
    "    'Confirmed': 'Confirmed Tests',\n",
    "    'NewTests': 'Daily New Tests',\n",
    "    'CumulativePosTestRate': 'Cumulative Positive Test Rate',\n",
    "    'NewCases': 'New Cases',\n",
    "    'TotalTests': 'Total Tests',\n",
    "    'ConfirmedGrowth': 'Daily Confirmed Cases Growth (%)'\n",
    "}\n",
    "\n",
    "xs = ['DaysSinceFirst', 'Date', 'DaysSinceTenthDeath']\n",
    "xs_map = {'DaysSinceFirst': 'Days Since First Confirmed',\n",
    "         'DaysSinceTenthDeath': 'Days Since 10th Death'}\n",
    "\n",
    "dat.loc['Panama']"
   ]
  },
  {
   "cell_type": "markdown",
   "metadata": {},
   "source": [
    "# Important Dates by Country:\n",
    "\n",
    "### Peru\n",
    "- Sourhces: ministerio de salud, wikipedia page\n",
    "* March 11 - Declaran emergencia sanitaria por 90 dias\n",
    "* March 13 - Suspenden vuelos internacional desde Europa y Asia\n",
    "* March 16 - Teletrabajo para todos menos los esenciales\n",
    "* March 17 - Cierran fronteras\n",
    "* March 18 - Cuarentena general entre 8PM y 5 AM.\n",
    "* https://www.dge.gob.pe/portal/\n",
    "\n",
    "### Panama\n",
    "* Something\n",
    "\n",
    "### Guatemala\n",
    "- Source: Alejandro Giammattei twitter\n",
    "* March 22 - Cuarentena general entre 4 PM y 4 AM por 8 dias"
   ]
  },
  {
   "cell_type": "code",
   "execution_count": 31,
   "metadata": {},
   "outputs": [],
   "source": [
    "def make_graph(count_to_plot, stat_to_plot, x_axis, plot_style = 0, m=None):\n",
    "    to_add = ['Date'] if x_axis != 'Date' else []\n",
    "    to_plot = dat.reset_index()\n",
    "    to_plot = to_plot[to_plot.Country.isin(count_to_plot)][['Country'] + [stat_to_plot] + [x_axis] + ['Shutdown']+to_add ]\n",
    "    if x_axis != 'Date':\n",
    "        to_plot['Date'] = to_plot['Date'].dt.strftime('%b %d, %Y')\n",
    "    print(to_plot.head())\n",
    "    to_plot.Shutdown = to_plot.Shutdown.fillna(value = 0)\n",
    "    \n",
    "    if plot_style == 0:\n",
    "        fig = px.scatter(to_plot, \n",
    "                         x = to_plot[x_axis], \n",
    "                         y = to_plot[stat_to_plot], \n",
    "                         color = to_plot.Country,\n",
    "                         hover_data = ['Date'] if x_axis != 'Date' else [],\n",
    "#                          symbol = 'Shutdown',\n",
    "                         title = '{} by Country'.format(stat_map.get(stat_to_plot, stat_to_plot)))\n",
    "    elif plot_style == 1:\n",
    "        fig = px.bar(to_plot, \n",
    "                         x = to_plot[x_axis], \n",
    "                         y = to_plot[stat_to_plot], \n",
    "                         color = to_plot.Country,\n",
    "                         barmode = 'group',\n",
    "                         hover_data = ['Date'] if x_axis != 'Date' else [],\n",
    "                         title = '{} by Country'.format(stat_map.get(stat_to_plot, stat_to_plot)))\n",
    "    elif plot_style == 2:\n",
    "        fig = px.line(to_plot, \n",
    "                         x = to_plot[x_axis], \n",
    "                         y = to_plot[stat_to_plot], \n",
    "                         color = to_plot.Country,\n",
    "                         hover_data = ['Date'] if x_axis != 'Date' else [],\n",
    "                         title = '{} by Country'.format(stat_map.get(stat_to_plot, stat_to_plot)))\n",
    "#     fig.add_trace(tr)\n",
    "    \n",
    "#     fig.update_xaxes(title = 'Days Since First Confirmed Test')\n",
    "    fig.update_xaxes(title = xs_map.get(x_axis, x_axis))\n",
    "    fig.update_yaxes(title = stat_to_plot)\n",
    "\n",
    "    if m is not None:\n",
    "        x_lim = to_plot.reset_index().groupby('Country')[x_axis].max().min() * m\n",
    "        y_lim = to_plot.reset_index().groupby('Country')[stat_to_plot].max().min() * m\n",
    "        fig.update_xaxes(range = [0, x_lim])\n",
    "        fig.update_yaxes(range = [0, y_lim])\n",
    "        \n",
    "    return fig\n",
    "\n"
   ]
  },
  {
   "cell_type": "code",
   "execution_count": 32,
   "metadata": {},
   "outputs": [
    {
     "name": "stdout",
     "output_type": "stream",
     "text": [
      "     Country  TotalTests  DaysSinceFirst  Shutdown          Date\n",
      "7872  Panama       105.0             1.0       0.0  Mar 09, 2020\n",
      "7873  Panama       146.0             2.0       0.0  Mar 10, 2020\n",
      "7874  Panama       194.0             3.0       0.0  Mar 11, 2020\n",
      "7875  Panama       401.0             4.0       0.0  Mar 12, 2020\n",
      "7876  Panama       649.0             5.0       0.0  Mar 13, 2020\n"
     ]
    },
    {
     "data": {
      "application/vnd.plotly.v1+json": {
       "config": {
        "plotlyServerURL": "https://plot.ly"
       },
       "data": [
        {
         "customdata": [
          [
           "Mar 09, 2020"
          ],
          [
           "Mar 10, 2020"
          ],
          [
           "Mar 11, 2020"
          ],
          [
           "Mar 12, 2020"
          ],
          [
           "Mar 13, 2020"
          ],
          [
           "Mar 14, 2020"
          ],
          [
           "Mar 15, 2020"
          ],
          [
           "Mar 16, 2020"
          ],
          [
           "Mar 17, 2020"
          ],
          [
           "Mar 18, 2020"
          ],
          [
           "Mar 19, 2020"
          ],
          [
           "Mar 20, 2020"
          ],
          [
           "Mar 21, 2020"
          ],
          [
           "Mar 22, 2020"
          ],
          [
           "Mar 23, 2020"
          ],
          [
           "Mar 24, 2020"
          ],
          [
           "Mar 25, 2020"
          ],
          [
           "Jan 22, 2020"
          ],
          [
           "Jan 23, 2020"
          ],
          [
           "Jan 24, 2020"
          ],
          [
           "Jan 25, 2020"
          ],
          [
           "Jan 26, 2020"
          ],
          [
           "Jan 27, 2020"
          ],
          [
           "Jan 28, 2020"
          ],
          [
           "Jan 29, 2020"
          ],
          [
           "Jan 30, 2020"
          ],
          [
           "Jan 31, 2020"
          ],
          [
           "Feb 01, 2020"
          ],
          [
           "Feb 02, 2020"
          ],
          [
           "Feb 03, 2020"
          ],
          [
           "Feb 04, 2020"
          ],
          [
           "Feb 05, 2020"
          ],
          [
           "Feb 06, 2020"
          ],
          [
           "Feb 07, 2020"
          ],
          [
           "Feb 08, 2020"
          ],
          [
           "Feb 09, 2020"
          ],
          [
           "Feb 10, 2020"
          ],
          [
           "Feb 11, 2020"
          ],
          [
           "Feb 12, 2020"
          ],
          [
           "Feb 13, 2020"
          ],
          [
           "Feb 14, 2020"
          ],
          [
           "Feb 15, 2020"
          ],
          [
           "Feb 16, 2020"
          ],
          [
           "Feb 17, 2020"
          ],
          [
           "Feb 18, 2020"
          ],
          [
           "Feb 19, 2020"
          ],
          [
           "Feb 20, 2020"
          ],
          [
           "Feb 21, 2020"
          ],
          [
           "Feb 22, 2020"
          ],
          [
           "Feb 23, 2020"
          ],
          [
           "Feb 24, 2020"
          ],
          [
           "Feb 25, 2020"
          ],
          [
           "Feb 26, 2020"
          ],
          [
           "Feb 27, 2020"
          ],
          [
           "Feb 28, 2020"
          ],
          [
           "Feb 29, 2020"
          ],
          [
           "Mar 01, 2020"
          ],
          [
           "Mar 02, 2020"
          ],
          [
           "Mar 03, 2020"
          ],
          [
           "Mar 04, 2020"
          ],
          [
           "Mar 05, 2020"
          ],
          [
           "Mar 06, 2020"
          ],
          [
           "Mar 07, 2020"
          ],
          [
           "Mar 08, 2020"
          ]
         ],
         "hoverlabel": {
          "namelength": 0
         },
         "hovertemplate": "Country=Panama<br>DaysSinceFirst=%{x}<br>TotalTests=%{y}<br>Date=%{customdata[0]}",
         "legendgroup": "Panama",
         "marker": {
          "color": "#636efa",
          "symbol": "circle"
         },
         "mode": "markers",
         "name": "Panama",
         "showlegend": true,
         "type": "scatter",
         "x": [
          1,
          2,
          3,
          4,
          5,
          6,
          7,
          8,
          9,
          10,
          11,
          12,
          13,
          14,
          15,
          16,
          17,
          null,
          null,
          null,
          null,
          null,
          null,
          null,
          null,
          null,
          null,
          null,
          null,
          null,
          null,
          null,
          null,
          null,
          null,
          null,
          null,
          null,
          null,
          null,
          null,
          null,
          null,
          null,
          null,
          null,
          null,
          null,
          null,
          null,
          null,
          null,
          null,
          null,
          null,
          null,
          null,
          null,
          null,
          null,
          null,
          null,
          null,
          null
         ],
         "xaxis": "x",
         "y": [
          105,
          146,
          194,
          401,
          649,
          857,
          976,
          1073,
          1245,
          1455,
          1768,
          2169,
          2472,
          3099,
          3233,
          3690,
          4248,
          null,
          null,
          null,
          null,
          null,
          null,
          null,
          null,
          null,
          null,
          null,
          null,
          null,
          null,
          null,
          null,
          null,
          null,
          null,
          null,
          null,
          null,
          null,
          null,
          null,
          null,
          null,
          null,
          null,
          null,
          null,
          null,
          null,
          null,
          null,
          null,
          null,
          null,
          null,
          null,
          null,
          null,
          null,
          null,
          null,
          null,
          null
         ],
         "yaxis": "y"
        },
        {
         "customdata": [
          [
           "Jan 20, 2020"
          ],
          [
           "Jan 24, 2020"
          ],
          [
           "Jan 26, 2020"
          ],
          [
           "Jan 27, 2020"
          ],
          [
           "Jan 28, 2020"
          ],
          [
           "Jan 30, 2020"
          ],
          [
           "Jan 31, 2020"
          ],
          [
           "Feb 01, 2020"
          ],
          [
           "Feb 02, 2020"
          ],
          [
           "Feb 04, 2020"
          ],
          [
           "Feb 05, 2020"
          ],
          [
           "Feb 06, 2020"
          ],
          [
           "Feb 07, 2020"
          ],
          [
           "Feb 09, 2020"
          ],
          [
           "Feb 11, 2020"
          ],
          [
           "Feb 16, 2020"
          ],
          [
           "Feb 17, 2020"
          ],
          [
           "Feb 18, 2020"
          ],
          [
           "Feb 19, 2020"
          ],
          [
           "Feb 20, 2020"
          ],
          [
           "Feb 21, 2020"
          ],
          [
           "Feb 22, 2020"
          ],
          [
           "Feb 23, 2020"
          ],
          [
           "Feb 24, 2020"
          ],
          [
           "Feb 25, 2020"
          ],
          [
           "Feb 26, 2020"
          ],
          [
           "Feb 27, 2020"
          ],
          [
           "Feb 28, 2020"
          ],
          [
           "Feb 29, 2020"
          ],
          [
           "Mar 01, 2020"
          ],
          [
           "Mar 02, 2020"
          ],
          [
           "Mar 03, 2020"
          ],
          [
           "Mar 04, 2020"
          ],
          [
           "Mar 05, 2020"
          ],
          [
           "Mar 06, 2020"
          ],
          [
           "Mar 07, 2020"
          ],
          [
           "Mar 08, 2020"
          ],
          [
           "Mar 09, 2020"
          ],
          [
           "Mar 10, 2020"
          ],
          [
           "Mar 11, 2020"
          ],
          [
           "Mar 12, 2020"
          ],
          [
           "Mar 13, 2020"
          ],
          [
           "Mar 14, 2020"
          ],
          [
           "Mar 15, 2020"
          ],
          [
           "Mar 16, 2020"
          ],
          [
           "Mar 17, 2020"
          ],
          [
           "Mar 18, 2020"
          ],
          [
           "Mar 19, 2020"
          ],
          [
           "Mar 20, 2020"
          ],
          [
           "Mar 21, 2020"
          ],
          [
           "Mar 22, 2020"
          ],
          [
           "Mar 23, 2020"
          ]
         ],
         "hoverlabel": {
          "namelength": 0
         },
         "hovertemplate": "Country=SouthKorea<br>DaysSinceFirst=%{x}<br>TotalTests=%{y}<br>Date=%{customdata[0]}",
         "legendgroup": "SouthKorea",
         "marker": {
          "color": "#EF553B",
          "symbol": "circle"
         },
         "mode": "markers",
         "name": "SouthKorea",
         "showlegend": true,
         "type": "scatter",
         "x": [
          1,
          2,
          3,
          4,
          4,
          5,
          6,
          7,
          8,
          9,
          10,
          11,
          12,
          13,
          14,
          15,
          16,
          17,
          18,
          19,
          20,
          21,
          22,
          23,
          24,
          25,
          26,
          27,
          28,
          29,
          30,
          31,
          32,
          33,
          34,
          35,
          36,
          37,
          38,
          39,
          40,
          41,
          42,
          43,
          44,
          45,
          46,
          47,
          48,
          49,
          50,
          51
         ],
         "xaxis": "x",
         "y": [
          4,
          27,
          51,
          61,
          244,
          null,
          null,
          371,
          429,
          607,
          714,
          885,
          1130,
          2598,
          3629,
          7919,
          8171,
          9265,
          11173,
          13202,
          16400,
          21586,
          25577,
          31923,
          40304,
          53553,
          66652,
          81167,
          94055,
          109591,
          125851,
          136707,
          146541,
          164740,
          178189,
          188518,
          196618,
          210144,
          222395,
          234998,
          248647,
          261335,
          268212,
          274504,
          286716,
          295647,
          307024,
          316664,
          327509,
          331780,
          338036,
          348582
         ],
         "yaxis": "y"
        }
       ],
       "layout": {
        "autosize": true,
        "legend": {
         "title": {
          "text": "Country"
         },
         "tracegroupgap": 0
        },
        "template": {
         "data": {
          "bar": [
           {
            "error_x": {
             "color": "#2a3f5f"
            },
            "error_y": {
             "color": "#2a3f5f"
            },
            "marker": {
             "line": {
              "color": "#E5ECF6",
              "width": 0.5
             }
            },
            "type": "bar"
           }
          ],
          "barpolar": [
           {
            "marker": {
             "line": {
              "color": "#E5ECF6",
              "width": 0.5
             }
            },
            "type": "barpolar"
           }
          ],
          "carpet": [
           {
            "aaxis": {
             "endlinecolor": "#2a3f5f",
             "gridcolor": "white",
             "linecolor": "white",
             "minorgridcolor": "white",
             "startlinecolor": "#2a3f5f"
            },
            "baxis": {
             "endlinecolor": "#2a3f5f",
             "gridcolor": "white",
             "linecolor": "white",
             "minorgridcolor": "white",
             "startlinecolor": "#2a3f5f"
            },
            "type": "carpet"
           }
          ],
          "choropleth": [
           {
            "colorbar": {
             "outlinewidth": 0,
             "ticks": ""
            },
            "type": "choropleth"
           }
          ],
          "contour": [
           {
            "colorbar": {
             "outlinewidth": 0,
             "ticks": ""
            },
            "colorscale": [
             [
              0,
              "#0d0887"
             ],
             [
              0.1111111111111111,
              "#46039f"
             ],
             [
              0.2222222222222222,
              "#7201a8"
             ],
             [
              0.3333333333333333,
              "#9c179e"
             ],
             [
              0.4444444444444444,
              "#bd3786"
             ],
             [
              0.5555555555555556,
              "#d8576b"
             ],
             [
              0.6666666666666666,
              "#ed7953"
             ],
             [
              0.7777777777777778,
              "#fb9f3a"
             ],
             [
              0.8888888888888888,
              "#fdca26"
             ],
             [
              1,
              "#f0f921"
             ]
            ],
            "type": "contour"
           }
          ],
          "contourcarpet": [
           {
            "colorbar": {
             "outlinewidth": 0,
             "ticks": ""
            },
            "type": "contourcarpet"
           }
          ],
          "heatmap": [
           {
            "colorbar": {
             "outlinewidth": 0,
             "ticks": ""
            },
            "colorscale": [
             [
              0,
              "#0d0887"
             ],
             [
              0.1111111111111111,
              "#46039f"
             ],
             [
              0.2222222222222222,
              "#7201a8"
             ],
             [
              0.3333333333333333,
              "#9c179e"
             ],
             [
              0.4444444444444444,
              "#bd3786"
             ],
             [
              0.5555555555555556,
              "#d8576b"
             ],
             [
              0.6666666666666666,
              "#ed7953"
             ],
             [
              0.7777777777777778,
              "#fb9f3a"
             ],
             [
              0.8888888888888888,
              "#fdca26"
             ],
             [
              1,
              "#f0f921"
             ]
            ],
            "type": "heatmap"
           }
          ],
          "heatmapgl": [
           {
            "colorbar": {
             "outlinewidth": 0,
             "ticks": ""
            },
            "colorscale": [
             [
              0,
              "#0d0887"
             ],
             [
              0.1111111111111111,
              "#46039f"
             ],
             [
              0.2222222222222222,
              "#7201a8"
             ],
             [
              0.3333333333333333,
              "#9c179e"
             ],
             [
              0.4444444444444444,
              "#bd3786"
             ],
             [
              0.5555555555555556,
              "#d8576b"
             ],
             [
              0.6666666666666666,
              "#ed7953"
             ],
             [
              0.7777777777777778,
              "#fb9f3a"
             ],
             [
              0.8888888888888888,
              "#fdca26"
             ],
             [
              1,
              "#f0f921"
             ]
            ],
            "type": "heatmapgl"
           }
          ],
          "histogram": [
           {
            "marker": {
             "colorbar": {
              "outlinewidth": 0,
              "ticks": ""
             }
            },
            "type": "histogram"
           }
          ],
          "histogram2d": [
           {
            "colorbar": {
             "outlinewidth": 0,
             "ticks": ""
            },
            "colorscale": [
             [
              0,
              "#0d0887"
             ],
             [
              0.1111111111111111,
              "#46039f"
             ],
             [
              0.2222222222222222,
              "#7201a8"
             ],
             [
              0.3333333333333333,
              "#9c179e"
             ],
             [
              0.4444444444444444,
              "#bd3786"
             ],
             [
              0.5555555555555556,
              "#d8576b"
             ],
             [
              0.6666666666666666,
              "#ed7953"
             ],
             [
              0.7777777777777778,
              "#fb9f3a"
             ],
             [
              0.8888888888888888,
              "#fdca26"
             ],
             [
              1,
              "#f0f921"
             ]
            ],
            "type": "histogram2d"
           }
          ],
          "histogram2dcontour": [
           {
            "colorbar": {
             "outlinewidth": 0,
             "ticks": ""
            },
            "colorscale": [
             [
              0,
              "#0d0887"
             ],
             [
              0.1111111111111111,
              "#46039f"
             ],
             [
              0.2222222222222222,
              "#7201a8"
             ],
             [
              0.3333333333333333,
              "#9c179e"
             ],
             [
              0.4444444444444444,
              "#bd3786"
             ],
             [
              0.5555555555555556,
              "#d8576b"
             ],
             [
              0.6666666666666666,
              "#ed7953"
             ],
             [
              0.7777777777777778,
              "#fb9f3a"
             ],
             [
              0.8888888888888888,
              "#fdca26"
             ],
             [
              1,
              "#f0f921"
             ]
            ],
            "type": "histogram2dcontour"
           }
          ],
          "mesh3d": [
           {
            "colorbar": {
             "outlinewidth": 0,
             "ticks": ""
            },
            "type": "mesh3d"
           }
          ],
          "parcoords": [
           {
            "line": {
             "colorbar": {
              "outlinewidth": 0,
              "ticks": ""
             }
            },
            "type": "parcoords"
           }
          ],
          "pie": [
           {
            "automargin": true,
            "type": "pie"
           }
          ],
          "scatter": [
           {
            "marker": {
             "colorbar": {
              "outlinewidth": 0,
              "ticks": ""
             }
            },
            "type": "scatter"
           }
          ],
          "scatter3d": [
           {
            "line": {
             "colorbar": {
              "outlinewidth": 0,
              "ticks": ""
             }
            },
            "marker": {
             "colorbar": {
              "outlinewidth": 0,
              "ticks": ""
             }
            },
            "type": "scatter3d"
           }
          ],
          "scattercarpet": [
           {
            "marker": {
             "colorbar": {
              "outlinewidth": 0,
              "ticks": ""
             }
            },
            "type": "scattercarpet"
           }
          ],
          "scattergeo": [
           {
            "marker": {
             "colorbar": {
              "outlinewidth": 0,
              "ticks": ""
             }
            },
            "type": "scattergeo"
           }
          ],
          "scattergl": [
           {
            "marker": {
             "colorbar": {
              "outlinewidth": 0,
              "ticks": ""
             }
            },
            "type": "scattergl"
           }
          ],
          "scattermapbox": [
           {
            "marker": {
             "colorbar": {
              "outlinewidth": 0,
              "ticks": ""
             }
            },
            "type": "scattermapbox"
           }
          ],
          "scatterpolar": [
           {
            "marker": {
             "colorbar": {
              "outlinewidth": 0,
              "ticks": ""
             }
            },
            "type": "scatterpolar"
           }
          ],
          "scatterpolargl": [
           {
            "marker": {
             "colorbar": {
              "outlinewidth": 0,
              "ticks": ""
             }
            },
            "type": "scatterpolargl"
           }
          ],
          "scatterternary": [
           {
            "marker": {
             "colorbar": {
              "outlinewidth": 0,
              "ticks": ""
             }
            },
            "type": "scatterternary"
           }
          ],
          "surface": [
           {
            "colorbar": {
             "outlinewidth": 0,
             "ticks": ""
            },
            "colorscale": [
             [
              0,
              "#0d0887"
             ],
             [
              0.1111111111111111,
              "#46039f"
             ],
             [
              0.2222222222222222,
              "#7201a8"
             ],
             [
              0.3333333333333333,
              "#9c179e"
             ],
             [
              0.4444444444444444,
              "#bd3786"
             ],
             [
              0.5555555555555556,
              "#d8576b"
             ],
             [
              0.6666666666666666,
              "#ed7953"
             ],
             [
              0.7777777777777778,
              "#fb9f3a"
             ],
             [
              0.8888888888888888,
              "#fdca26"
             ],
             [
              1,
              "#f0f921"
             ]
            ],
            "type": "surface"
           }
          ],
          "table": [
           {
            "cells": {
             "fill": {
              "color": "#EBF0F8"
             },
             "line": {
              "color": "white"
             }
            },
            "header": {
             "fill": {
              "color": "#C8D4E3"
             },
             "line": {
              "color": "white"
             }
            },
            "type": "table"
           }
          ]
         },
         "layout": {
          "annotationdefaults": {
           "arrowcolor": "#2a3f5f",
           "arrowhead": 0,
           "arrowwidth": 1
          },
          "coloraxis": {
           "colorbar": {
            "outlinewidth": 0,
            "ticks": ""
           }
          },
          "colorscale": {
           "diverging": [
            [
             0,
             "#8e0152"
            ],
            [
             0.1,
             "#c51b7d"
            ],
            [
             0.2,
             "#de77ae"
            ],
            [
             0.3,
             "#f1b6da"
            ],
            [
             0.4,
             "#fde0ef"
            ],
            [
             0.5,
             "#f7f7f7"
            ],
            [
             0.6,
             "#e6f5d0"
            ],
            [
             0.7,
             "#b8e186"
            ],
            [
             0.8,
             "#7fbc41"
            ],
            [
             0.9,
             "#4d9221"
            ],
            [
             1,
             "#276419"
            ]
           ],
           "sequential": [
            [
             0,
             "#0d0887"
            ],
            [
             0.1111111111111111,
             "#46039f"
            ],
            [
             0.2222222222222222,
             "#7201a8"
            ],
            [
             0.3333333333333333,
             "#9c179e"
            ],
            [
             0.4444444444444444,
             "#bd3786"
            ],
            [
             0.5555555555555556,
             "#d8576b"
            ],
            [
             0.6666666666666666,
             "#ed7953"
            ],
            [
             0.7777777777777778,
             "#fb9f3a"
            ],
            [
             0.8888888888888888,
             "#fdca26"
            ],
            [
             1,
             "#f0f921"
            ]
           ],
           "sequentialminus": [
            [
             0,
             "#0d0887"
            ],
            [
             0.1111111111111111,
             "#46039f"
            ],
            [
             0.2222222222222222,
             "#7201a8"
            ],
            [
             0.3333333333333333,
             "#9c179e"
            ],
            [
             0.4444444444444444,
             "#bd3786"
            ],
            [
             0.5555555555555556,
             "#d8576b"
            ],
            [
             0.6666666666666666,
             "#ed7953"
            ],
            [
             0.7777777777777778,
             "#fb9f3a"
            ],
            [
             0.8888888888888888,
             "#fdca26"
            ],
            [
             1,
             "#f0f921"
            ]
           ]
          },
          "colorway": [
           "#636efa",
           "#EF553B",
           "#00cc96",
           "#ab63fa",
           "#FFA15A",
           "#19d3f3",
           "#FF6692",
           "#B6E880",
           "#FF97FF",
           "#FECB52"
          ],
          "font": {
           "color": "#2a3f5f"
          },
          "geo": {
           "bgcolor": "white",
           "lakecolor": "white",
           "landcolor": "#E5ECF6",
           "showlakes": true,
           "showland": true,
           "subunitcolor": "white"
          },
          "hoverlabel": {
           "align": "left"
          },
          "hovermode": "closest",
          "mapbox": {
           "style": "light"
          },
          "paper_bgcolor": "white",
          "plot_bgcolor": "#E5ECF6",
          "polar": {
           "angularaxis": {
            "gridcolor": "white",
            "linecolor": "white",
            "ticks": ""
           },
           "bgcolor": "#E5ECF6",
           "radialaxis": {
            "gridcolor": "white",
            "linecolor": "white",
            "ticks": ""
           }
          },
          "scene": {
           "xaxis": {
            "backgroundcolor": "#E5ECF6",
            "gridcolor": "white",
            "gridwidth": 2,
            "linecolor": "white",
            "showbackground": true,
            "ticks": "",
            "zerolinecolor": "white"
           },
           "yaxis": {
            "backgroundcolor": "#E5ECF6",
            "gridcolor": "white",
            "gridwidth": 2,
            "linecolor": "white",
            "showbackground": true,
            "ticks": "",
            "zerolinecolor": "white"
           },
           "zaxis": {
            "backgroundcolor": "#E5ECF6",
            "gridcolor": "white",
            "gridwidth": 2,
            "linecolor": "white",
            "showbackground": true,
            "ticks": "",
            "zerolinecolor": "white"
           }
          },
          "shapedefaults": {
           "line": {
            "color": "#2a3f5f"
           }
          },
          "ternary": {
           "aaxis": {
            "gridcolor": "white",
            "linecolor": "white",
            "ticks": ""
           },
           "baxis": {
            "gridcolor": "white",
            "linecolor": "white",
            "ticks": ""
           },
           "bgcolor": "#E5ECF6",
           "caxis": {
            "gridcolor": "white",
            "linecolor": "white",
            "ticks": ""
           }
          },
          "title": {
           "x": 0.05
          },
          "xaxis": {
           "automargin": true,
           "gridcolor": "white",
           "linecolor": "white",
           "ticks": "",
           "title": {
            "standoff": 15
           },
           "zerolinecolor": "white",
           "zerolinewidth": 2
          },
          "yaxis": {
           "automargin": true,
           "gridcolor": "white",
           "linecolor": "white",
           "ticks": "",
           "title": {
            "standoff": 15
           },
           "zerolinecolor": "white",
           "zerolinewidth": 2
          }
         }
        },
        "title": {
         "text": "Total Tests by Country"
        },
        "xaxis": {
         "anchor": "y",
         "autorange": true,
         "domain": [
          0,
          1
         ],
         "range": [
          -2.14250700280112,
          54.14250700280112
         ],
         "title": {
          "text": "Days Since First Confirmed"
         },
         "type": "linear"
        },
        "yaxis": {
         "anchor": "x",
         "autorange": true,
         "domain": [
          0,
          1
         ],
         "range": [
          -25528.783439490446,
          374114.7834394904
         ],
         "title": {
          "text": "TotalTests"
         },
         "type": "linear"
        }
       }
      },
      "image/png": "[encoded data removed]",
      "text/html": [
       "<div>\n",
       "        \n",
       "        \n",
       "            <div id=\"2b75a4ca-1c10-4b3f-bf78-a427ab581c0d\" class=\"plotly-graph-div\" style=\"height:525px; width:100%;\"></div>\n",
       "            <script type=\"text/javascript\">\n",
       "                require([\"plotly\"], function(Plotly) {\n",
       "                    window.PLOTLYENV=window.PLOTLYENV || {};\n",
       "                    \n",
       "                if (document.getElementById(\"2b75a4ca-1c10-4b3f-bf78-a427ab581c0d\")) {\n",
       "                    Plotly.newPlot(\n",
       "                        '2b75a4ca-1c10-4b3f-bf78-a427ab581c0d',\n",
       "                        [{\"customdata\": [[\"Mar 09, 2020\"], [\"Mar 10, 2020\"], [\"Mar 11, 2020\"], [\"Mar 12, 2020\"], [\"Mar 13, 2020\"], [\"Mar 14, 2020\"], [\"Mar 15, 2020\"], [\"Mar 16, 2020\"], [\"Mar 17, 2020\"], [\"Mar 18, 2020\"], [\"Mar 19, 2020\"], [\"Mar 20, 2020\"], [\"Mar 21, 2020\"], [\"Mar 22, 2020\"], [\"Mar 23, 2020\"], [\"Mar 24, 2020\"], [\"Mar 25, 2020\"], [\"Jan 22, 2020\"], [\"Jan 23, 2020\"], [\"Jan 24, 2020\"], [\"Jan 25, 2020\"], [\"Jan 26, 2020\"], [\"Jan 27, 2020\"], [\"Jan 28, 2020\"], [\"Jan 29, 2020\"], [\"Jan 30, 2020\"], [\"Jan 31, 2020\"], [\"Feb 01, 2020\"], [\"Feb 02, 2020\"], [\"Feb 03, 2020\"], [\"Feb 04, 2020\"], [\"Feb 05, 2020\"], [\"Feb 06, 2020\"], [\"Feb 07, 2020\"], [\"Feb 08, 2020\"], [\"Feb 09, 2020\"], [\"Feb 10, 2020\"], [\"Feb 11, 2020\"], [\"Feb 12, 2020\"], [\"Feb 13, 2020\"], [\"Feb 14, 2020\"], [\"Feb 15, 2020\"], [\"Feb 16, 2020\"], [\"Feb 17, 2020\"], [\"Feb 18, 2020\"], [\"Feb 19, 2020\"], [\"Feb 20, 2020\"], [\"Feb 21, 2020\"], [\"Feb 22, 2020\"], [\"Feb 23, 2020\"], [\"Feb 24, 2020\"], [\"Feb 25, 2020\"], [\"Feb 26, 2020\"], [\"Feb 27, 2020\"], [\"Feb 28, 2020\"], [\"Feb 29, 2020\"], [\"Mar 01, 2020\"], [\"Mar 02, 2020\"], [\"Mar 03, 2020\"], [\"Mar 04, 2020\"], [\"Mar 05, 2020\"], [\"Mar 06, 2020\"], [\"Mar 07, 2020\"], [\"Mar 08, 2020\"]], \"hoverlabel\": {\"namelength\": 0}, \"hovertemplate\": \"Country=Panama<br>DaysSinceFirst=%{x}<br>TotalTests=%{y}<br>Date=%{customdata[0]}\", \"legendgroup\": \"Panama\", \"marker\": {\"color\": \"#636efa\", \"symbol\": \"circle\"}, \"mode\": \"markers\", \"name\": \"Panama\", \"showlegend\": true, \"type\": \"scatter\", \"x\": [1.0, 2.0, 3.0, 4.0, 5.0, 6.0, 7.0, 8.0, 9.0, 10.0, 11.0, 12.0, 13.0, 14.0, 15.0, 16.0, 17.0, null, null, null, null, null, null, null, null, null, null, null, null, null, null, null, null, null, null, null, null, null, null, null, null, null, null, null, null, null, null, null, null, null, null, null, null, null, null, null, null, null, null, null, null, null, null, null], \"xaxis\": \"x\", \"y\": [105.0, 146.0, 194.0, 401.0, 649.0, 857.0, 976.0, 1073.0, 1245.0, 1455.0, 1768.0, 2169.0, 2472.0, 3099.0, 3233.0, 3690.0, 4248.0, null, null, null, null, null, null, null, null, null, null, null, null, null, null, null, null, null, null, null, null, null, null, null, null, null, null, null, null, null, null, null, null, null, null, null, null, null, null, null, null, null, null, null, null, null, null, null], \"yaxis\": \"y\"}, {\"customdata\": [[\"Jan 20, 2020\"], [\"Jan 24, 2020\"], [\"Jan 26, 2020\"], [\"Jan 27, 2020\"], [\"Jan 28, 2020\"], [\"Jan 30, 2020\"], [\"Jan 31, 2020\"], [\"Feb 01, 2020\"], [\"Feb 02, 2020\"], [\"Feb 04, 2020\"], [\"Feb 05, 2020\"], [\"Feb 06, 2020\"], [\"Feb 07, 2020\"], [\"Feb 09, 2020\"], [\"Feb 11, 2020\"], [\"Feb 16, 2020\"], [\"Feb 17, 2020\"], [\"Feb 18, 2020\"], [\"Feb 19, 2020\"], [\"Feb 20, 2020\"], [\"Feb 21, 2020\"], [\"Feb 22, 2020\"], [\"Feb 23, 2020\"], [\"Feb 24, 2020\"], [\"Feb 25, 2020\"], [\"Feb 26, 2020\"], [\"Feb 27, 2020\"], [\"Feb 28, 2020\"], [\"Feb 29, 2020\"], [\"Mar 01, 2020\"], [\"Mar 02, 2020\"], [\"Mar 03, 2020\"], [\"Mar 04, 2020\"], [\"Mar 05, 2020\"], [\"Mar 06, 2020\"], [\"Mar 07, 2020\"], [\"Mar 08, 2020\"], [\"Mar 09, 2020\"], [\"Mar 10, 2020\"], [\"Mar 11, 2020\"], [\"Mar 12, 2020\"], [\"Mar 13, 2020\"], [\"Mar 14, 2020\"], [\"Mar 15, 2020\"], [\"Mar 16, 2020\"], [\"Mar 17, 2020\"], [\"Mar 18, 2020\"], [\"Mar 19, 2020\"], [\"Mar 20, 2020\"], [\"Mar 21, 2020\"], [\"Mar 22, 2020\"], [\"Mar 23, 2020\"]], \"hoverlabel\": {\"namelength\": 0}, \"hovertemplate\": \"Country=SouthKorea<br>DaysSinceFirst=%{x}<br>TotalTests=%{y}<br>Date=%{customdata[0]}\", \"legendgroup\": \"SouthKorea\", \"marker\": {\"color\": \"#EF553B\", \"symbol\": \"circle\"}, \"mode\": \"markers\", \"name\": \"SouthKorea\", \"showlegend\": true, \"type\": \"scatter\", \"x\": [1.0, 2.0, 3.0, 4.0, 4.0, 5.0, 6.0, 7.0, 8.0, 9.0, 10.0, 11.0, 12.0, 13.0, 14.0, 15.0, 16.0, 17.0, 18.0, 19.0, 20.0, 21.0, 22.0, 23.0, 24.0, 25.0, 26.0, 27.0, 28.0, 29.0, 30.0, 31.0, 32.0, 33.0, 34.0, 35.0, 36.0, 37.0, 38.0, 39.0, 40.0, 41.0, 42.0, 43.0, 44.0, 45.0, 46.0, 47.0, 48.0, 49.0, 50.0, 51.0], \"xaxis\": \"x\", \"y\": [4.0, 27.0, 51.0, 61.0, 244.0, null, null, 371.0, 429.0, 607.0, 714.0, 885.0, 1130.0, 2598.0, 3629.0, 7919.0, 8171.0, 9265.0, 11173.0, 13202.0, 16400.0, 21586.0, 25577.0, 31923.0, 40304.0, 53553.0, 66652.0, 81167.0, 94055.0, 109591.0, 125851.0, 136707.0, 146541.0, 164740.0, 178189.0, 188518.0, 196618.0, 210144.0, 222395.0, 234998.0, 248647.0, 261335.0, 268212.0, 274504.0, 286716.0, 295647.0, 307024.0, 316664.0, 327509.0, 331780.0, 338036.0, 348582.0], \"yaxis\": \"y\"}],\n",
       "                        {\"legend\": {\"title\": {\"text\": \"Country\"}, \"tracegroupgap\": 0}, \"template\": {\"data\": {\"bar\": [{\"error_x\": {\"color\": \"#2a3f5f\"}, \"error_y\": {\"color\": \"#2a3f5f\"}, \"marker\": {\"line\": {\"color\": \"#E5ECF6\", \"width\": 0.5}}, \"type\": \"bar\"}], \"barpolar\": [{\"marker\": {\"line\": {\"color\": \"#E5ECF6\", \"width\": 0.5}}, \"type\": \"barpolar\"}], \"carpet\": [{\"aaxis\": {\"endlinecolor\": \"#2a3f5f\", \"gridcolor\": \"white\", \"linecolor\": \"white\", \"minorgridcolor\": \"white\", \"startlinecolor\": \"#2a3f5f\"}, \"baxis\": {\"endlinecolor\": \"#2a3f5f\", \"gridcolor\": \"white\", \"linecolor\": \"white\", \"minorgridcolor\": \"white\", \"startlinecolor\": \"#2a3f5f\"}, \"type\": \"carpet\"}], \"choropleth\": [{\"colorbar\": {\"outlinewidth\": 0, \"ticks\": \"\"}, \"type\": \"choropleth\"}], \"contour\": [{\"colorbar\": {\"outlinewidth\": 0, \"ticks\": \"\"}, \"colorscale\": [[0.0, \"#0d0887\"], [0.1111111111111111, \"#46039f\"], [0.2222222222222222, \"#7201a8\"], [0.3333333333333333, \"#9c179e\"], [0.4444444444444444, \"#bd3786\"], [0.5555555555555556, \"#d8576b\"], [0.6666666666666666, \"#ed7953\"], [0.7777777777777778, \"#fb9f3a\"], [0.8888888888888888, \"#fdca26\"], [1.0, \"#f0f921\"]], \"type\": \"contour\"}], \"contourcarpet\": [{\"colorbar\": {\"outlinewidth\": 0, \"ticks\": \"\"}, \"type\": \"contourcarpet\"}], \"heatmap\": [{\"colorbar\": {\"outlinewidth\": 0, \"ticks\": \"\"}, \"colorscale\": [[0.0, \"#0d0887\"], [0.1111111111111111, \"#46039f\"], [0.2222222222222222, \"#7201a8\"], [0.3333333333333333, \"#9c179e\"], [0.4444444444444444, \"#bd3786\"], [0.5555555555555556, \"#d8576b\"], [0.6666666666666666, \"#ed7953\"], [0.7777777777777778, \"#fb9f3a\"], [0.8888888888888888, \"#fdca26\"], [1.0, \"#f0f921\"]], \"type\": \"heatmap\"}], \"heatmapgl\": [{\"colorbar\": {\"outlinewidth\": 0, \"ticks\": \"\"}, \"colorscale\": [[0.0, \"#0d0887\"], [0.1111111111111111, \"#46039f\"], [0.2222222222222222, \"#7201a8\"], [0.3333333333333333, \"#9c179e\"], [0.4444444444444444, \"#bd3786\"], [0.5555555555555556, \"#d8576b\"], [0.6666666666666666, \"#ed7953\"], [0.7777777777777778, \"#fb9f3a\"], [0.8888888888888888, \"#fdca26\"], [1.0, \"#f0f921\"]], \"type\": \"heatmapgl\"}], \"histogram\": [{\"marker\": {\"colorbar\": {\"outlinewidth\": 0, \"ticks\": \"\"}}, \"type\": \"histogram\"}], \"histogram2d\": [{\"colorbar\": {\"outlinewidth\": 0, \"ticks\": \"\"}, \"colorscale\": [[0.0, \"#0d0887\"], [0.1111111111111111, \"#46039f\"], [0.2222222222222222, \"#7201a8\"], [0.3333333333333333, \"#9c179e\"], [0.4444444444444444, \"#bd3786\"], [0.5555555555555556, \"#d8576b\"], [0.6666666666666666, \"#ed7953\"], [0.7777777777777778, \"#fb9f3a\"], [0.8888888888888888, \"#fdca26\"], [1.0, \"#f0f921\"]], \"type\": \"histogram2d\"}], \"histogram2dcontour\": [{\"colorbar\": {\"outlinewidth\": 0, \"ticks\": \"\"}, \"colorscale\": [[0.0, \"#0d0887\"], [0.1111111111111111, \"#46039f\"], [0.2222222222222222, \"#7201a8\"], [0.3333333333333333, \"#9c179e\"], [0.4444444444444444, \"#bd3786\"], [0.5555555555555556, \"#d8576b\"], [0.6666666666666666, \"#ed7953\"], [0.7777777777777778, \"#fb9f3a\"], [0.8888888888888888, \"#fdca26\"], [1.0, \"#f0f921\"]], \"type\": \"histogram2dcontour\"}], \"mesh3d\": [{\"colorbar\": {\"outlinewidth\": 0, \"ticks\": \"\"}, \"type\": \"mesh3d\"}], \"parcoords\": [{\"line\": {\"colorbar\": {\"outlinewidth\": 0, \"ticks\": \"\"}}, \"type\": \"parcoords\"}], \"pie\": [{\"automargin\": true, \"type\": \"pie\"}], \"scatter\": [{\"marker\": {\"colorbar\": {\"outlinewidth\": 0, \"ticks\": \"\"}}, \"type\": \"scatter\"}], \"scatter3d\": [{\"line\": {\"colorbar\": {\"outlinewidth\": 0, \"ticks\": \"\"}}, \"marker\": {\"colorbar\": {\"outlinewidth\": 0, \"ticks\": \"\"}}, \"type\": \"scatter3d\"}], \"scattercarpet\": [{\"marker\": {\"colorbar\": {\"outlinewidth\": 0, \"ticks\": \"\"}}, \"type\": \"scattercarpet\"}], \"scattergeo\": [{\"marker\": {\"colorbar\": {\"outlinewidth\": 0, \"ticks\": \"\"}}, \"type\": \"scattergeo\"}], \"scattergl\": [{\"marker\": {\"colorbar\": {\"outlinewidth\": 0, \"ticks\": \"\"}}, \"type\": \"scattergl\"}], \"scattermapbox\": [{\"marker\": {\"colorbar\": {\"outlinewidth\": 0, \"ticks\": \"\"}}, \"type\": \"scattermapbox\"}], \"scatterpolar\": [{\"marker\": {\"colorbar\": {\"outlinewidth\": 0, \"ticks\": \"\"}}, \"type\": \"scatterpolar\"}], \"scatterpolargl\": [{\"marker\": {\"colorbar\": {\"outlinewidth\": 0, \"ticks\": \"\"}}, \"type\": \"scatterpolargl\"}], \"scatterternary\": [{\"marker\": {\"colorbar\": {\"outlinewidth\": 0, \"ticks\": \"\"}}, \"type\": \"scatterternary\"}], \"surface\": [{\"colorbar\": {\"outlinewidth\": 0, \"ticks\": \"\"}, \"colorscale\": [[0.0, \"#0d0887\"], [0.1111111111111111, \"#46039f\"], [0.2222222222222222, \"#7201a8\"], [0.3333333333333333, \"#9c179e\"], [0.4444444444444444, \"#bd3786\"], [0.5555555555555556, \"#d8576b\"], [0.6666666666666666, \"#ed7953\"], [0.7777777777777778, \"#fb9f3a\"], [0.8888888888888888, \"#fdca26\"], [1.0, \"#f0f921\"]], \"type\": \"surface\"}], \"table\": [{\"cells\": {\"fill\": {\"color\": \"#EBF0F8\"}, \"line\": {\"color\": \"white\"}}, \"header\": {\"fill\": {\"color\": \"#C8D4E3\"}, \"line\": {\"color\": \"white\"}}, \"type\": \"table\"}]}, \"layout\": {\"annotationdefaults\": {\"arrowcolor\": \"#2a3f5f\", \"arrowhead\": 0, \"arrowwidth\": 1}, \"coloraxis\": {\"colorbar\": {\"outlinewidth\": 0, \"ticks\": \"\"}}, \"colorscale\": {\"diverging\": [[0, \"#8e0152\"], [0.1, \"#c51b7d\"], [0.2, \"#de77ae\"], [0.3, \"#f1b6da\"], [0.4, \"#fde0ef\"], [0.5, \"#f7f7f7\"], [0.6, \"#e6f5d0\"], [0.7, \"#b8e186\"], [0.8, \"#7fbc41\"], [0.9, \"#4d9221\"], [1, \"#276419\"]], \"sequential\": [[0.0, \"#0d0887\"], [0.1111111111111111, \"#46039f\"], [0.2222222222222222, \"#7201a8\"], [0.3333333333333333, \"#9c179e\"], [0.4444444444444444, \"#bd3786\"], [0.5555555555555556, \"#d8576b\"], [0.6666666666666666, \"#ed7953\"], [0.7777777777777778, \"#fb9f3a\"], [0.8888888888888888, \"#fdca26\"], [1.0, \"#f0f921\"]], \"sequentialminus\": [[0.0, \"#0d0887\"], [0.1111111111111111, \"#46039f\"], [0.2222222222222222, \"#7201a8\"], [0.3333333333333333, \"#9c179e\"], [0.4444444444444444, \"#bd3786\"], [0.5555555555555556, \"#d8576b\"], [0.6666666666666666, \"#ed7953\"], [0.7777777777777778, \"#fb9f3a\"], [0.8888888888888888, \"#fdca26\"], [1.0, \"#f0f921\"]]}, \"colorway\": [\"#636efa\", \"#EF553B\", \"#00cc96\", \"#ab63fa\", \"#FFA15A\", \"#19d3f3\", \"#FF6692\", \"#B6E880\", \"#FF97FF\", \"#FECB52\"], \"font\": {\"color\": \"#2a3f5f\"}, \"geo\": {\"bgcolor\": \"white\", \"lakecolor\": \"white\", \"landcolor\": \"#E5ECF6\", \"showlakes\": true, \"showland\": true, \"subunitcolor\": \"white\"}, \"hoverlabel\": {\"align\": \"left\"}, \"hovermode\": \"closest\", \"mapbox\": {\"style\": \"light\"}, \"paper_bgcolor\": \"white\", \"plot_bgcolor\": \"#E5ECF6\", \"polar\": {\"angularaxis\": {\"gridcolor\": \"white\", \"linecolor\": \"white\", \"ticks\": \"\"}, \"bgcolor\": \"#E5ECF6\", \"radialaxis\": {\"gridcolor\": \"white\", \"linecolor\": \"white\", \"ticks\": \"\"}}, \"scene\": {\"xaxis\": {\"backgroundcolor\": \"#E5ECF6\", \"gridcolor\": \"white\", \"gridwidth\": 2, \"linecolor\": \"white\", \"showbackground\": true, \"ticks\": \"\", \"zerolinecolor\": \"white\"}, \"yaxis\": {\"backgroundcolor\": \"#E5ECF6\", \"gridcolor\": \"white\", \"gridwidth\": 2, \"linecolor\": \"white\", \"showbackground\": true, \"ticks\": \"\", \"zerolinecolor\": \"white\"}, \"zaxis\": {\"backgroundcolor\": \"#E5ECF6\", \"gridcolor\": \"white\", \"gridwidth\": 2, \"linecolor\": \"white\", \"showbackground\": true, \"ticks\": \"\", \"zerolinecolor\": \"white\"}}, \"shapedefaults\": {\"line\": {\"color\": \"#2a3f5f\"}}, \"ternary\": {\"aaxis\": {\"gridcolor\": \"white\", \"linecolor\": \"white\", \"ticks\": \"\"}, \"baxis\": {\"gridcolor\": \"white\", \"linecolor\": \"white\", \"ticks\": \"\"}, \"bgcolor\": \"#E5ECF6\", \"caxis\": {\"gridcolor\": \"white\", \"linecolor\": \"white\", \"ticks\": \"\"}}, \"title\": {\"x\": 0.05}, \"xaxis\": {\"automargin\": true, \"gridcolor\": \"white\", \"linecolor\": \"white\", \"ticks\": \"\", \"title\": {\"standoff\": 15}, \"zerolinecolor\": \"white\", \"zerolinewidth\": 2}, \"yaxis\": {\"automargin\": true, \"gridcolor\": \"white\", \"linecolor\": \"white\", \"ticks\": \"\", \"title\": {\"standoff\": 15}, \"zerolinecolor\": \"white\", \"zerolinewidth\": 2}}}, \"title\": {\"text\": \"Total Tests by Country\"}, \"xaxis\": {\"anchor\": \"y\", \"domain\": [0.0, 1.0], \"title\": {\"text\": \"Days Since First Confirmed\"}}, \"yaxis\": {\"anchor\": \"x\", \"domain\": [0.0, 1.0], \"title\": {\"text\": \"TotalTests\"}}},\n",
       "                        {\"responsive\": true}\n",
       "                    ).then(function(){\n",
       "                            \n",
       "var gd = document.getElementById('2b75a4ca-1c10-4b3f-bf78-a427ab581c0d');\n",
       "var x = new MutationObserver(function (mutations, observer) {{\n",
       "        var display = window.getComputedStyle(gd).display;\n",
       "        if (!display || display === 'none') {{\n",
       "            console.log([gd, 'removed!']);\n",
       "            Plotly.purge(gd);\n",
       "            observer.disconnect();\n",
       "        }}\n",
       "}});\n",
       "\n",
       "// Listen for the removal of the full notebook cells\n",
       "var notebookContainer = gd.closest('#notebook-container');\n",
       "if (notebookContainer) {{\n",
       "    x.observe(notebookContainer, {childList: true});\n",
       "}}\n",
       "\n",
       "// Listen for the clearing of the current output cell\n",
       "var outputEl = gd.closest('.output');\n",
       "if (outputEl) {{\n",
       "    x.observe(outputEl, {childList: true});\n",
       "}}\n",
       "\n",
       "                        })\n",
       "                };\n",
       "                });\n",
       "            </script>\n",
       "        </div>"
      ]
     },
     "metadata": {},
     "output_type": "display_data"
    }
   ],
   "source": [
    "count_to_plot = ['Panama', 'SouthKorea']\n",
    "y_to_plot =  'TotalTests'\n",
    "x_lab = 'DaysSinceFirst'\n",
    "x_axis = x_lab\n",
    "stat_to_plot = y_to_plot\n",
    "f = make_graph(count_to_plot, y_to_plot, x_lab, plot_style=0)\n",
    "f"
   ]
  },
  {
   "cell_type": "code",
   "execution_count": 26,
   "metadata": {},
   "outputs": [
    {
     "data": {
      "text/html": [
       "<div>\n",
       "<style scoped>\n",
       "    .dataframe tbody tr th:only-of-type {\n",
       "        vertical-align: middle;\n",
       "    }\n",
       "\n",
       "    .dataframe tbody tr th {\n",
       "        vertical-align: top;\n",
       "    }\n",
       "\n",
       "    .dataframe thead th {\n",
       "        text-align: right;\n",
       "    }\n",
       "</style>\n",
       "<table border=\"1\" class=\"dataframe\">\n",
       "  <thead>\n",
       "    <tr style=\"text-align: right;\">\n",
       "      <th></th>\n",
       "      <th>Country</th>\n",
       "      <th>TotalTests</th>\n",
       "      <th>DaysSinceFirst</th>\n",
       "      <th>Shutdown</th>\n",
       "      <th>Date</th>\n",
       "    </tr>\n",
       "  </thead>\n",
       "  <tbody>\n",
       "    <tr>\n",
       "      <th>7872</th>\n",
       "      <td>Panama</td>\n",
       "      <td>105.0</td>\n",
       "      <td>1.0</td>\n",
       "      <td>0.0</td>\n",
       "      <td>Mar 09, 2020</td>\n",
       "    </tr>\n",
       "    <tr>\n",
       "      <th>7873</th>\n",
       "      <td>Panama</td>\n",
       "      <td>146.0</td>\n",
       "      <td>2.0</td>\n",
       "      <td>0.0</td>\n",
       "      <td>Mar 10, 2020</td>\n",
       "    </tr>\n",
       "    <tr>\n",
       "      <th>7874</th>\n",
       "      <td>Panama</td>\n",
       "      <td>194.0</td>\n",
       "      <td>3.0</td>\n",
       "      <td>0.0</td>\n",
       "      <td>Mar 11, 2020</td>\n",
       "    </tr>\n",
       "    <tr>\n",
       "      <th>7875</th>\n",
       "      <td>Panama</td>\n",
       "      <td>401.0</td>\n",
       "      <td>4.0</td>\n",
       "      <td>0.0</td>\n",
       "      <td>Mar 12, 2020</td>\n",
       "    </tr>\n",
       "    <tr>\n",
       "      <th>7876</th>\n",
       "      <td>Panama</td>\n",
       "      <td>649.0</td>\n",
       "      <td>5.0</td>\n",
       "      <td>0.0</td>\n",
       "      <td>Mar 13, 2020</td>\n",
       "    </tr>\n",
       "    <tr>\n",
       "      <th>...</th>\n",
       "      <td>...</td>\n",
       "      <td>...</td>\n",
       "      <td>...</td>\n",
       "      <td>...</td>\n",
       "      <td>...</td>\n",
       "    </tr>\n",
       "    <tr>\n",
       "      <th>9455</th>\n",
       "      <td>SouthKorea</td>\n",
       "      <td>316664.0</td>\n",
       "      <td>47.0</td>\n",
       "      <td>0.0</td>\n",
       "      <td>Mar 19, 2020</td>\n",
       "    </tr>\n",
       "    <tr>\n",
       "      <th>9456</th>\n",
       "      <td>SouthKorea</td>\n",
       "      <td>327509.0</td>\n",
       "      <td>48.0</td>\n",
       "      <td>0.0</td>\n",
       "      <td>Mar 20, 2020</td>\n",
       "    </tr>\n",
       "    <tr>\n",
       "      <th>9457</th>\n",
       "      <td>SouthKorea</td>\n",
       "      <td>331780.0</td>\n",
       "      <td>49.0</td>\n",
       "      <td>0.0</td>\n",
       "      <td>Mar 21, 2020</td>\n",
       "    </tr>\n",
       "    <tr>\n",
       "      <th>9458</th>\n",
       "      <td>SouthKorea</td>\n",
       "      <td>338036.0</td>\n",
       "      <td>50.0</td>\n",
       "      <td>0.0</td>\n",
       "      <td>Mar 22, 2020</td>\n",
       "    </tr>\n",
       "    <tr>\n",
       "      <th>9459</th>\n",
       "      <td>SouthKorea</td>\n",
       "      <td>348582.0</td>\n",
       "      <td>51.0</td>\n",
       "      <td>0.0</td>\n",
       "      <td>Mar 23, 2020</td>\n",
       "    </tr>\n",
       "  </tbody>\n",
       "</table>\n",
       "<p>116 rows × 5 columns</p>\n",
       "</div>"
      ],
      "text/plain": [
       "         Country  TotalTests  DaysSinceFirst  Shutdown          Date\n",
       "7872      Panama       105.0             1.0       0.0  Mar 09, 2020\n",
       "7873      Panama       146.0             2.0       0.0  Mar 10, 2020\n",
       "7874      Panama       194.0             3.0       0.0  Mar 11, 2020\n",
       "7875      Panama       401.0             4.0       0.0  Mar 12, 2020\n",
       "7876      Panama       649.0             5.0       0.0  Mar 13, 2020\n",
       "...          ...         ...             ...       ...           ...\n",
       "9455  SouthKorea    316664.0            47.0       0.0  Mar 19, 2020\n",
       "9456  SouthKorea    327509.0            48.0       0.0  Mar 20, 2020\n",
       "9457  SouthKorea    331780.0            49.0       0.0  Mar 21, 2020\n",
       "9458  SouthKorea    338036.0            50.0       0.0  Mar 22, 2020\n",
       "9459  SouthKorea    348582.0            51.0       0.0  Mar 23, 2020\n",
       "\n",
       "[116 rows x 5 columns]"
      ]
     },
     "execution_count": 26,
     "metadata": {},
     "output_type": "execute_result"
    }
   ],
   "source": [
    "to_add = ['Date'] if x_axis != 'Date' else []\n",
    "to_plot = dat.reset_index()\n",
    "to_plot = to_plot[to_plot.Country.isin(count_to_plot)][['Country'] + [stat_to_plot] + [x_axis] + ['Shutdown']+to_add ]\n",
    "if x_axis != 'Date':\n",
    "    to_plot['Date'] = to_plot['Date'].dt.strftime('%b %d, %Y')\n",
    "# print(to_plot)\n",
    "to_plot.Shutdown = to_plot.Shutdown.fillna(value = 0)\n",
    "to_plot"
   ]
  },
  {
   "cell_type": "code",
   "execution_count": 44,
   "metadata": {},
   "outputs": [],
   "source": [
    "import dash\n",
    "import dash_core_components as dcc\n",
    "import dash_html_components as html\n",
    "from jupyter_plotly_dash import JupyterDash\n",
    "# import jupyterlab_dash"
   ]
  },
  {
   "cell_type": "code",
   "execution_count": 51,
   "metadata": {},
   "outputs": [],
   "source": [
    "# viewer = jupyterlab_dash.AppViewer()\n",
    "# app = dash.Dash('Covid-Tracking')\n",
    "external_stylesheets = ['https://codepen.io/chriddyp/pen/bWLwgP.css']\n",
    "app = JupyterDash('Covid-Tracking')"
   ]
  },
  {
   "cell_type": "code",
   "execution_count": 52,
   "metadata": {},
   "outputs": [],
   "source": [
    "app.layout = html.Div([\n",
    "    html.Div([\n",
    "        html.H2('COVID-19 Tracking',)\n",
    "    ]),\n",
    "    html.Div([    \n",
    "        html.P([\"Countries:\", \n",
    "            dcc.Dropdown(\n",
    "                id = 'country-select',\n",
    "    #             options = countries,\n",
    "                options = [{'label': stat_map.get(c, c), 'value': c} for c in countries],\n",
    "                value = ['Panama'],\n",
    "                multi = True\n",
    "            )\n",
    "        ]),\n",
    "    ], style = {\"width\": \"30%\", 'display': 'inline-block', 'text-align': 'center'} ),\n",
    "    html.Div([\n",
    "        html.P([\"Statistics:\",\n",
    "            dcc.Dropdown(\n",
    "                id = 'statistic-select',\n",
    "                options = [{'label': stat_map.get(s, s), 'value': s} for s in stats],\n",
    "                value = ['Confirmed'],\n",
    "                multi=True\n",
    "            )\n",
    "        ])\n",
    "    ], style = {'width':'30%', 'display':'inline-block', 'text-align': 'center'}),\n",
    "    html.Div([\n",
    "        html.P([\"X-Axis:\",\n",
    "            dcc.Dropdown(\n",
    "                id = 'x-axis-select',\n",
    "                options = [{'label': xs_map.get(x, x), 'value': x} for x in xs],\n",
    "                value = 'DaysSinceFirst',\n",
    "                multi=False\n",
    "            )\n",
    "        ])\n",
    "    ], style = {'width':'20%', 'display':'inline-block', 'text-align': 'center'}),\n",
    "    html.Div([\n",
    "        html.P([\"Graph Style:\",\n",
    "            dcc.Dropdown(\n",
    "                id = 'graph-style',\n",
    "                options = [{'label': 'Scatter', 'value': 0}, \n",
    "                           {'label': 'Bar' , 'value': 1},\n",
    "                           {'label': 'Line', 'value': 2}],\n",
    "                value = 0,\n",
    "                multi=False\n",
    "            )\n",
    "        ])\n",
    "    ], style = {'width':'20%', 'display':'inline-block', 'text-align': 'center'}),\n",
    "    \n",
    "    html.Div(children = html.Div(id='graphs'), className = 'row', style = {\"display\":'inline-block', 'width': '100%'}),\n",
    "    \n",
    "#     dcc.Graph(id='graphs', style = {'width': '80%', 'display': 'inline-block'}),\n",
    "], className = 'container'\n",
    ")\n",
    "\n",
    "\n",
    "@app.callback(\n",
    "    dash.dependencies.Output('graphs', 'children'),\n",
    "    [dash.dependencies.Input('country-select', 'value'), dash.dependencies.Input('statistic-select', 'value'),\n",
    "    dash.dependencies.Input('x-axis-select', 'value'), dash.dependencies.Input('graph-style', 'value')]\n",
    ")\n",
    "def update_graph(countries, stats, x_axis, graph_style):\n",
    "    if len(stats)>2:\n",
    "        class_choice = 'col s12 m6 l4'\n",
    "    elif len(stats) == 2:\n",
    "        class_choice = 'col s12 m6 l6'\n",
    "    else:\n",
    "        class_choice = 'col s12'\n",
    "    #Returns a list of graphs\n",
    "    graphs = []\n",
    "#     return make_graph(countries, stats[0], scatter=False)\n",
    "    for plot_stat in stats:\n",
    "        g = make_graph(countries, plot_stat, x_axis, plot_style=graph_style)\n",
    "        graphs.append(html.Div(dcc.Graph(\n",
    "            id = plot_stat,\n",
    "            animate = True,\n",
    "            figure = g        \n",
    "            ), className = class_choice\n",
    "        ))\n",
    "    return graphs\n",
    "# viewer.show(app)"
   ]
  },
  {
   "cell_type": "code",
   "execution_count": 53,
   "metadata": {},
   "outputs": [
    {
     "data": {
      "text/html": [
       "<div>\n",
       "  <iframe src=\"/app/endpoints/0f9ea0f769b34a6a8363e3814a80a540/\" width=800 height=600 frameborder=\"0\"></iframe>\n",
       "  <hr/><a href=\"/app/endpoints/0f9ea0f769b34a6a8363e3814a80a540/\" target=\"_new\">Open in new window</a> for /app/endpoints/0f9ea0f769b34a6a8363e3814a80a540/\n",
       "</div>"
      ],
      "text/plain": [
       "<jupyter_plotly_dash.dash_wrapper.JupyterDash at 0x2398abf8988>"
      ]
     },
     "execution_count": 53,
     "metadata": {},
     "output_type": "execute_result"
    }
   ],
   "source": [
    "app"
   ]
  },
  {
   "cell_type": "code",
   "execution_count": 33,
   "metadata": {},
   "outputs": [
    {
     "data": {
      "text/plain": [
       "['Afghanistan',\n",
       " 'Albania',\n",
       " 'Algeria',\n",
       " 'Andorra',\n",
       " 'Angola',\n",
       " 'Antigua and Barbuda',\n",
       " 'Argentina',\n",
       " 'Armenia',\n",
       " 'Australia',\n",
       " 'Austria',\n",
       " 'Azerbaijan',\n",
       " 'Bahamas',\n",
       " 'Bahrain',\n",
       " 'Bangladesh',\n",
       " 'Barbados',\n",
       " 'Belarus',\n",
       " 'Belgium',\n",
       " 'Belize',\n",
       " 'Benin',\n",
       " 'Bhutan',\n",
       " 'Bolivia',\n",
       " 'Bosnia and Herzegovina',\n",
       " 'Brazil',\n",
       " 'Brunei',\n",
       " 'Bulgaria',\n",
       " 'Burkina Faso',\n",
       " 'Cabo Verde',\n",
       " 'Cambodia',\n",
       " 'Cameroon',\n",
       " 'Canada',\n",
       " 'Central African Republic',\n",
       " 'Chad',\n",
       " 'Chile',\n",
       " 'China',\n",
       " 'Colombia',\n",
       " 'Congo (Brazzaville)',\n",
       " 'Congo (Kinshasa)',\n",
       " 'Costa Rica',\n",
       " \"Cote d'Ivoire\",\n",
       " 'Croatia',\n",
       " 'Cuba',\n",
       " 'Cyprus',\n",
       " 'Czechia',\n",
       " 'Denmark',\n",
       " 'Diamond Princess',\n",
       " 'Djibouti',\n",
       " 'Dominica',\n",
       " 'Dominican Republic',\n",
       " 'Ecuador',\n",
       " 'Egypt',\n",
       " 'El Salvador',\n",
       " 'Equatorial Guinea',\n",
       " 'Eritrea',\n",
       " 'Estonia',\n",
       " 'Eswatini',\n",
       " 'Ethiopia',\n",
       " 'Fiji',\n",
       " 'Finland',\n",
       " 'France',\n",
       " 'Gabon',\n",
       " 'Gambia',\n",
       " 'Georgia',\n",
       " 'Germany',\n",
       " 'Ghana',\n",
       " 'Greece',\n",
       " 'Grenada',\n",
       " 'Guatemala',\n",
       " 'Guinea',\n",
       " 'Guinea-Bissau',\n",
       " 'Guyana',\n",
       " 'Haiti',\n",
       " 'Holy See',\n",
       " 'Honduras',\n",
       " 'Hungary',\n",
       " 'Iceland',\n",
       " 'India',\n",
       " 'Indonesia',\n",
       " 'Iran',\n",
       " 'Iraq',\n",
       " 'Ireland',\n",
       " 'Israel',\n",
       " 'Italy',\n",
       " 'Jamaica',\n",
       " 'Japan',\n",
       " 'Jordan',\n",
       " 'Kazakhstan',\n",
       " 'Kenya',\n",
       " 'Korea, South',\n",
       " 'Kuwait',\n",
       " 'Kyrgyzstan',\n",
       " 'Laos',\n",
       " 'Latvia',\n",
       " 'Lebanon',\n",
       " 'Liberia',\n",
       " 'Libya',\n",
       " 'Liechtenstein',\n",
       " 'Lithuania',\n",
       " 'Luxembourg',\n",
       " 'Madagascar',\n",
       " 'Malaysia',\n",
       " 'Maldives',\n",
       " 'Mali',\n",
       " 'Malta',\n",
       " 'Mauritania',\n",
       " 'Mauritius',\n",
       " 'Mexico',\n",
       " 'Moldova',\n",
       " 'Monaco',\n",
       " 'Mongolia',\n",
       " 'Montenegro',\n",
       " 'Morocco',\n",
       " 'Mozambique',\n",
       " 'Namibia',\n",
       " 'Nepal',\n",
       " 'Netherlands',\n",
       " 'New Zealand',\n",
       " 'Nicaragua',\n",
       " 'Niger',\n",
       " 'Nigeria',\n",
       " 'North Macedonia',\n",
       " 'Norway',\n",
       " 'Oman',\n",
       " 'Pakistan',\n",
       " 'Panama',\n",
       " 'Papua New Guinea',\n",
       " 'Paraguay',\n",
       " 'Peru',\n",
       " 'Philippines',\n",
       " 'Poland',\n",
       " 'Portugal',\n",
       " 'Qatar',\n",
       " 'Romania',\n",
       " 'Russia',\n",
       " 'Rwanda',\n",
       " 'Saint Kitts and Nevis',\n",
       " 'Saint Lucia',\n",
       " 'Saint Vincent and the Grenadines',\n",
       " 'San Marino',\n",
       " 'Saudi Arabia',\n",
       " 'Senegal',\n",
       " 'Serbia',\n",
       " 'Seychelles',\n",
       " 'Singapore',\n",
       " 'Slovakia',\n",
       " 'Slovenia',\n",
       " 'Somalia',\n",
       " 'South Africa',\n",
       " 'SouthKorea',\n",
       " 'Spain',\n",
       " 'Sri Lanka',\n",
       " 'Sudan',\n",
       " 'Suriname',\n",
       " 'Sweden',\n",
       " 'Switzerland',\n",
       " 'Syria',\n",
       " 'Taiwan*',\n",
       " 'Tanzania',\n",
       " 'Thailand',\n",
       " 'The West Bank and Gaza',\n",
       " 'Timor-Leste',\n",
       " 'Togo',\n",
       " 'Trinidad and Tobago',\n",
       " 'Tunisia',\n",
       " 'Turkey',\n",
       " 'US',\n",
       " 'Uganda',\n",
       " 'Ukraine',\n",
       " 'United Arab Emirates',\n",
       " 'United Kingdom',\n",
       " 'Uruguay',\n",
       " 'Uzbekistan',\n",
       " 'Venezuela',\n",
       " 'Vietnam',\n",
       " 'Zambia',\n",
       " 'Zimbabwe']"
      ]
     },
     "execution_count": 33,
     "metadata": {},
     "output_type": "execute_result"
    }
   ],
   "source": [
    "countries"
   ]
  }
 ],
 "metadata": {
  "kernelspec": {
   "display_name": "Python 3",
   "language": "python",
   "name": "python3"
  },
  "language_info": {
   "codemirror_mode": {
    "name": "ipython",
    "version": 3
   },
   "file_extension": ".py",
   "mimetype": "text/x-python",
   "name": "python",
   "nbconvert_exporter": "python",
   "pygments_lexer": "ipython3",
   "version": "3.7.4"
  }
 },
 "nbformat": 4,
 "nbformat_minor": 4
}
