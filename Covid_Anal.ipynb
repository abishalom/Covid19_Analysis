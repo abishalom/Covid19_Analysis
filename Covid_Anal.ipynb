{
 "cells": [
  {
   "cell_type": "code",
   "execution_count": 1,
   "metadata": {},
   "outputs": [],
   "source": [
    "import plotly.express as px\n",
    "import numpy as np\n",
    "import pandas as pd\n",
    "# import plotly.graph_objects as go"
   ]
  },
  {
   "cell_type": "code",
   "execution_count": 2,
   "metadata": {},
   "outputs": [],
   "source": [
    "#Load initial data\n",
    "dat = pd.read_csv('Covid19_Data.csv', index_col = 0)\n",
    "dat.index = pd.to_datetime(dat.index)"
   ]
  },
  {
   "cell_type": "code",
   "execution_count": 3,
   "metadata": {},
   "outputs": [],
   "source": [
    "#Housekeeping to make into multiindex.\n",
    "col = dat.columns.str.split('_', expand=True)\n",
    "dat.columns = col\n",
    "dat.index = dat.index.rename(\"Date\")\n",
    "dat.columns = dat.columns.rename(['Country', 'Col'])\n",
    "dat = dat.stack(level=0)\n",
    "dat.index = dat.index.reorder_levels(['Country', 'Date'])"
   ]
  },
  {
   "cell_type": "code",
   "execution_count": 4,
   "metadata": {},
   "outputs": [],
   "source": [
    "def get_JHU_data(name):\n",
    "    jhu_url = 'https://raw.githubusercontent.com/CSSEGISandData/COVID-19/master/csse_covid_19_data/csse_covid_19_time_series/time_series_covid19_{}_global.csv'.format(name)\n",
    "    jhu_df = pd.read_csv(jhu_url, error_bad_lines = False)\n",
    "\n",
    "    jhu_df = jhu_df.groupby('Country/Region').sum().drop(['Lat', 'Long'], axis=1)\n",
    "    jhu_df = jhu_df.stack().rename(name.capitalize()).to_frame()\n",
    "\n",
    "    jhu_df.index = jhu_df.index.rename(['Country', 'Date'])\n",
    "    jhu_df.index = jhu_df.index.set_levels([jhu_df.index.levels[0], pd.to_datetime(jhu_df.index.levels[1])])\n",
    "\n",
    "    return jhu_df"
   ]
  },
  {
   "cell_type": "code",
   "execution_count": 5,
   "metadata": {},
   "outputs": [],
   "source": [
    "def get_us_data():\n",
    "    url = 'https://covidtracking.com/api/us/daily.csv'\n",
    "    us_df = pd.read_csv(url, index_col = 0)\n",
    "    us_df.index = pd.to_datetime(us_df.index, format = '%Y%m%d').rename('Date')\n",
    "    us_df = us_df.sort_index()\n",
    "        \n",
    "    col_map = {\n",
    "        'positive': 'Confirmed',\n",
    "        'totalTestResults': 'TotalTests',\n",
    "        'hospitalized': 'Hospitalized',\n",
    "        'death': 'Deaths'\n",
    "    }\n",
    "    \n",
    "    us_df = us_df[list(col_map.keys())].rename(mapper=  col_map, axis=1)    \n",
    "    us_df['Country'] = 'US'\n",
    "    us_df = us_df.set_index([us_df.Country, us_df.index]).drop(['Country'], axis=1)\n",
    "    \n",
    "    return us_df"
   ]
  },
  {
   "cell_type": "code",
   "execution_count": 6,
   "metadata": {},
   "outputs": [],
   "source": [
    "def get_italy_data():\n",
    "    url = 'https://raw.githubusercontent.com/pcm-dpc/COVID-19/master/dati-andamento-nazionale/dpc-covid19-ita-andamento-nazionale.csv'\n",
    "    italy_df = pd.read_csv(url, index_col = 0)\n",
    "    italy_df.index = pd.to_datetime(italy_df.index).normalize().rename('Date')\n",
    "    col_map = {\n",
    "        'dimessi_guariti': 'Recovered',\n",
    "        'totale_ospedalizzati': 'Hospitalized',\n",
    "        'isolamento_domiciliare': 'Home',\n",
    "        'tamponi': 'TotalTests',\n",
    "        'stato': 'Country',\n",
    "        'totale_casi': 'Confirmed',\n",
    "        'deceduti': 'Deaths'\n",
    "    }\n",
    "    italy_df = italy_df[list(col_map.keys())].rename(mapper =  col_map, axis=1)\n",
    "    italy_df.Country = 'Italy'\n",
    "    italy_df = italy_df.set_index([italy_df.Country, italy_df.index]).drop(['Country'], axis=1)\n",
    "\n",
    "    return italy_df"
   ]
  },
  {
   "cell_type": "code",
   "execution_count": 7,
   "metadata": {},
   "outputs": [],
   "source": [
    "def join_dfs(default, other):\n",
    "    #For joining dataframes, using one as default and filling in missing data\n",
    "    overlap = set(default.columns).intersection(set(other.columns))\n",
    "    default = pd.merge(default, other, left_index=True, right_index = True, how = 'outer', suffixes = ('', '_other'))\n",
    "    for col in overlap:\n",
    "        default[col] = default[col].combine_first(default[col + '_other'])\n",
    "    \n",
    "    default = default.drop([col + '_other' for col in overlap], axis=1)\n",
    "    \n",
    "    return default\n",
    "        "
   ]
  },
  {
   "cell_type": "code",
   "execution_count": 8,
   "metadata": {},
   "outputs": [],
   "source": [
    "def get_pop_dict():\n",
    "    pop = pd.read_csv('WPP2019_TotalPopulationBySex.csv')\n",
    "    pop = pop[pop.Time.eq(2020) & pop.Variant.eq('Medium')][['Location', 'PopTotal']].set_index('Location')\n",
    "    pop.columns = ['Population']\n",
    "    pop.loc['Diamond Princess'] = 3700\n",
    "    \n",
    "    aliases = {\n",
    "        'US': 'United States of America',\n",
    "        'Iran': 'Iran (Islamic Republic of)',\n",
    "        'Bolivia': 'Bolivia (Plurinational State of)',\n",
    "        'Brunei': 'Brunei Darussalam',\n",
    "        'Korea, South': 'Republic of Korea',\n",
    "        'Moldova': 'Republic of Moldova',\n",
    "        'Russia': 'Russian Federation',\n",
    "        \"Cote d'Ivoire\": \"Côte d'Ivoire\",\n",
    "        'Syria': 'Syrian Arab Republic',\n",
    "        'Tanzania': 'United Republic of Tanzania',\n",
    "        'West Bank and Gaza': 'State of Palestine',\n",
    "        'Venezuela': 'Venezuela (Bolivarian Republic of)',\n",
    "        'Vietnam': 'Viet Nam',\n",
    "        'Taiwan*': 'China, Taiwan Province of China',\n",
    "        'Congo (Brazzaville)': 'Congo',\n",
    "        'Congo (Kinshasa)': 'Democratic Republic of the Congo'\n",
    "    }\n",
    "    \n",
    "    aliases = {v:k for k, v in aliases.items()}\n",
    "    pop = pop.rename(mapper = aliases, axis=0) * 1000\n",
    "    return pop\n",
    "\n",
    "def merge_pop(df):\n",
    "    pop = get_pop_dict()\n",
    "    df = df.merge(pop, how = 'left', left_on = 'Country', right_index = True)\n",
    "    return df"
   ]
  },
  {
   "cell_type": "code",
   "execution_count": 9,
   "metadata": {},
   "outputs": [],
   "source": [
    "jhu_df = get_JHU_data('confirmed')\n",
    "jhu_death_df = get_JHU_data('deaths')\n",
    "jhu_df = jhu_death_df.join(jhu_df)\n",
    "jhu_death_df = None"
   ]
  },
  {
   "cell_type": "code",
   "execution_count": 10,
   "metadata": {},
   "outputs": [],
   "source": [
    "dat = join_dfs(dat, get_us_data())\n",
    "dat = join_dfs(dat, get_italy_data())\n",
    "dat = join_dfs(dat, jhu_df)\n",
    "jhu_df = None\n",
    "dat = merge_pop(dat)"
   ]
  },
  {
   "cell_type": "code",
   "execution_count": 11,
   "metadata": {},
   "outputs": [],
   "source": [
    "def get_divide_cols_fn(c1, c2, res):\n",
    "    def f(df):\n",
    "        df[res] = df[c1]/df[c2]\n",
    "        return df\n",
    "    return f\n"
   ]
  },
  {
   "cell_type": "markdown",
   "metadata": {},
   "source": [
    "## TODO:\n",
    "#### Stats to Add:\n",
    "* DONE: Death Rate\n",
    "* DONE: \n",
    "* Hospitalization Rate\n",
    "* Per capita testing (probably have to include as a separate graph bc x-axis)\n",
    "    * Need to get API for population retrieval, definitely can get this.\n",
    "\n",
    "#### Other things todo:\n",
    "* Add lockdown date in graphs (maybe a star)\n",
    "* Refresh data button? Should just run the data_clean script.\n"
   ]
  },
  {
   "cell_type": "code",
   "execution_count": 12,
   "metadata": {},
   "outputs": [],
   "source": [
    "#Tens of thousands of population\n",
    "dat['Pop10k'] = dat['Population'] / 10000\n",
    "\n",
    "#Add New Cases, New Tests\n",
    "dat['NewCases'] = dat.groupby('Country')['Confirmed'].diff()\n",
    "dat['NewTests'] = dat.groupby('Country')['TotalTests'].diff()\n",
    "dat['DaysSinceFirst'] = (dat['Confirmed'] >= 1).groupby('Country').cumsum().replace(0, np.nan) - 1\n",
    "dat['ConfirmedGrowth'] = dat.groupby('Country')['Confirmed'].pct_change() * 100.\n",
    "dat['DaysSinceTenthDeath'] = (dat['Deaths'] >= 10).groupby('Country').cumsum().replace(0, np.nan)\n",
    "# dat['DaysSinceShutdown'] = dat['Shutdown'].groupby('Country').fillna(method='ffill').groupby('Country').cumsum().replace(0, np.nan) - 1\n",
    "\n",
    "\n",
    "dat = dat.groupby('Country').apply(get_divide_cols_fn(\"NewCases\", \"NewTests\", \"DailyPosTestRate\"))\n",
    "dat = dat.groupby('Country').apply(get_divide_cols_fn(\"Confirmed\", \"TotalTests\", \"CumulativePosTestRate\"))\n",
    "dat = dat.groupby('Country').apply(get_divide_cols_fn(\"Deaths\", \"Confirmed\", \"CumulativeDeathRate\"))\n",
    "dat = dat.groupby('Country').apply(get_divide_cols_fn('Hospitalized', 'Confirmed', 'HospitalizationRate'))\n",
    "dat = dat.groupby('Country').apply(get_divide_cols_fn('TotalTests', 'Pop10k', 'TotalTestsPer10k'))"
   ]
  },
  {
   "cell_type": "code",
   "execution_count": 13,
   "metadata": {},
   "outputs": [],
   "source": [
    "dat['DaysSinceShutdown'] = np.nan\n",
    "x = (dat[dat['Shutdown'] == 1]).groupby('Country').shift(0)\n",
    "s_countries = list(x.index.get_level_values(0))\n",
    "\n",
    "for s in s_countries:\n",
    "    #Find d\n",
    "    old = x.xs(s, level=0)\n",
    "    d = (old.index[x['Shutdown'] == 1] - dat.index[0][1]).days[0]\n",
    "    new = dat.xs(s, level=0).Shutdown.shift(-d+2).fillna(1).cumsum() - (d-1)\n",
    "    dat.loc[s]['DaysSinceShutdown'] = new"
   ]
  },
  {
   "cell_type": "code",
   "execution_count": 14,
   "metadata": {},
   "outputs": [],
   "source": [
    "# dat.loc['Peru']['DaysSinceShutdown'].tail(15)\n",
    "dat = dat[dat['Confirmed'] >= 1]\n",
    "# s_countries"
   ]
  },
  {
   "cell_type": "code",
   "execution_count": 15,
   "metadata": {},
   "outputs": [],
   "source": [
    "dat.tail(10)\n",
    "\n",
    "dat = dat.set_index([dat.index, \"DaysSinceFirst\", \"DaysSinceTenthDeath\", \"DaysSinceShutdown\"\n",
    "                    ]).reorder_levels([\"Country\", \"DaysSinceFirst\", \"DaysSinceTenthDeath\", \"DaysSinceShutdown\",\n",
    "                                       \"Date\"]).sort_index()"
   ]
  },
  {
   "cell_type": "code",
   "execution_count": 16,
   "metadata": {},
   "outputs": [],
   "source": [
    "dat.tail(30)\n",
    "\n",
    "countries = list(dat.index.get_level_values(0).unique())\n",
    "stats = list(dat.columns)\n",
    "stat_map = {\n",
    "    'DailyPosTestRate': 'Daily Positive Test Rate',\n",
    "    'Confirmed': 'Confirmed Tests',\n",
    "    'NewTests': 'Daily New Tests',\n",
    "    'CumulativePosTestRate': 'Cumulative Positive Test Rate',\n",
    "    'NewCases': 'New Cases',\n",
    "    'TotalTests': 'Total Tests',\n",
    "    'ConfirmedGrowth': 'Daily Confirmed Cases Growth (%)',\n",
    "    'CumulativeDeathRate': 'Cumulative Death Rate',\n",
    "    'HospitalizationRate': 'Hospitalization Rate',\n",
    "    'TotalTestsPer10k': 'Total Tests per 10k Population'\n",
    "}\n",
    "\n",
    "xs = ['DaysSinceFirst', 'Date', 'DaysSinceTenthDeath', 'DaysSinceShutdown']\n",
    "xs_map = {'DaysSinceFirst': 'Days Since First Confirmed',\n",
    "         'DaysSinceTenthDeath': 'Days Since 10th Death',\n",
    "         'DaysSinceShutdown': 'Days Since Economic Shutdown'}\n"
   ]
  },
  {
   "cell_type": "markdown",
   "metadata": {},
   "source": [
    "# Important Dates by Country:\n",
    "\n",
    "### Peru\n",
    "- Sourhces: ministerio de salud, wikipedia page\n",
    "* March 11 - Declaran emergencia sanitaria por 90 dias\n",
    "* March 13 - Suspenden vuelos internacional desde Europa y Asia\n",
    "* March 16 - Teletrabajo para todos menos los esenciales\n",
    "* March 17 - Cierran fronteras\n",
    "* March 18 - Cuarentena general entre 8PM y 5 AM.\n",
    "* https://www.dge.gob.pe/portal/\n",
    "\n",
    "### Panama\n",
    "* Something\n",
    "\n",
    "### Guatemala\n",
    "- Source: Alejandro Giammattei twitter\n",
    "* March 22 - Cuarentena general entre 4 PM y 4 AM por 8 dias"
   ]
  },
  {
   "cell_type": "code",
   "execution_count": 17,
   "metadata": {},
   "outputs": [],
   "source": [
    "def make_graph(count_to_plot, stat_to_plot, x_axis, plot_style = 0, m=None):\n",
    "    to_add = ['Date'] if x_axis != 'Date' else []\n",
    "    to_plot = dat.reset_index()\n",
    "    to_plot = to_plot[to_plot.Country.isin(count_to_plot)][['Country'] + [stat_to_plot] + [x_axis] + ['Shutdown']+to_add ]\n",
    "    if x_axis != 'Date':\n",
    "        to_plot['Date'] = to_plot['Date'].dt.strftime('%b %d, %Y')\n",
    "#     to_plot.Shutdown = to_plot.Shutdown.fillna(method  = 'ffill')\n",
    "    to_plot.Shutdown = to_plot.Shutdown.fillna(value = 0)\n",
    "    \n",
    "#     to_plot = to_plot.dropna(axis=0, how = 'any')\n",
    "    print(to_plot.head())\n",
    "\n",
    "    \n",
    "    if plot_style == 0:\n",
    "        fig = px.scatter(to_plot, \n",
    "                         x = to_plot[x_axis], \n",
    "                         y = to_plot[stat_to_plot], \n",
    "                         color = to_plot.Country,\n",
    "                         hover_data = ['Date'] if x_axis != 'Date' else [],\n",
    "#                          symbol = 'Shutdown',\n",
    "#                          symbol_map = {1: 'star', 0:'circle'},\n",
    "                         title = '{} by Country'.format(stat_map.get(stat_to_plot, stat_to_plot)))\n",
    "    elif plot_style == 1:\n",
    "        fig = px.bar(to_plot, \n",
    "                         x = to_plot[x_axis], \n",
    "                         y = to_plot[stat_to_plot], \n",
    "                         color = to_plot.Country,\n",
    "                         barmode = 'group',\n",
    "                         hover_data = ['Date'] if x_axis != 'Date' else [],\n",
    "                         title = '{} by Country'.format(stat_map.get(stat_to_plot, stat_to_plot)))\n",
    "    elif plot_style == 2:\n",
    "        fig = px.line(to_plot, \n",
    "                         x = to_plot[x_axis], \n",
    "                         y = to_plot[stat_to_plot], \n",
    "                         color = to_plot.Country,\n",
    "                         hover_data = ['Date'] if x_axis != 'Date' else [],\n",
    "                         title = '{} by Country'.format(stat_map.get(stat_to_plot, stat_to_plot)))\n",
    "#     fig.add_trace(tr)\n",
    "    \n",
    "#     fig.update_xaxes(title = 'Days Since First Confirmed Test')\n",
    "    fig.update_xaxes(title = xs_map.get(x_axis, x_axis))\n",
    "    fig.update_yaxes(title = stat_to_plot)\n",
    "    \n",
    "#     for trace in fig.data:\n",
    "#         trace.name = trace.name.split(',')[0]\n",
    "    \n",
    "    if m is not None:\n",
    "        x_lim = to_plot.reset_index().groupby('Country')[x_axis].max().min() * m\n",
    "        y_lim = to_plot.reset_index().groupby('Country')[stat_to_plot].max().min() * m\n",
    "        fig.update_xaxes(range = [0, x_lim])\n",
    "        fig.update_yaxes(range = [0, y_lim])\n",
    "        \n",
    "    return fig\n",
    "\n"
   ]
  },
  {
   "cell_type": "code",
   "execution_count": 19,
   "metadata": {},
   "outputs": [
    {
     "name": "stdout",
     "output_type": "stream",
     "text": [
      "     Country  Confirmed  DaysSinceShutdown  Shutdown          Date\n",
      "2964  Panama        1.0               -8.0       0.0  Mar 09, 2020\n",
      "2965  Panama        8.0               -7.0       0.0  Mar 10, 2020\n",
      "2966  Panama       14.0               -6.0       0.0  Mar 11, 2020\n",
      "2967  Panama       27.0               -5.0       0.0  Mar 12, 2020\n",
      "2968  Panama       36.0               -4.0       0.0  Mar 13, 2020\n"
     ]
    },
    {
     "data": {
      "application/vnd.plotly.v1+json": {
       "config": {
        "plotlyServerURL": "https://plot.ly"
       },
       "data": [
        {
         "customdata": [
          [
           "Mar 09, 2020"
          ],
          [
           "Mar 10, 2020"
          ],
          [
           "Mar 11, 2020"
          ],
          [
           "Mar 12, 2020"
          ],
          [
           "Mar 13, 2020"
          ],
          [
           "Mar 14, 2020"
          ],
          [
           "Mar 15, 2020"
          ],
          [
           "Mar 16, 2020"
          ],
          [
           "Mar 17, 2020"
          ],
          [
           "Mar 18, 2020"
          ],
          [
           "Mar 19, 2020"
          ],
          [
           "Mar 20, 2020"
          ],
          [
           "Mar 21, 2020"
          ],
          [
           "Mar 22, 2020"
          ],
          [
           "Mar 23, 2020"
          ],
          [
           "Mar 24, 2020"
          ],
          [
           "Mar 25, 2020"
          ],
          [
           "Mar 26, 2020"
          ]
         ],
         "hoverlabel": {
          "namelength": 0
         },
         "hovertemplate": "Country=Panama<br>DaysSinceShutdown=%{x}<br>Confirmed=%{y}<br>Date=%{customdata[0]}",
         "legendgroup": "Panama",
         "marker": {
          "color": "#636efa",
          "symbol": "circle"
         },
         "mode": "markers",
         "name": "Panama",
         "showlegend": true,
         "type": "scatter",
         "x": [
          -8,
          -7,
          -6,
          -5,
          -4,
          -3,
          -2,
          -1,
          0,
          1,
          2,
          3,
          4,
          5,
          6,
          7,
          8,
          9
         ],
         "xaxis": "x",
         "y": [
          1,
          8,
          14,
          27,
          36,
          43,
          55,
          69,
          86,
          109,
          137,
          200,
          245,
          313,
          345,
          443,
          558,
          674
         ],
         "yaxis": "y"
        }
       ],
       "layout": {
        "autosize": true,
        "legend": {
         "title": {
          "text": "Country"
         },
         "tracegroupgap": 0
        },
        "template": {
         "data": {
          "bar": [
           {
            "error_x": {
             "color": "#2a3f5f"
            },
            "error_y": {
             "color": "#2a3f5f"
            },
            "marker": {
             "line": {
              "color": "#E5ECF6",
              "width": 0.5
             }
            },
            "type": "bar"
           }
          ],
          "barpolar": [
           {
            "marker": {
             "line": {
              "color": "#E5ECF6",
              "width": 0.5
             }
            },
            "type": "barpolar"
           }
          ],
          "carpet": [
           {
            "aaxis": {
             "endlinecolor": "#2a3f5f",
             "gridcolor": "white",
             "linecolor": "white",
             "minorgridcolor": "white",
             "startlinecolor": "#2a3f5f"
            },
            "baxis": {
             "endlinecolor": "#2a3f5f",
             "gridcolor": "white",
             "linecolor": "white",
             "minorgridcolor": "white",
             "startlinecolor": "#2a3f5f"
            },
            "type": "carpet"
           }
          ],
          "choropleth": [
           {
            "colorbar": {
             "outlinewidth": 0,
             "ticks": ""
            },
            "type": "choropleth"
           }
          ],
          "contour": [
           {
            "colorbar": {
             "outlinewidth": 0,
             "ticks": ""
            },
            "colorscale": [
             [
              0,
              "#0d0887"
             ],
             [
              0.1111111111111111,
              "#46039f"
             ],
             [
              0.2222222222222222,
              "#7201a8"
             ],
             [
              0.3333333333333333,
              "#9c179e"
             ],
             [
              0.4444444444444444,
              "#bd3786"
             ],
             [
              0.5555555555555556,
              "#d8576b"
             ],
             [
              0.6666666666666666,
              "#ed7953"
             ],
             [
              0.7777777777777778,
              "#fb9f3a"
             ],
             [
              0.8888888888888888,
              "#fdca26"
             ],
             [
              1,
              "#f0f921"
             ]
            ],
            "type": "contour"
           }
          ],
          "contourcarpet": [
           {
            "colorbar": {
             "outlinewidth": 0,
             "ticks": ""
            },
            "type": "contourcarpet"
           }
          ],
          "heatmap": [
           {
            "colorbar": {
             "outlinewidth": 0,
             "ticks": ""
            },
            "colorscale": [
             [
              0,
              "#0d0887"
             ],
             [
              0.1111111111111111,
              "#46039f"
             ],
             [
              0.2222222222222222,
              "#7201a8"
             ],
             [
              0.3333333333333333,
              "#9c179e"
             ],
             [
              0.4444444444444444,
              "#bd3786"
             ],
             [
              0.5555555555555556,
              "#d8576b"
             ],
             [
              0.6666666666666666,
              "#ed7953"
             ],
             [
              0.7777777777777778,
              "#fb9f3a"
             ],
             [
              0.8888888888888888,
              "#fdca26"
             ],
             [
              1,
              "#f0f921"
             ]
            ],
            "type": "heatmap"
           }
          ],
          "heatmapgl": [
           {
            "colorbar": {
             "outlinewidth": 0,
             "ticks": ""
            },
            "colorscale": [
             [
              0,
              "#0d0887"
             ],
             [
              0.1111111111111111,
              "#46039f"
             ],
             [
              0.2222222222222222,
              "#7201a8"
             ],
             [
              0.3333333333333333,
              "#9c179e"
             ],
             [
              0.4444444444444444,
              "#bd3786"
             ],
             [
              0.5555555555555556,
              "#d8576b"
             ],
             [
              0.6666666666666666,
              "#ed7953"
             ],
             [
              0.7777777777777778,
              "#fb9f3a"
             ],
             [
              0.8888888888888888,
              "#fdca26"
             ],
             [
              1,
              "#f0f921"
             ]
            ],
            "type": "heatmapgl"
           }
          ],
          "histogram": [
           {
            "marker": {
             "colorbar": {
              "outlinewidth": 0,
              "ticks": ""
             }
            },
            "type": "histogram"
           }
          ],
          "histogram2d": [
           {
            "colorbar": {
             "outlinewidth": 0,
             "ticks": ""
            },
            "colorscale": [
             [
              0,
              "#0d0887"
             ],
             [
              0.1111111111111111,
              "#46039f"
             ],
             [
              0.2222222222222222,
              "#7201a8"
             ],
             [
              0.3333333333333333,
              "#9c179e"
             ],
             [
              0.4444444444444444,
              "#bd3786"
             ],
             [
              0.5555555555555556,
              "#d8576b"
             ],
             [
              0.6666666666666666,
              "#ed7953"
             ],
             [
              0.7777777777777778,
              "#fb9f3a"
             ],
             [
              0.8888888888888888,
              "#fdca26"
             ],
             [
              1,
              "#f0f921"
             ]
            ],
            "type": "histogram2d"
           }
          ],
          "histogram2dcontour": [
           {
            "colorbar": {
             "outlinewidth": 0,
             "ticks": ""
            },
            "colorscale": [
             [
              0,
              "#0d0887"
             ],
             [
              0.1111111111111111,
              "#46039f"
             ],
             [
              0.2222222222222222,
              "#7201a8"
             ],
             [
              0.3333333333333333,
              "#9c179e"
             ],
             [
              0.4444444444444444,
              "#bd3786"
             ],
             [
              0.5555555555555556,
              "#d8576b"
             ],
             [
              0.6666666666666666,
              "#ed7953"
             ],
             [
              0.7777777777777778,
              "#fb9f3a"
             ],
             [
              0.8888888888888888,
              "#fdca26"
             ],
             [
              1,
              "#f0f921"
             ]
            ],
            "type": "histogram2dcontour"
           }
          ],
          "mesh3d": [
           {
            "colorbar": {
             "outlinewidth": 0,
             "ticks": ""
            },
            "type": "mesh3d"
           }
          ],
          "parcoords": [
           {
            "line": {
             "colorbar": {
              "outlinewidth": 0,
              "ticks": ""
             }
            },
            "type": "parcoords"
           }
          ],
          "pie": [
           {
            "automargin": true,
            "type": "pie"
           }
          ],
          "scatter": [
           {
            "marker": {
             "colorbar": {
              "outlinewidth": 0,
              "ticks": ""
             }
            },
            "type": "scatter"
           }
          ],
          "scatter3d": [
           {
            "line": {
             "colorbar": {
              "outlinewidth": 0,
              "ticks": ""
             }
            },
            "marker": {
             "colorbar": {
              "outlinewidth": 0,
              "ticks": ""
             }
            },
            "type": "scatter3d"
           }
          ],
          "scattercarpet": [
           {
            "marker": {
             "colorbar": {
              "outlinewidth": 0,
              "ticks": ""
             }
            },
            "type": "scattercarpet"
           }
          ],
          "scattergeo": [
           {
            "marker": {
             "colorbar": {
              "outlinewidth": 0,
              "ticks": ""
             }
            },
            "type": "scattergeo"
           }
          ],
          "scattergl": [
           {
            "marker": {
             "colorbar": {
              "outlinewidth": 0,
              "ticks": ""
             }
            },
            "type": "scattergl"
           }
          ],
          "scattermapbox": [
           {
            "marker": {
             "colorbar": {
              "outlinewidth": 0,
              "ticks": ""
             }
            },
            "type": "scattermapbox"
           }
          ],
          "scatterpolar": [
           {
            "marker": {
             "colorbar": {
              "outlinewidth": 0,
              "ticks": ""
             }
            },
            "type": "scatterpolar"
           }
          ],
          "scatterpolargl": [
           {
            "marker": {
             "colorbar": {
              "outlinewidth": 0,
              "ticks": ""
             }
            },
            "type": "scatterpolargl"
           }
          ],
          "scatterternary": [
           {
            "marker": {
             "colorbar": {
              "outlinewidth": 0,
              "ticks": ""
             }
            },
            "type": "scatterternary"
           }
          ],
          "surface": [
           {
            "colorbar": {
             "outlinewidth": 0,
             "ticks": ""
            },
            "colorscale": [
             [
              0,
              "#0d0887"
             ],
             [
              0.1111111111111111,
              "#46039f"
             ],
             [
              0.2222222222222222,
              "#7201a8"
             ],
             [
              0.3333333333333333,
              "#9c179e"
             ],
             [
              0.4444444444444444,
              "#bd3786"
             ],
             [
              0.5555555555555556,
              "#d8576b"
             ],
             [
              0.6666666666666666,
              "#ed7953"
             ],
             [
              0.7777777777777778,
              "#fb9f3a"
             ],
             [
              0.8888888888888888,
              "#fdca26"
             ],
             [
              1,
              "#f0f921"
             ]
            ],
            "type": "surface"
           }
          ],
          "table": [
           {
            "cells": {
             "fill": {
              "color": "#EBF0F8"
             },
             "line": {
              "color": "white"
             }
            },
            "header": {
             "fill": {
              "color": "#C8D4E3"
             },
             "line": {
              "color": "white"
             }
            },
            "type": "table"
           }
          ]
         },
         "layout": {
          "annotationdefaults": {
           "arrowcolor": "#2a3f5f",
           "arrowhead": 0,
           "arrowwidth": 1
          },
          "coloraxis": {
           "colorbar": {
            "outlinewidth": 0,
            "ticks": ""
           }
          },
          "colorscale": {
           "diverging": [
            [
             0,
             "#8e0152"
            ],
            [
             0.1,
             "#c51b7d"
            ],
            [
             0.2,
             "#de77ae"
            ],
            [
             0.3,
             "#f1b6da"
            ],
            [
             0.4,
             "#fde0ef"
            ],
            [
             0.5,
             "#f7f7f7"
            ],
            [
             0.6,
             "#e6f5d0"
            ],
            [
             0.7,
             "#b8e186"
            ],
            [
             0.8,
             "#7fbc41"
            ],
            [
             0.9,
             "#4d9221"
            ],
            [
             1,
             "#276419"
            ]
           ],
           "sequential": [
            [
             0,
             "#0d0887"
            ],
            [
             0.1111111111111111,
             "#46039f"
            ],
            [
             0.2222222222222222,
             "#7201a8"
            ],
            [
             0.3333333333333333,
             "#9c179e"
            ],
            [
             0.4444444444444444,
             "#bd3786"
            ],
            [
             0.5555555555555556,
             "#d8576b"
            ],
            [
             0.6666666666666666,
             "#ed7953"
            ],
            [
             0.7777777777777778,
             "#fb9f3a"
            ],
            [
             0.8888888888888888,
             "#fdca26"
            ],
            [
             1,
             "#f0f921"
            ]
           ],
           "sequentialminus": [
            [
             0,
             "#0d0887"
            ],
            [
             0.1111111111111111,
             "#46039f"
            ],
            [
             0.2222222222222222,
             "#7201a8"
            ],
            [
             0.3333333333333333,
             "#9c179e"
            ],
            [
             0.4444444444444444,
             "#bd3786"
            ],
            [
             0.5555555555555556,
             "#d8576b"
            ],
            [
             0.6666666666666666,
             "#ed7953"
            ],
            [
             0.7777777777777778,
             "#fb9f3a"
            ],
            [
             0.8888888888888888,
             "#fdca26"
            ],
            [
             1,
             "#f0f921"
            ]
           ]
          },
          "colorway": [
           "#636efa",
           "#EF553B",
           "#00cc96",
           "#ab63fa",
           "#FFA15A",
           "#19d3f3",
           "#FF6692",
           "#B6E880",
           "#FF97FF",
           "#FECB52"
          ],
          "font": {
           "color": "#2a3f5f"
          },
          "geo": {
           "bgcolor": "white",
           "lakecolor": "white",
           "landcolor": "#E5ECF6",
           "showlakes": true,
           "showland": true,
           "subunitcolor": "white"
          },
          "hoverlabel": {
           "align": "left"
          },
          "hovermode": "closest",
          "mapbox": {
           "style": "light"
          },
          "paper_bgcolor": "white",
          "plot_bgcolor": "#E5ECF6",
          "polar": {
           "angularaxis": {
            "gridcolor": "white",
            "linecolor": "white",
            "ticks": ""
           },
           "bgcolor": "#E5ECF6",
           "radialaxis": {
            "gridcolor": "white",
            "linecolor": "white",
            "ticks": ""
           }
          },
          "scene": {
           "xaxis": {
            "backgroundcolor": "#E5ECF6",
            "gridcolor": "white",
            "gridwidth": 2,
            "linecolor": "white",
            "showbackground": true,
            "ticks": "",
            "zerolinecolor": "white"
           },
           "yaxis": {
            "backgroundcolor": "#E5ECF6",
            "gridcolor": "white",
            "gridwidth": 2,
            "linecolor": "white",
            "showbackground": true,
            "ticks": "",
            "zerolinecolor": "white"
           },
           "zaxis": {
            "backgroundcolor": "#E5ECF6",
            "gridcolor": "white",
            "gridwidth": 2,
            "linecolor": "white",
            "showbackground": true,
            "ticks": "",
            "zerolinecolor": "white"
           }
          },
          "shapedefaults": {
           "line": {
            "color": "#2a3f5f"
           }
          },
          "ternary": {
           "aaxis": {
            "gridcolor": "white",
            "linecolor": "white",
            "ticks": ""
           },
           "baxis": {
            "gridcolor": "white",
            "linecolor": "white",
            "ticks": ""
           },
           "bgcolor": "#E5ECF6",
           "caxis": {
            "gridcolor": "white",
            "linecolor": "white",
            "ticks": ""
           }
          },
          "title": {
           "x": 0.05
          },
          "xaxis": {
           "automargin": true,
           "gridcolor": "white",
           "linecolor": "white",
           "ticks": "",
           "title": {
            "standoff": 15
           },
           "zerolinecolor": "white",
           "zerolinewidth": 2
          },
          "yaxis": {
           "automargin": true,
           "gridcolor": "white",
           "linecolor": "white",
           "ticks": "",
           "title": {
            "standoff": 15
           },
           "zerolinecolor": "white",
           "zerolinewidth": 2
          }
         }
        },
        "title": {
         "text": "Confirmed Tests by Country"
        },
        "xaxis": {
         "anchor": "y",
         "autorange": true,
         "domain": [
          0,
          1
         ],
         "range": [
          -9.065032345931222,
          10.065032345931222
         ],
         "title": {
          "text": "Days Since Economic Shutdown"
         },
         "type": "linear"
        },
        "yaxis": {
         "anchor": "x",
         "autorange": true,
         "domain": [
          0,
          1
         ],
         "range": [
          -48.296178343949045,
          723.296178343949
         ],
         "title": {
          "text": "Confirmed"
         },
         "type": "linear"
        }
       }
      },
      "image/png": "[encoded data removed]",
      "text/html": [
       "<div>\n",
       "        \n",
       "        \n",
       "            <div id=\"241366ba-2e5c-4d0a-8116-208a8aef7e5d\" class=\"plotly-graph-div\" style=\"height:525px; width:100%;\"></div>\n",
       "            <script type=\"text/javascript\">\n",
       "                require([\"plotly\"], function(Plotly) {\n",
       "                    window.PLOTLYENV=window.PLOTLYENV || {};\n",
       "                    \n",
       "                if (document.getElementById(\"241366ba-2e5c-4d0a-8116-208a8aef7e5d\")) {\n",
       "                    Plotly.newPlot(\n",
       "                        '241366ba-2e5c-4d0a-8116-208a8aef7e5d',\n",
       "                        [{\"customdata\": [[\"Mar 09, 2020\"], [\"Mar 10, 2020\"], [\"Mar 11, 2020\"], [\"Mar 12, 2020\"], [\"Mar 13, 2020\"], [\"Mar 14, 2020\"], [\"Mar 15, 2020\"], [\"Mar 16, 2020\"], [\"Mar 17, 2020\"], [\"Mar 18, 2020\"], [\"Mar 19, 2020\"], [\"Mar 20, 2020\"], [\"Mar 21, 2020\"], [\"Mar 22, 2020\"], [\"Mar 23, 2020\"], [\"Mar 24, 2020\"], [\"Mar 25, 2020\"], [\"Mar 26, 2020\"]], \"hoverlabel\": {\"namelength\": 0}, \"hovertemplate\": \"Country=Panama<br>DaysSinceShutdown=%{x}<br>Confirmed=%{y}<br>Date=%{customdata[0]}\", \"legendgroup\": \"Panama\", \"marker\": {\"color\": \"#636efa\", \"symbol\": \"circle\"}, \"mode\": \"markers\", \"name\": \"Panama\", \"showlegend\": true, \"type\": \"scatter\", \"x\": [-8.0, -7.0, -6.0, -5.0, -4.0, -3.0, -2.0, -1.0, 0.0, 1.0, 2.0, 3.0, 4.0, 5.0, 6.0, 7.0, 8.0, 9.0], \"xaxis\": \"x\", \"y\": [1.0, 8.0, 14.0, 27.0, 36.0, 43.0, 55.0, 69.0, 86.0, 109.0, 137.0, 200.0, 245.0, 313.0, 345.0, 443.0, 558.0, 674.0], \"yaxis\": \"y\"}],\n",
       "                        {\"legend\": {\"title\": {\"text\": \"Country\"}, \"tracegroupgap\": 0}, \"template\": {\"data\": {\"bar\": [{\"error_x\": {\"color\": \"#2a3f5f\"}, \"error_y\": {\"color\": \"#2a3f5f\"}, \"marker\": {\"line\": {\"color\": \"#E5ECF6\", \"width\": 0.5}}, \"type\": \"bar\"}], \"barpolar\": [{\"marker\": {\"line\": {\"color\": \"#E5ECF6\", \"width\": 0.5}}, \"type\": \"barpolar\"}], \"carpet\": [{\"aaxis\": {\"endlinecolor\": \"#2a3f5f\", \"gridcolor\": \"white\", \"linecolor\": \"white\", \"minorgridcolor\": \"white\", \"startlinecolor\": \"#2a3f5f\"}, \"baxis\": {\"endlinecolor\": \"#2a3f5f\", \"gridcolor\": \"white\", \"linecolor\": \"white\", \"minorgridcolor\": \"white\", \"startlinecolor\": \"#2a3f5f\"}, \"type\": \"carpet\"}], \"choropleth\": [{\"colorbar\": {\"outlinewidth\": 0, \"ticks\": \"\"}, \"type\": \"choropleth\"}], \"contour\": [{\"colorbar\": {\"outlinewidth\": 0, \"ticks\": \"\"}, \"colorscale\": [[0.0, \"#0d0887\"], [0.1111111111111111, \"#46039f\"], [0.2222222222222222, \"#7201a8\"], [0.3333333333333333, \"#9c179e\"], [0.4444444444444444, \"#bd3786\"], [0.5555555555555556, \"#d8576b\"], [0.6666666666666666, \"#ed7953\"], [0.7777777777777778, \"#fb9f3a\"], [0.8888888888888888, \"#fdca26\"], [1.0, \"#f0f921\"]], \"type\": \"contour\"}], \"contourcarpet\": [{\"colorbar\": {\"outlinewidth\": 0, \"ticks\": \"\"}, \"type\": \"contourcarpet\"}], \"heatmap\": [{\"colorbar\": {\"outlinewidth\": 0, \"ticks\": \"\"}, \"colorscale\": [[0.0, \"#0d0887\"], [0.1111111111111111, \"#46039f\"], [0.2222222222222222, \"#7201a8\"], [0.3333333333333333, \"#9c179e\"], [0.4444444444444444, \"#bd3786\"], [0.5555555555555556, \"#d8576b\"], [0.6666666666666666, \"#ed7953\"], [0.7777777777777778, \"#fb9f3a\"], [0.8888888888888888, \"#fdca26\"], [1.0, \"#f0f921\"]], \"type\": \"heatmap\"}], \"heatmapgl\": [{\"colorbar\": {\"outlinewidth\": 0, \"ticks\": \"\"}, \"colorscale\": [[0.0, \"#0d0887\"], [0.1111111111111111, \"#46039f\"], [0.2222222222222222, \"#7201a8\"], [0.3333333333333333, \"#9c179e\"], [0.4444444444444444, \"#bd3786\"], [0.5555555555555556, \"#d8576b\"], [0.6666666666666666, \"#ed7953\"], [0.7777777777777778, \"#fb9f3a\"], [0.8888888888888888, \"#fdca26\"], [1.0, \"#f0f921\"]], \"type\": \"heatmapgl\"}], \"histogram\": [{\"marker\": {\"colorbar\": {\"outlinewidth\": 0, \"ticks\": \"\"}}, \"type\": \"histogram\"}], \"histogram2d\": [{\"colorbar\": {\"outlinewidth\": 0, \"ticks\": \"\"}, \"colorscale\": [[0.0, \"#0d0887\"], [0.1111111111111111, \"#46039f\"], [0.2222222222222222, \"#7201a8\"], [0.3333333333333333, \"#9c179e\"], [0.4444444444444444, \"#bd3786\"], [0.5555555555555556, \"#d8576b\"], [0.6666666666666666, \"#ed7953\"], [0.7777777777777778, \"#fb9f3a\"], [0.8888888888888888, \"#fdca26\"], [1.0, \"#f0f921\"]], \"type\": \"histogram2d\"}], \"histogram2dcontour\": [{\"colorbar\": {\"outlinewidth\": 0, \"ticks\": \"\"}, \"colorscale\": [[0.0, \"#0d0887\"], [0.1111111111111111, \"#46039f\"], [0.2222222222222222, \"#7201a8\"], [0.3333333333333333, \"#9c179e\"], [0.4444444444444444, \"#bd3786\"], [0.5555555555555556, \"#d8576b\"], [0.6666666666666666, \"#ed7953\"], [0.7777777777777778, \"#fb9f3a\"], [0.8888888888888888, \"#fdca26\"], [1.0, \"#f0f921\"]], \"type\": \"histogram2dcontour\"}], \"mesh3d\": [{\"colorbar\": {\"outlinewidth\": 0, \"ticks\": \"\"}, \"type\": \"mesh3d\"}], \"parcoords\": [{\"line\": {\"colorbar\": {\"outlinewidth\": 0, \"ticks\": \"\"}}, \"type\": \"parcoords\"}], \"pie\": [{\"automargin\": true, \"type\": \"pie\"}], \"scatter\": [{\"marker\": {\"colorbar\": {\"outlinewidth\": 0, \"ticks\": \"\"}}, \"type\": \"scatter\"}], \"scatter3d\": [{\"line\": {\"colorbar\": {\"outlinewidth\": 0, \"ticks\": \"\"}}, \"marker\": {\"colorbar\": {\"outlinewidth\": 0, \"ticks\": \"\"}}, \"type\": \"scatter3d\"}], \"scattercarpet\": [{\"marker\": {\"colorbar\": {\"outlinewidth\": 0, \"ticks\": \"\"}}, \"type\": \"scattercarpet\"}], \"scattergeo\": [{\"marker\": {\"colorbar\": {\"outlinewidth\": 0, \"ticks\": \"\"}}, \"type\": \"scattergeo\"}], \"scattergl\": [{\"marker\": {\"colorbar\": {\"outlinewidth\": 0, \"ticks\": \"\"}}, \"type\": \"scattergl\"}], \"scattermapbox\": [{\"marker\": {\"colorbar\": {\"outlinewidth\": 0, \"ticks\": \"\"}}, \"type\": \"scattermapbox\"}], \"scatterpolar\": [{\"marker\": {\"colorbar\": {\"outlinewidth\": 0, \"ticks\": \"\"}}, \"type\": \"scatterpolar\"}], \"scatterpolargl\": [{\"marker\": {\"colorbar\": {\"outlinewidth\": 0, \"ticks\": \"\"}}, \"type\": \"scatterpolargl\"}], \"scatterternary\": [{\"marker\": {\"colorbar\": {\"outlinewidth\": 0, \"ticks\": \"\"}}, \"type\": \"scatterternary\"}], \"surface\": [{\"colorbar\": {\"outlinewidth\": 0, \"ticks\": \"\"}, \"colorscale\": [[0.0, \"#0d0887\"], [0.1111111111111111, \"#46039f\"], [0.2222222222222222, \"#7201a8\"], [0.3333333333333333, \"#9c179e\"], [0.4444444444444444, \"#bd3786\"], [0.5555555555555556, \"#d8576b\"], [0.6666666666666666, \"#ed7953\"], [0.7777777777777778, \"#fb9f3a\"], [0.8888888888888888, \"#fdca26\"], [1.0, \"#f0f921\"]], \"type\": \"surface\"}], \"table\": [{\"cells\": {\"fill\": {\"color\": \"#EBF0F8\"}, \"line\": {\"color\": \"white\"}}, \"header\": {\"fill\": {\"color\": \"#C8D4E3\"}, \"line\": {\"color\": \"white\"}}, \"type\": \"table\"}]}, \"layout\": {\"annotationdefaults\": {\"arrowcolor\": \"#2a3f5f\", \"arrowhead\": 0, \"arrowwidth\": 1}, \"coloraxis\": {\"colorbar\": {\"outlinewidth\": 0, \"ticks\": \"\"}}, \"colorscale\": {\"diverging\": [[0, \"#8e0152\"], [0.1, \"#c51b7d\"], [0.2, \"#de77ae\"], [0.3, \"#f1b6da\"], [0.4, \"#fde0ef\"], [0.5, \"#f7f7f7\"], [0.6, \"#e6f5d0\"], [0.7, \"#b8e186\"], [0.8, \"#7fbc41\"], [0.9, \"#4d9221\"], [1, \"#276419\"]], \"sequential\": [[0.0, \"#0d0887\"], [0.1111111111111111, \"#46039f\"], [0.2222222222222222, \"#7201a8\"], [0.3333333333333333, \"#9c179e\"], [0.4444444444444444, \"#bd3786\"], [0.5555555555555556, \"#d8576b\"], [0.6666666666666666, \"#ed7953\"], [0.7777777777777778, \"#fb9f3a\"], [0.8888888888888888, \"#fdca26\"], [1.0, \"#f0f921\"]], \"sequentialminus\": [[0.0, \"#0d0887\"], [0.1111111111111111, \"#46039f\"], [0.2222222222222222, \"#7201a8\"], [0.3333333333333333, \"#9c179e\"], [0.4444444444444444, \"#bd3786\"], [0.5555555555555556, \"#d8576b\"], [0.6666666666666666, \"#ed7953\"], [0.7777777777777778, \"#fb9f3a\"], [0.8888888888888888, \"#fdca26\"], [1.0, \"#f0f921\"]]}, \"colorway\": [\"#636efa\", \"#EF553B\", \"#00cc96\", \"#ab63fa\", \"#FFA15A\", \"#19d3f3\", \"#FF6692\", \"#B6E880\", \"#FF97FF\", \"#FECB52\"], \"font\": {\"color\": \"#2a3f5f\"}, \"geo\": {\"bgcolor\": \"white\", \"lakecolor\": \"white\", \"landcolor\": \"#E5ECF6\", \"showlakes\": true, \"showland\": true, \"subunitcolor\": \"white\"}, \"hoverlabel\": {\"align\": \"left\"}, \"hovermode\": \"closest\", \"mapbox\": {\"style\": \"light\"}, \"paper_bgcolor\": \"white\", \"plot_bgcolor\": \"#E5ECF6\", \"polar\": {\"angularaxis\": {\"gridcolor\": \"white\", \"linecolor\": \"white\", \"ticks\": \"\"}, \"bgcolor\": \"#E5ECF6\", \"radialaxis\": {\"gridcolor\": \"white\", \"linecolor\": \"white\", \"ticks\": \"\"}}, \"scene\": {\"xaxis\": {\"backgroundcolor\": \"#E5ECF6\", \"gridcolor\": \"white\", \"gridwidth\": 2, \"linecolor\": \"white\", \"showbackground\": true, \"ticks\": \"\", \"zerolinecolor\": \"white\"}, \"yaxis\": {\"backgroundcolor\": \"#E5ECF6\", \"gridcolor\": \"white\", \"gridwidth\": 2, \"linecolor\": \"white\", \"showbackground\": true, \"ticks\": \"\", \"zerolinecolor\": \"white\"}, \"zaxis\": {\"backgroundcolor\": \"#E5ECF6\", \"gridcolor\": \"white\", \"gridwidth\": 2, \"linecolor\": \"white\", \"showbackground\": true, \"ticks\": \"\", \"zerolinecolor\": \"white\"}}, \"shapedefaults\": {\"line\": {\"color\": \"#2a3f5f\"}}, \"ternary\": {\"aaxis\": {\"gridcolor\": \"white\", \"linecolor\": \"white\", \"ticks\": \"\"}, \"baxis\": {\"gridcolor\": \"white\", \"linecolor\": \"white\", \"ticks\": \"\"}, \"bgcolor\": \"#E5ECF6\", \"caxis\": {\"gridcolor\": \"white\", \"linecolor\": \"white\", \"ticks\": \"\"}}, \"title\": {\"x\": 0.05}, \"xaxis\": {\"automargin\": true, \"gridcolor\": \"white\", \"linecolor\": \"white\", \"ticks\": \"\", \"title\": {\"standoff\": 15}, \"zerolinecolor\": \"white\", \"zerolinewidth\": 2}, \"yaxis\": {\"automargin\": true, \"gridcolor\": \"white\", \"linecolor\": \"white\", \"ticks\": \"\", \"title\": {\"standoff\": 15}, \"zerolinecolor\": \"white\", \"zerolinewidth\": 2}}}, \"title\": {\"text\": \"Confirmed Tests by Country\"}, \"xaxis\": {\"anchor\": \"y\", \"domain\": [0.0, 1.0], \"title\": {\"text\": \"Days Since Economic Shutdown\"}}, \"yaxis\": {\"anchor\": \"x\", \"domain\": [0.0, 1.0], \"title\": {\"text\": \"Confirmed\"}}},\n",
       "                        {\"responsive\": true}\n",
       "                    ).then(function(){\n",
       "                            \n",
       "var gd = document.getElementById('241366ba-2e5c-4d0a-8116-208a8aef7e5d');\n",
       "var x = new MutationObserver(function (mutations, observer) {{\n",
       "        var display = window.getComputedStyle(gd).display;\n",
       "        if (!display || display === 'none') {{\n",
       "            console.log([gd, 'removed!']);\n",
       "            Plotly.purge(gd);\n",
       "            observer.disconnect();\n",
       "        }}\n",
       "}});\n",
       "\n",
       "// Listen for the removal of the full notebook cells\n",
       "var notebookContainer = gd.closest('#notebook-container');\n",
       "if (notebookContainer) {{\n",
       "    x.observe(notebookContainer, {childList: true});\n",
       "}}\n",
       "\n",
       "// Listen for the clearing of the current output cell\n",
       "var outputEl = gd.closest('.output');\n",
       "if (outputEl) {{\n",
       "    x.observe(outputEl, {childList: true});\n",
       "}}\n",
       "\n",
       "                        })\n",
       "                };\n",
       "                });\n",
       "            </script>\n",
       "        </div>"
      ]
     },
     "metadata": {},
     "output_type": "display_data"
    }
   ],
   "source": [
    "count_to_plot = ['Panama']\n",
    "y_to_plot =  'Confirmed'\n",
    "x_lab = 'DaysSinceShutdown'\n",
    "x_axis = x_lab\n",
    "stat_to_plot = y_to_plot\n",
    "f = make_graph(count_to_plot, y_to_plot, x_lab, plot_style=0)\n",
    "f"
   ]
  },
  {
   "cell_type": "code",
   "execution_count": 28,
   "metadata": {},
   "outputs": [],
   "source": [
    "import dash\n",
    "import dash_core_components as dcc\n",
    "import dash_html_components as html\n",
    "from jupyter_plotly_dash import JupyterDash\n",
    "# import jupyterlab_dash"
   ]
  },
  {
   "cell_type": "code",
   "execution_count": 29,
   "metadata": {},
   "outputs": [],
   "source": [
    "# viewer = jupyterlab_dash.AppViewer()\n",
    "# app = dash.Dash('Covid-Tracking')\n",
    "external_stylesheets = ['https://codepen.io/chriddyp/pen/bWLwgP.css']\n",
    "app = JupyterDash('Covid-Tracking')"
   ]
  },
  {
   "cell_type": "code",
   "execution_count": 30,
   "metadata": {},
   "outputs": [],
   "source": [
    "app.layout = html.Div([\n",
    "    html.Div([\n",
    "        html.H2('COVID-19 Tracking',),\n",
    "        html.H4('Please hit \"Reset axis\" button after changing x-axis on plots; button in top right corner of each plot, shaped like house.'),\n",
    "        html.H4('You can also pan, zoom, and hover over datapoints in the plots.')\n",
    "    ]),\n",
    "    html.Div([    \n",
    "        html.P([\"Countries:\", \n",
    "            dcc.Dropdown(\n",
    "                id = 'country-select',\n",
    "    #             options = countries,\n",
    "                options = [{'label': stat_map.get(c, c), 'value': c} for c in countries],\n",
    "                value = ['Panama'],\n",
    "                multi = True\n",
    "            )\n",
    "        ]),\n",
    "    ], style = {\"width\": \"30%\", 'display': 'inline-block', 'text-align': 'center'} ),\n",
    "    html.Div([\n",
    "        html.P([\"Statistics:\",\n",
    "            dcc.Dropdown(\n",
    "                id = 'statistic-select',\n",
    "                options = [{'label': stat_map.get(s, s), 'value': s} for s in stats],\n",
    "                value = ['Confirmed'],\n",
    "                multi=True\n",
    "            )\n",
    "        ])\n",
    "    ], style = {'width':'30%', 'display':'inline-block', 'text-align': 'center'}),\n",
    "    html.Div([\n",
    "        html.P([\"X-Axis:\",\n",
    "            dcc.Dropdown(\n",
    "                id = 'x-axis-select',\n",
    "                options = [{'label': xs_map.get(x, x), 'value': x} for x in xs],\n",
    "                value = 'DaysSinceFirst',\n",
    "                multi=False\n",
    "            )\n",
    "        ])\n",
    "    ], style = {'width':'20%', 'display':'inline-block', 'text-align': 'center'}),\n",
    "    html.Div([\n",
    "        html.P([\"Graph Style:\",\n",
    "            dcc.Dropdown(\n",
    "                id = 'graph-style',\n",
    "                options = [{'label': 'Scatter', 'value': 0}, \n",
    "                           {'label': 'Bar' , 'value': 1},\n",
    "                           {'label': 'Line', 'value': 2}],\n",
    "                value = 0,\n",
    "                multi=False\n",
    "            )\n",
    "        ])\n",
    "    ], style = {'width':'20%', 'display':'inline-block', 'text-align': 'center'}),\n",
    "    \n",
    "    html.Div(children = html.Div(id='graphs'), className = 'row', style = {\"display\":'inline-block', 'width': '100%'}),\n",
    "\n",
    "    html.Div([\n",
    "        html.P(['Most data on confirms and deaths from Johns Hopkins. US data from covidtracking.com, Italy data from official repo. Other data independently gathered']),\n",
    "    ])\n",
    "#     dcc.Graph(id='graphs', style = {'width': '80%', 'display': 'inline-block'}),\n",
    "], className = 'container'\n",
    ")\n",
    "\n",
    "\n",
    "@app.callback(\n",
    "    dash.dependencies.Output('graphs', 'children'),\n",
    "    [dash.dependencies.Input('country-select', 'value'), dash.dependencies.Input('statistic-select', 'value'),\n",
    "    dash.dependencies.Input('x-axis-select', 'value'), dash.dependencies.Input('graph-style', 'value')]\n",
    ")\n",
    "def update_graph(countries, stats, x_axis, graph_style):\n",
    "    if len(stats)>2:\n",
    "        class_choice = 'col s12 m6 l4'\n",
    "    elif len(stats) == 2:\n",
    "        class_choice = 'col s12 m6 l6'\n",
    "    else:\n",
    "        class_choice = 'col s12'\n",
    "    #Returns a list of graphs\n",
    "    graphs = []\n",
    "#     return make_graph(countries, stats[0], scatter=False)\n",
    "    for plot_stat in stats:\n",
    "        g = make_graph(countries, plot_stat, x_axis, plot_style=graph_style)\n",
    "        graphs.append(html.Div(dcc.Graph(\n",
    "            id = plot_stat,\n",
    "            animate = True,\n",
    "            figure = g        \n",
    "            ), className = class_choice\n",
    "        ))\n",
    "    return graphs\n",
    "# viewer.show(app)"
   ]
  },
  {
   "cell_type": "code",
   "execution_count": 31,
   "metadata": {},
   "outputs": [
    {
     "data": {
      "text/html": [
       "<div>\n",
       "  <iframe src=\"/app/endpoints/6a7c6a0799e440049d52b60c78ab74eb/\" width=800 height=600 frameborder=\"0\"></iframe>\n",
       "  <hr/><a href=\"/app/endpoints/6a7c6a0799e440049d52b60c78ab74eb/\" target=\"_new\">Open in new window</a> for /app/endpoints/6a7c6a0799e440049d52b60c78ab74eb/\n",
       "</div>"
      ],
      "text/plain": [
       "<jupyter_plotly_dash.dash_wrapper.JupyterDash at 0x19b240a94c8>"
      ]
     },
     "execution_count": 31,
     "metadata": {},
     "output_type": "execute_result"
    }
   ],
   "source": [
    "app"
   ]
  },
  {
   "cell_type": "code",
   "execution_count": 160,
   "metadata": {},
   "outputs": [],
   "source": [
    "\n",
    "# pop.index = pop.index.rename(mapper = aliases)\n",
    "# pop.tail(50)\n",
    "# aliases"
   ]
  },
  {
   "cell_type": "code",
   "execution_count": 157,
   "metadata": {},
   "outputs": [],
   "source": [
    "# x = dat.unstack()\n",
    "\n",
    "# x.Population = get_pop(pop, list(x.index))\n",
    "\n"
   ]
  },
  {
   "cell_type": "code",
   "execution_count": 158,
   "metadata": {},
   "outputs": [
    {
     "data": {
      "text/html": [
       "<div>\n",
       "<style scoped>\n",
       "    .dataframe tbody tr th:only-of-type {\n",
       "        vertical-align: middle;\n",
       "    }\n",
       "\n",
       "    .dataframe tbody tr th {\n",
       "        vertical-align: top;\n",
       "    }\n",
       "\n",
       "    .dataframe thead th {\n",
       "        text-align: right;\n",
       "    }\n",
       "</style>\n",
       "<table border=\"1\" class=\"dataframe\">\n",
       "  <thead>\n",
       "    <tr style=\"text-align: right;\">\n",
       "      <th></th>\n",
       "      <th>Confirmed</th>\n",
       "      <th>Deaths</th>\n",
       "      <th>Home</th>\n",
       "      <th>Hospitalized</th>\n",
       "      <th>ICU</th>\n",
       "      <th>Shutdown</th>\n",
       "      <th>TotalTests</th>\n",
       "      <th>Recovered</th>\n",
       "      <th>NewCases</th>\n",
       "      <th>NewTests</th>\n",
       "      <th>DaysSinceFirst</th>\n",
       "      <th>ConfirmedGrowth</th>\n",
       "      <th>DaysSinceTenthDeath</th>\n",
       "      <th>DailyPosTestRate</th>\n",
       "      <th>CumulativePosTestRate</th>\n",
       "      <th>CumulativeDeathRate</th>\n",
       "      <th>Population</th>\n",
       "    </tr>\n",
       "    <tr>\n",
       "      <th>Date</th>\n",
       "      <th></th>\n",
       "      <th></th>\n",
       "      <th></th>\n",
       "      <th></th>\n",
       "      <th></th>\n",
       "      <th></th>\n",
       "      <th></th>\n",
       "      <th></th>\n",
       "      <th></th>\n",
       "      <th></th>\n",
       "      <th></th>\n",
       "      <th></th>\n",
       "      <th></th>\n",
       "      <th></th>\n",
       "      <th></th>\n",
       "      <th></th>\n",
       "      <th></th>\n",
       "    </tr>\n",
       "  </thead>\n",
       "  <tbody>\n",
       "    <tr>\n",
       "      <th>2020-01-22</th>\n",
       "      <td>1.0</td>\n",
       "      <td>0.0</td>\n",
       "      <td>NaN</td>\n",
       "      <td>NaN</td>\n",
       "      <td>NaN</td>\n",
       "      <td>NaN</td>\n",
       "      <td>NaN</td>\n",
       "      <td>NaN</td>\n",
       "      <td>NaN</td>\n",
       "      <td>NaN</td>\n",
       "      <td>0.0</td>\n",
       "      <td>NaN</td>\n",
       "      <td>NaN</td>\n",
       "      <td>NaN</td>\n",
       "      <td>NaN</td>\n",
       "      <td>0.000000</td>\n",
       "      <td>331002.647</td>\n",
       "    </tr>\n",
       "    <tr>\n",
       "      <th>2020-01-23</th>\n",
       "      <td>1.0</td>\n",
       "      <td>0.0</td>\n",
       "      <td>NaN</td>\n",
       "      <td>NaN</td>\n",
       "      <td>NaN</td>\n",
       "      <td>NaN</td>\n",
       "      <td>NaN</td>\n",
       "      <td>NaN</td>\n",
       "      <td>0.0</td>\n",
       "      <td>NaN</td>\n",
       "      <td>1.0</td>\n",
       "      <td>0.000000</td>\n",
       "      <td>NaN</td>\n",
       "      <td>NaN</td>\n",
       "      <td>NaN</td>\n",
       "      <td>0.000000</td>\n",
       "      <td>331002.647</td>\n",
       "    </tr>\n",
       "    <tr>\n",
       "      <th>2020-01-24</th>\n",
       "      <td>2.0</td>\n",
       "      <td>0.0</td>\n",
       "      <td>NaN</td>\n",
       "      <td>NaN</td>\n",
       "      <td>NaN</td>\n",
       "      <td>NaN</td>\n",
       "      <td>NaN</td>\n",
       "      <td>NaN</td>\n",
       "      <td>1.0</td>\n",
       "      <td>NaN</td>\n",
       "      <td>2.0</td>\n",
       "      <td>100.000000</td>\n",
       "      <td>NaN</td>\n",
       "      <td>NaN</td>\n",
       "      <td>NaN</td>\n",
       "      <td>0.000000</td>\n",
       "      <td>331002.647</td>\n",
       "    </tr>\n",
       "    <tr>\n",
       "      <th>2020-01-25</th>\n",
       "      <td>2.0</td>\n",
       "      <td>0.0</td>\n",
       "      <td>NaN</td>\n",
       "      <td>NaN</td>\n",
       "      <td>NaN</td>\n",
       "      <td>NaN</td>\n",
       "      <td>NaN</td>\n",
       "      <td>NaN</td>\n",
       "      <td>0.0</td>\n",
       "      <td>NaN</td>\n",
       "      <td>3.0</td>\n",
       "      <td>0.000000</td>\n",
       "      <td>NaN</td>\n",
       "      <td>NaN</td>\n",
       "      <td>NaN</td>\n",
       "      <td>0.000000</td>\n",
       "      <td>331002.647</td>\n",
       "    </tr>\n",
       "    <tr>\n",
       "      <th>2020-01-26</th>\n",
       "      <td>5.0</td>\n",
       "      <td>0.0</td>\n",
       "      <td>NaN</td>\n",
       "      <td>NaN</td>\n",
       "      <td>NaN</td>\n",
       "      <td>NaN</td>\n",
       "      <td>NaN</td>\n",
       "      <td>NaN</td>\n",
       "      <td>3.0</td>\n",
       "      <td>NaN</td>\n",
       "      <td>4.0</td>\n",
       "      <td>150.000000</td>\n",
       "      <td>NaN</td>\n",
       "      <td>NaN</td>\n",
       "      <td>NaN</td>\n",
       "      <td>0.000000</td>\n",
       "      <td>331002.647</td>\n",
       "    </tr>\n",
       "    <tr>\n",
       "      <th>...</th>\n",
       "      <td>...</td>\n",
       "      <td>...</td>\n",
       "      <td>...</td>\n",
       "      <td>...</td>\n",
       "      <td>...</td>\n",
       "      <td>...</td>\n",
       "      <td>...</td>\n",
       "      <td>...</td>\n",
       "      <td>...</td>\n",
       "      <td>...</td>\n",
       "      <td>...</td>\n",
       "      <td>...</td>\n",
       "      <td>...</td>\n",
       "      <td>...</td>\n",
       "      <td>...</td>\n",
       "      <td>...</td>\n",
       "      <td>...</td>\n",
       "    </tr>\n",
       "    <tr>\n",
       "      <th>2020-03-22</th>\n",
       "      <td>31879.0</td>\n",
       "      <td>398.0</td>\n",
       "      <td>NaN</td>\n",
       "      <td>2554.0</td>\n",
       "      <td>NaN</td>\n",
       "      <td>NaN</td>\n",
       "      <td>225342.0</td>\n",
       "      <td>NaN</td>\n",
       "      <td>8682.0</td>\n",
       "      <td>46236.0</td>\n",
       "      <td>60.0</td>\n",
       "      <td>37.427254</td>\n",
       "      <td>19.0</td>\n",
       "      <td>0.187776</td>\n",
       "      <td>0.141469</td>\n",
       "      <td>0.012485</td>\n",
       "      <td>331002.647</td>\n",
       "    </tr>\n",
       "    <tr>\n",
       "      <th>2020-03-23</th>\n",
       "      <td>42152.0</td>\n",
       "      <td>471.0</td>\n",
       "      <td>NaN</td>\n",
       "      <td>3325.0</td>\n",
       "      <td>NaN</td>\n",
       "      <td>NaN</td>\n",
       "      <td>279473.0</td>\n",
       "      <td>NaN</td>\n",
       "      <td>10273.0</td>\n",
       "      <td>54131.0</td>\n",
       "      <td>61.0</td>\n",
       "      <td>32.224976</td>\n",
       "      <td>20.0</td>\n",
       "      <td>0.189780</td>\n",
       "      <td>0.150827</td>\n",
       "      <td>0.011174</td>\n",
       "      <td>331002.647</td>\n",
       "    </tr>\n",
       "    <tr>\n",
       "      <th>2020-03-24</th>\n",
       "      <td>51954.0</td>\n",
       "      <td>675.0</td>\n",
       "      <td>NaN</td>\n",
       "      <td>4468.0</td>\n",
       "      <td>NaN</td>\n",
       "      <td>NaN</td>\n",
       "      <td>344712.0</td>\n",
       "      <td>NaN</td>\n",
       "      <td>9802.0</td>\n",
       "      <td>65239.0</td>\n",
       "      <td>62.0</td>\n",
       "      <td>23.253938</td>\n",
       "      <td>21.0</td>\n",
       "      <td>0.150248</td>\n",
       "      <td>0.150717</td>\n",
       "      <td>0.012992</td>\n",
       "      <td>331002.647</td>\n",
       "    </tr>\n",
       "    <tr>\n",
       "      <th>2020-03-25</th>\n",
       "      <td>63928.0</td>\n",
       "      <td>900.0</td>\n",
       "      <td>NaN</td>\n",
       "      <td>6136.0</td>\n",
       "      <td>NaN</td>\n",
       "      <td>NaN</td>\n",
       "      <td>421532.0</td>\n",
       "      <td>NaN</td>\n",
       "      <td>11974.0</td>\n",
       "      <td>76820.0</td>\n",
       "      <td>63.0</td>\n",
       "      <td>23.047311</td>\n",
       "      <td>22.0</td>\n",
       "      <td>0.155871</td>\n",
       "      <td>0.151656</td>\n",
       "      <td>0.014078</td>\n",
       "      <td>331002.647</td>\n",
       "    </tr>\n",
       "    <tr>\n",
       "      <th>2020-03-26</th>\n",
       "      <td>80735.0</td>\n",
       "      <td>1163.0</td>\n",
       "      <td>NaN</td>\n",
       "      <td>10131.0</td>\n",
       "      <td>NaN</td>\n",
       "      <td>NaN</td>\n",
       "      <td>519338.0</td>\n",
       "      <td>NaN</td>\n",
       "      <td>16807.0</td>\n",
       "      <td>97806.0</td>\n",
       "      <td>64.0</td>\n",
       "      <td>26.290514</td>\n",
       "      <td>23.0</td>\n",
       "      <td>0.171840</td>\n",
       "      <td>0.155458</td>\n",
       "      <td>0.014405</td>\n",
       "      <td>331002.647</td>\n",
       "    </tr>\n",
       "  </tbody>\n",
       "</table>\n",
       "<p>65 rows × 17 columns</p>\n",
       "</div>"
      ],
      "text/plain": [
       "            Confirmed  Deaths  Home  Hospitalized  ICU  Shutdown  TotalTests  \\\n",
       "Date                                                                           \n",
       "2020-01-22        1.0     0.0   NaN           NaN  NaN       NaN         NaN   \n",
       "2020-01-23        1.0     0.0   NaN           NaN  NaN       NaN         NaN   \n",
       "2020-01-24        2.0     0.0   NaN           NaN  NaN       NaN         NaN   \n",
       "2020-01-25        2.0     0.0   NaN           NaN  NaN       NaN         NaN   \n",
       "2020-01-26        5.0     0.0   NaN           NaN  NaN       NaN         NaN   \n",
       "...               ...     ...   ...           ...  ...       ...         ...   \n",
       "2020-03-22    31879.0   398.0   NaN        2554.0  NaN       NaN    225342.0   \n",
       "2020-03-23    42152.0   471.0   NaN        3325.0  NaN       NaN    279473.0   \n",
       "2020-03-24    51954.0   675.0   NaN        4468.0  NaN       NaN    344712.0   \n",
       "2020-03-25    63928.0   900.0   NaN        6136.0  NaN       NaN    421532.0   \n",
       "2020-03-26    80735.0  1163.0   NaN       10131.0  NaN       NaN    519338.0   \n",
       "\n",
       "            Recovered  NewCases  NewTests  DaysSinceFirst  ConfirmedGrowth  \\\n",
       "Date                                                                         \n",
       "2020-01-22        NaN       NaN       NaN             0.0              NaN   \n",
       "2020-01-23        NaN       0.0       NaN             1.0         0.000000   \n",
       "2020-01-24        NaN       1.0       NaN             2.0       100.000000   \n",
       "2020-01-25        NaN       0.0       NaN             3.0         0.000000   \n",
       "2020-01-26        NaN       3.0       NaN             4.0       150.000000   \n",
       "...               ...       ...       ...             ...              ...   \n",
       "2020-03-22        NaN    8682.0   46236.0            60.0        37.427254   \n",
       "2020-03-23        NaN   10273.0   54131.0            61.0        32.224976   \n",
       "2020-03-24        NaN    9802.0   65239.0            62.0        23.253938   \n",
       "2020-03-25        NaN   11974.0   76820.0            63.0        23.047311   \n",
       "2020-03-26        NaN   16807.0   97806.0            64.0        26.290514   \n",
       "\n",
       "            DaysSinceTenthDeath  DailyPosTestRate  CumulativePosTestRate  \\\n",
       "Date                                                                       \n",
       "2020-01-22                  NaN               NaN                    NaN   \n",
       "2020-01-23                  NaN               NaN                    NaN   \n",
       "2020-01-24                  NaN               NaN                    NaN   \n",
       "2020-01-25                  NaN               NaN                    NaN   \n",
       "2020-01-26                  NaN               NaN                    NaN   \n",
       "...                         ...               ...                    ...   \n",
       "2020-03-22                 19.0          0.187776               0.141469   \n",
       "2020-03-23                 20.0          0.189780               0.150827   \n",
       "2020-03-24                 21.0          0.150248               0.150717   \n",
       "2020-03-25                 22.0          0.155871               0.151656   \n",
       "2020-03-26                 23.0          0.171840               0.155458   \n",
       "\n",
       "            CumulativeDeathRate  Population  \n",
       "Date                                         \n",
       "2020-01-22             0.000000  331002.647  \n",
       "2020-01-23             0.000000  331002.647  \n",
       "2020-01-24             0.000000  331002.647  \n",
       "2020-01-25             0.000000  331002.647  \n",
       "2020-01-26             0.000000  331002.647  \n",
       "...                         ...         ...  \n",
       "2020-03-22             0.012485  331002.647  \n",
       "2020-03-23             0.011174  331002.647  \n",
       "2020-03-24             0.012992  331002.647  \n",
       "2020-03-25             0.014078  331002.647  \n",
       "2020-03-26             0.014405  331002.647  \n",
       "\n",
       "[65 rows x 17 columns]"
      ]
     },
     "execution_count": 158,
     "metadata": {},
     "output_type": "execute_result"
    }
   ],
   "source": [
    "x.loc['US']"
   ]
  }
 ],
 "metadata": {
  "kernelspec": {
   "display_name": "Python 3",
   "language": "python",
   "name": "python3"
  },
  "language_info": {
   "codemirror_mode": {
    "name": "ipython",
    "version": 3
   },
   "file_extension": ".py",
   "mimetype": "text/x-python",
   "name": "python",
   "nbconvert_exporter": "python",
   "pygments_lexer": "ipython3",
   "version": "3.7.4"
  }
 },
 "nbformat": 4,
 "nbformat_minor": 4
}
